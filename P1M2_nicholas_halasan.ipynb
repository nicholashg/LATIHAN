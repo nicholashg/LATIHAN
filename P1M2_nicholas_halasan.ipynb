{
 "cells": [
  {
   "cell_type": "markdown",
   "metadata": {},
   "source": [
    "# **i. Perkenalan**\n",
    "\n",
    "---\n",
    "`Nama` : Nicholas Halasan\n",
    "\n",
    "`Batch` : 008-HCK\n",
    "\n",
    "`Dataset` : house-price-predicition\n",
    "\n",
    "`Tujuan` : Tujuan utama proyek ini adalah mengembangkan model prediksi harga rumah yang dapat memberikan estimasi yang akurat berdasarkan berbagai fitur dan faktor yang memengaruhi harga properti.\n",
    "\n",
    "`Project`: MILESTONE 2\n",
    "\n",
    "---\n",
    "Latar Belakang :\n",
    "\n",
    "Dalam beberapa tahun terakhir, pasar properti telah menjadi salah satu sektor ekonomi yang paling dinamis. Permintaan akan rumah terus meningkat, sementara faktor-faktor seperti lokasi, fasilitas, dan kondisi pasar dapat mempengaruhi harga properti secara signifikan. Oleh karena itu, kemampuan untuk secara akurat memprediksi harga rumah menjadi krusial bagi pembeli, penjual, dan pemegang kepentingan lainnya di pasar properti.\n",
    "\n",
    "Dengan kemajuan teknologi dan ketersediaan data yang melimpah, machine learning menjadi solusi yang efektif untuk menghadapi tantangan tersebut. Pembuatan model prediksi harga rumah menggunakan machine learning dapat memberikan wawasan yang lebih mendalam tentang faktor-faktor apa yang paling berpengaruh pada harga properti.\n",
    "\n",
    "---\n",
    "Problem Statement : \n",
    "\n",
    "Perusahaan real estate XYZ memiliki sejumlah properti di pasar yang berkembang pesat. Dalam upaya untuk meningkatkan efisiensi penjualan dan memberikan pengalaman yang lebih baik kepada pelanggan, perusahaan ingin mengembangkan model prediksi harga rumah. Model ini diharapkan dapat membantu agen real estate dan pembeli untuk mendapatkan perkiraan harga yang akurat dan realistis."
   ]
  },
  {
   "cell_type": "markdown",
   "metadata": {},
   "source": [
    "# **ii. Import Libraries**"
   ]
  },
  {
   "cell_type": "markdown",
   "metadata": {},
   "source": [
    ">Cell pertama pada notebook harus berisi dan hanya berisi semua library yang digunakan dalam project."
   ]
  },
  {
   "cell_type": "code",
   "execution_count": 1,
   "metadata": {},
   "outputs": [],
   "source": [
    "import pandas as pd\n",
    "import numpy as np\n",
    "import seaborn as sns\n",
    "import matplotlib.pyplot as plt\n",
    "from scipy import stats\n",
    "from scipy.stats import kendalltau\n",
    "import pickle\n",
    "import plotly.express  as px \n",
    "\n",
    "\n",
    "# preprocessing\n",
    "from sklearn.model_selection import train_test_split\n",
    "from sklearn.preprocessing import MinMaxScaler\n",
    "from feature_engine.outliers import Winsorizer , OutlierTrimmer\n",
    "from imblearn.over_sampling import SMOTENC\n",
    "import statsmodels.api as sm\n",
    "from statsmodels.stats.outliers_influence import variance_inflation_factor\n",
    "from sklearn.pipeline import Pipeline\n",
    "from sklearn.compose import ColumnTransformer\n",
    "from sklearn.preprocessing import StandardScaler, OrdinalEncoder,OneHotEncoder\n",
    "\n",
    "\n",
    "# model \n",
    "# model \n",
    "from sklearn.neighbors import KNeighborsRegressor\n",
    "from sklearn.svm import SVR\n",
    "from sklearn.ensemble import  AdaBoostRegressor, RandomForestRegressor\n",
    "from sklearn.tree import DecisionTreeRegressor\n",
    "from sklearn.linear_model import LinearRegression\n",
    "\n",
    "\n",
    "from sklearn.model_selection import cross_validate\n",
    "from sklearn.model_selection import RandomizedSearchCV, GridSearchCV\n",
    "from sklearn.metrics import make_scorer, mean_absolute_error, mean_squared_error, mean_squared_log_error, r2_score, mean_absolute_percentage_error\n",
    "\n",
    "from sklearn.svm import SVC\n",
    "\n",
    "from sklearn.metrics import classification_report, confusion_matrix, ConfusionMatrixDisplay, f1_score, accuracy_score, precision_score, recall_score\n",
    "from sklearn.model_selection import cross_val_score\n",
    "\n",
    "from sklearn.linear_model import SGDRegressor\n",
    "from sklearn.datasets import make_regression\n",
    "from sklearn.metrics import mean_squared_error"
   ]
  },
  {
   "cell_type": "markdown",
   "metadata": {},
   "source": [
    "# **iii. Data Loading**"
   ]
  },
  {
   "cell_type": "markdown",
   "metadata": {},
   "source": [
    "> Bagian ini berisi proses penyiapan data sebelum dilakukan eksplorasi data lebih lanjut. Proses Data Loading dapat berupa memberi nama baru untuk setiap kolom, mengecek ukuran dataset, dll."
   ]
  },
  {
   "cell_type": "code",
   "execution_count": 2,
   "metadata": {},
   "outputs": [
    {
     "data": {
      "text/html": [
       "<div>\n",
       "<style scoped>\n",
       "    .dataframe tbody tr th:only-of-type {\n",
       "        vertical-align: middle;\n",
       "    }\n",
       "\n",
       "    .dataframe tbody tr th {\n",
       "        vertical-align: top;\n",
       "    }\n",
       "\n",
       "    .dataframe thead th {\n",
       "        text-align: right;\n",
       "    }\n",
       "</style>\n",
       "<table border=\"1\" class=\"dataframe\">\n",
       "  <thead>\n",
       "    <tr style=\"text-align: right;\">\n",
       "      <th></th>\n",
       "      <th>date</th>\n",
       "      <th>price</th>\n",
       "      <th>bedrooms</th>\n",
       "      <th>bathrooms</th>\n",
       "      <th>sqft_living</th>\n",
       "      <th>sqft_lot</th>\n",
       "      <th>floors</th>\n",
       "      <th>waterfront</th>\n",
       "      <th>view</th>\n",
       "      <th>condition</th>\n",
       "      <th>sqft_above</th>\n",
       "      <th>sqft_basement</th>\n",
       "      <th>yr_built</th>\n",
       "      <th>yr_renovated</th>\n",
       "      <th>street</th>\n",
       "      <th>city</th>\n",
       "      <th>statezip</th>\n",
       "      <th>country</th>\n",
       "    </tr>\n",
       "  </thead>\n",
       "  <tbody>\n",
       "    <tr>\n",
       "      <th>0</th>\n",
       "      <td>2014-05-02 00:00:00</td>\n",
       "      <td>313000.0</td>\n",
       "      <td>3.0</td>\n",
       "      <td>1.50</td>\n",
       "      <td>1340</td>\n",
       "      <td>7912</td>\n",
       "      <td>1.5</td>\n",
       "      <td>0</td>\n",
       "      <td>0</td>\n",
       "      <td>3</td>\n",
       "      <td>1340</td>\n",
       "      <td>0</td>\n",
       "      <td>1955</td>\n",
       "      <td>2005</td>\n",
       "      <td>18810 Densmore Ave N</td>\n",
       "      <td>Shoreline</td>\n",
       "      <td>WA 98133</td>\n",
       "      <td>USA</td>\n",
       "    </tr>\n",
       "    <tr>\n",
       "      <th>1</th>\n",
       "      <td>2014-05-02 00:00:00</td>\n",
       "      <td>2384000.0</td>\n",
       "      <td>5.0</td>\n",
       "      <td>2.50</td>\n",
       "      <td>3650</td>\n",
       "      <td>9050</td>\n",
       "      <td>2.0</td>\n",
       "      <td>0</td>\n",
       "      <td>4</td>\n",
       "      <td>5</td>\n",
       "      <td>3370</td>\n",
       "      <td>280</td>\n",
       "      <td>1921</td>\n",
       "      <td>0</td>\n",
       "      <td>709 W Blaine St</td>\n",
       "      <td>Seattle</td>\n",
       "      <td>WA 98119</td>\n",
       "      <td>USA</td>\n",
       "    </tr>\n",
       "    <tr>\n",
       "      <th>2</th>\n",
       "      <td>2014-05-02 00:00:00</td>\n",
       "      <td>342000.0</td>\n",
       "      <td>3.0</td>\n",
       "      <td>2.00</td>\n",
       "      <td>1930</td>\n",
       "      <td>11947</td>\n",
       "      <td>1.0</td>\n",
       "      <td>0</td>\n",
       "      <td>0</td>\n",
       "      <td>4</td>\n",
       "      <td>1930</td>\n",
       "      <td>0</td>\n",
       "      <td>1966</td>\n",
       "      <td>0</td>\n",
       "      <td>26206-26214 143rd Ave SE</td>\n",
       "      <td>Kent</td>\n",
       "      <td>WA 98042</td>\n",
       "      <td>USA</td>\n",
       "    </tr>\n",
       "    <tr>\n",
       "      <th>3</th>\n",
       "      <td>2014-05-02 00:00:00</td>\n",
       "      <td>420000.0</td>\n",
       "      <td>3.0</td>\n",
       "      <td>2.25</td>\n",
       "      <td>2000</td>\n",
       "      <td>8030</td>\n",
       "      <td>1.0</td>\n",
       "      <td>0</td>\n",
       "      <td>0</td>\n",
       "      <td>4</td>\n",
       "      <td>1000</td>\n",
       "      <td>1000</td>\n",
       "      <td>1963</td>\n",
       "      <td>0</td>\n",
       "      <td>857 170th Pl NE</td>\n",
       "      <td>Bellevue</td>\n",
       "      <td>WA 98008</td>\n",
       "      <td>USA</td>\n",
       "    </tr>\n",
       "    <tr>\n",
       "      <th>4</th>\n",
       "      <td>2014-05-02 00:00:00</td>\n",
       "      <td>550000.0</td>\n",
       "      <td>4.0</td>\n",
       "      <td>2.50</td>\n",
       "      <td>1940</td>\n",
       "      <td>10500</td>\n",
       "      <td>1.0</td>\n",
       "      <td>0</td>\n",
       "      <td>0</td>\n",
       "      <td>4</td>\n",
       "      <td>1140</td>\n",
       "      <td>800</td>\n",
       "      <td>1976</td>\n",
       "      <td>1992</td>\n",
       "      <td>9105 170th Ave NE</td>\n",
       "      <td>Redmond</td>\n",
       "      <td>WA 98052</td>\n",
       "      <td>USA</td>\n",
       "    </tr>\n",
       "    <tr>\n",
       "      <th>5</th>\n",
       "      <td>2014-05-02 00:00:00</td>\n",
       "      <td>490000.0</td>\n",
       "      <td>2.0</td>\n",
       "      <td>1.00</td>\n",
       "      <td>880</td>\n",
       "      <td>6380</td>\n",
       "      <td>1.0</td>\n",
       "      <td>0</td>\n",
       "      <td>0</td>\n",
       "      <td>3</td>\n",
       "      <td>880</td>\n",
       "      <td>0</td>\n",
       "      <td>1938</td>\n",
       "      <td>1994</td>\n",
       "      <td>522 NE 88th St</td>\n",
       "      <td>Seattle</td>\n",
       "      <td>WA 98115</td>\n",
       "      <td>USA</td>\n",
       "    </tr>\n",
       "    <tr>\n",
       "      <th>6</th>\n",
       "      <td>2014-05-02 00:00:00</td>\n",
       "      <td>335000.0</td>\n",
       "      <td>2.0</td>\n",
       "      <td>2.00</td>\n",
       "      <td>1350</td>\n",
       "      <td>2560</td>\n",
       "      <td>1.0</td>\n",
       "      <td>0</td>\n",
       "      <td>0</td>\n",
       "      <td>3</td>\n",
       "      <td>1350</td>\n",
       "      <td>0</td>\n",
       "      <td>1976</td>\n",
       "      <td>0</td>\n",
       "      <td>2616 174th Ave NE</td>\n",
       "      <td>Redmond</td>\n",
       "      <td>WA 98052</td>\n",
       "      <td>USA</td>\n",
       "    </tr>\n",
       "    <tr>\n",
       "      <th>7</th>\n",
       "      <td>2014-05-02 00:00:00</td>\n",
       "      <td>482000.0</td>\n",
       "      <td>4.0</td>\n",
       "      <td>2.50</td>\n",
       "      <td>2710</td>\n",
       "      <td>35868</td>\n",
       "      <td>2.0</td>\n",
       "      <td>0</td>\n",
       "      <td>0</td>\n",
       "      <td>3</td>\n",
       "      <td>2710</td>\n",
       "      <td>0</td>\n",
       "      <td>1989</td>\n",
       "      <td>0</td>\n",
       "      <td>23762 SE 253rd Pl</td>\n",
       "      <td>Maple Valley</td>\n",
       "      <td>WA 98038</td>\n",
       "      <td>USA</td>\n",
       "    </tr>\n",
       "    <tr>\n",
       "      <th>8</th>\n",
       "      <td>2014-05-02 00:00:00</td>\n",
       "      <td>452500.0</td>\n",
       "      <td>3.0</td>\n",
       "      <td>2.50</td>\n",
       "      <td>2430</td>\n",
       "      <td>88426</td>\n",
       "      <td>1.0</td>\n",
       "      <td>0</td>\n",
       "      <td>0</td>\n",
       "      <td>4</td>\n",
       "      <td>1570</td>\n",
       "      <td>860</td>\n",
       "      <td>1985</td>\n",
       "      <td>0</td>\n",
       "      <td>46611-46625 SE 129th St</td>\n",
       "      <td>North Bend</td>\n",
       "      <td>WA 98045</td>\n",
       "      <td>USA</td>\n",
       "    </tr>\n",
       "    <tr>\n",
       "      <th>9</th>\n",
       "      <td>2014-05-02 00:00:00</td>\n",
       "      <td>640000.0</td>\n",
       "      <td>4.0</td>\n",
       "      <td>2.00</td>\n",
       "      <td>1520</td>\n",
       "      <td>6200</td>\n",
       "      <td>1.5</td>\n",
       "      <td>0</td>\n",
       "      <td>0</td>\n",
       "      <td>3</td>\n",
       "      <td>1520</td>\n",
       "      <td>0</td>\n",
       "      <td>1945</td>\n",
       "      <td>2010</td>\n",
       "      <td>6811 55th Ave NE</td>\n",
       "      <td>Seattle</td>\n",
       "      <td>WA 98115</td>\n",
       "      <td>USA</td>\n",
       "    </tr>\n",
       "  </tbody>\n",
       "</table>\n",
       "</div>"
      ],
      "text/plain": [
       "                  date      price  bedrooms  bathrooms  sqft_living  sqft_lot  \\\n",
       "0  2014-05-02 00:00:00   313000.0       3.0       1.50         1340      7912   \n",
       "1  2014-05-02 00:00:00  2384000.0       5.0       2.50         3650      9050   \n",
       "2  2014-05-02 00:00:00   342000.0       3.0       2.00         1930     11947   \n",
       "3  2014-05-02 00:00:00   420000.0       3.0       2.25         2000      8030   \n",
       "4  2014-05-02 00:00:00   550000.0       4.0       2.50         1940     10500   \n",
       "5  2014-05-02 00:00:00   490000.0       2.0       1.00          880      6380   \n",
       "6  2014-05-02 00:00:00   335000.0       2.0       2.00         1350      2560   \n",
       "7  2014-05-02 00:00:00   482000.0       4.0       2.50         2710     35868   \n",
       "8  2014-05-02 00:00:00   452500.0       3.0       2.50         2430     88426   \n",
       "9  2014-05-02 00:00:00   640000.0       4.0       2.00         1520      6200   \n",
       "\n",
       "   floors  waterfront  view  condition  sqft_above  sqft_basement  yr_built  \\\n",
       "0     1.5           0     0          3        1340              0      1955   \n",
       "1     2.0           0     4          5        3370            280      1921   \n",
       "2     1.0           0     0          4        1930              0      1966   \n",
       "3     1.0           0     0          4        1000           1000      1963   \n",
       "4     1.0           0     0          4        1140            800      1976   \n",
       "5     1.0           0     0          3         880              0      1938   \n",
       "6     1.0           0     0          3        1350              0      1976   \n",
       "7     2.0           0     0          3        2710              0      1989   \n",
       "8     1.0           0     0          4        1570            860      1985   \n",
       "9     1.5           0     0          3        1520              0      1945   \n",
       "\n",
       "   yr_renovated                    street          city  statezip country  \n",
       "0          2005      18810 Densmore Ave N     Shoreline  WA 98133     USA  \n",
       "1             0           709 W Blaine St       Seattle  WA 98119     USA  \n",
       "2             0  26206-26214 143rd Ave SE          Kent  WA 98042     USA  \n",
       "3             0           857 170th Pl NE      Bellevue  WA 98008     USA  \n",
       "4          1992         9105 170th Ave NE       Redmond  WA 98052     USA  \n",
       "5          1994            522 NE 88th St       Seattle  WA 98115     USA  \n",
       "6             0         2616 174th Ave NE       Redmond  WA 98052     USA  \n",
       "7             0         23762 SE 253rd Pl  Maple Valley  WA 98038     USA  \n",
       "8             0   46611-46625 SE 129th St    North Bend  WA 98045     USA  \n",
       "9          2010          6811 55th Ave NE       Seattle  WA 98115     USA  "
      ]
     },
     "execution_count": 2,
     "metadata": {},
     "output_type": "execute_result"
    }
   ],
   "source": [
    "#import file csv 'houseprice'\n",
    "data = pd.read_csv('houseprice.csv')\n",
    "data.head(10) #tunjukan 10 data pertama"
   ]
  },
  {
   "cell_type": "code",
   "execution_count": 3,
   "metadata": {},
   "outputs": [
    {
     "data": {
      "text/html": [
       "<div>\n",
       "<style scoped>\n",
       "    .dataframe tbody tr th:only-of-type {\n",
       "        vertical-align: middle;\n",
       "    }\n",
       "\n",
       "    .dataframe tbody tr th {\n",
       "        vertical-align: top;\n",
       "    }\n",
       "\n",
       "    .dataframe thead th {\n",
       "        text-align: right;\n",
       "    }\n",
       "</style>\n",
       "<table border=\"1\" class=\"dataframe\">\n",
       "  <thead>\n",
       "    <tr style=\"text-align: right;\">\n",
       "      <th></th>\n",
       "      <th>date</th>\n",
       "      <th>price</th>\n",
       "      <th>bedrooms</th>\n",
       "      <th>bathrooms</th>\n",
       "      <th>sqft_living</th>\n",
       "      <th>sqft_lot</th>\n",
       "      <th>floors</th>\n",
       "      <th>waterfront</th>\n",
       "      <th>view</th>\n",
       "      <th>condition</th>\n",
       "      <th>sqft_above</th>\n",
       "      <th>sqft_basement</th>\n",
       "      <th>yr_built</th>\n",
       "      <th>yr_renovated</th>\n",
       "      <th>street</th>\n",
       "      <th>city</th>\n",
       "      <th>statezip</th>\n",
       "      <th>country</th>\n",
       "    </tr>\n",
       "  </thead>\n",
       "  <tbody>\n",
       "    <tr>\n",
       "      <th>4590</th>\n",
       "      <td>2014-07-08 00:00:00</td>\n",
       "      <td>380680.555556</td>\n",
       "      <td>4.0</td>\n",
       "      <td>2.50</td>\n",
       "      <td>2620</td>\n",
       "      <td>8331</td>\n",
       "      <td>2.0</td>\n",
       "      <td>0</td>\n",
       "      <td>0</td>\n",
       "      <td>3</td>\n",
       "      <td>2620</td>\n",
       "      <td>0</td>\n",
       "      <td>1991</td>\n",
       "      <td>0</td>\n",
       "      <td>13602 SE 186th Pl</td>\n",
       "      <td>Renton</td>\n",
       "      <td>WA 98058</td>\n",
       "      <td>USA</td>\n",
       "    </tr>\n",
       "    <tr>\n",
       "      <th>4591</th>\n",
       "      <td>2014-07-08 00:00:00</td>\n",
       "      <td>396166.666667</td>\n",
       "      <td>3.0</td>\n",
       "      <td>1.75</td>\n",
       "      <td>1880</td>\n",
       "      <td>5752</td>\n",
       "      <td>1.0</td>\n",
       "      <td>0</td>\n",
       "      <td>0</td>\n",
       "      <td>4</td>\n",
       "      <td>940</td>\n",
       "      <td>940</td>\n",
       "      <td>1945</td>\n",
       "      <td>0</td>\n",
       "      <td>3529 SW Webster St</td>\n",
       "      <td>Seattle</td>\n",
       "      <td>WA 98126</td>\n",
       "      <td>USA</td>\n",
       "    </tr>\n",
       "    <tr>\n",
       "      <th>4592</th>\n",
       "      <td>2014-07-08 00:00:00</td>\n",
       "      <td>252980.000000</td>\n",
       "      <td>4.0</td>\n",
       "      <td>2.50</td>\n",
       "      <td>2530</td>\n",
       "      <td>8169</td>\n",
       "      <td>2.0</td>\n",
       "      <td>0</td>\n",
       "      <td>0</td>\n",
       "      <td>3</td>\n",
       "      <td>2530</td>\n",
       "      <td>0</td>\n",
       "      <td>1993</td>\n",
       "      <td>0</td>\n",
       "      <td>37654 18th Pl S</td>\n",
       "      <td>Federal Way</td>\n",
       "      <td>WA 98003</td>\n",
       "      <td>USA</td>\n",
       "    </tr>\n",
       "    <tr>\n",
       "      <th>4593</th>\n",
       "      <td>2014-07-08 00:00:00</td>\n",
       "      <td>289373.307692</td>\n",
       "      <td>3.0</td>\n",
       "      <td>2.50</td>\n",
       "      <td>2538</td>\n",
       "      <td>4600</td>\n",
       "      <td>2.0</td>\n",
       "      <td>0</td>\n",
       "      <td>0</td>\n",
       "      <td>3</td>\n",
       "      <td>2538</td>\n",
       "      <td>0</td>\n",
       "      <td>2013</td>\n",
       "      <td>1923</td>\n",
       "      <td>5703 Charlotte Ave SE</td>\n",
       "      <td>Auburn</td>\n",
       "      <td>WA 98092</td>\n",
       "      <td>USA</td>\n",
       "    </tr>\n",
       "    <tr>\n",
       "      <th>4594</th>\n",
       "      <td>2014-07-09 00:00:00</td>\n",
       "      <td>210614.285714</td>\n",
       "      <td>3.0</td>\n",
       "      <td>2.50</td>\n",
       "      <td>1610</td>\n",
       "      <td>7223</td>\n",
       "      <td>2.0</td>\n",
       "      <td>0</td>\n",
       "      <td>0</td>\n",
       "      <td>3</td>\n",
       "      <td>1610</td>\n",
       "      <td>0</td>\n",
       "      <td>1994</td>\n",
       "      <td>0</td>\n",
       "      <td>26306 127th Ave SE</td>\n",
       "      <td>Kent</td>\n",
       "      <td>WA 98030</td>\n",
       "      <td>USA</td>\n",
       "    </tr>\n",
       "    <tr>\n",
       "      <th>4595</th>\n",
       "      <td>2014-07-09 00:00:00</td>\n",
       "      <td>308166.666667</td>\n",
       "      <td>3.0</td>\n",
       "      <td>1.75</td>\n",
       "      <td>1510</td>\n",
       "      <td>6360</td>\n",
       "      <td>1.0</td>\n",
       "      <td>0</td>\n",
       "      <td>0</td>\n",
       "      <td>4</td>\n",
       "      <td>1510</td>\n",
       "      <td>0</td>\n",
       "      <td>1954</td>\n",
       "      <td>1979</td>\n",
       "      <td>501 N 143rd St</td>\n",
       "      <td>Seattle</td>\n",
       "      <td>WA 98133</td>\n",
       "      <td>USA</td>\n",
       "    </tr>\n",
       "    <tr>\n",
       "      <th>4596</th>\n",
       "      <td>2014-07-09 00:00:00</td>\n",
       "      <td>534333.333333</td>\n",
       "      <td>3.0</td>\n",
       "      <td>2.50</td>\n",
       "      <td>1460</td>\n",
       "      <td>7573</td>\n",
       "      <td>2.0</td>\n",
       "      <td>0</td>\n",
       "      <td>0</td>\n",
       "      <td>3</td>\n",
       "      <td>1460</td>\n",
       "      <td>0</td>\n",
       "      <td>1983</td>\n",
       "      <td>2009</td>\n",
       "      <td>14855 SE 10th Pl</td>\n",
       "      <td>Bellevue</td>\n",
       "      <td>WA 98007</td>\n",
       "      <td>USA</td>\n",
       "    </tr>\n",
       "    <tr>\n",
       "      <th>4597</th>\n",
       "      <td>2014-07-09 00:00:00</td>\n",
       "      <td>416904.166667</td>\n",
       "      <td>3.0</td>\n",
       "      <td>2.50</td>\n",
       "      <td>3010</td>\n",
       "      <td>7014</td>\n",
       "      <td>2.0</td>\n",
       "      <td>0</td>\n",
       "      <td>0</td>\n",
       "      <td>3</td>\n",
       "      <td>3010</td>\n",
       "      <td>0</td>\n",
       "      <td>2009</td>\n",
       "      <td>0</td>\n",
       "      <td>759 Ilwaco Pl NE</td>\n",
       "      <td>Renton</td>\n",
       "      <td>WA 98059</td>\n",
       "      <td>USA</td>\n",
       "    </tr>\n",
       "    <tr>\n",
       "      <th>4598</th>\n",
       "      <td>2014-07-10 00:00:00</td>\n",
       "      <td>203400.000000</td>\n",
       "      <td>4.0</td>\n",
       "      <td>2.00</td>\n",
       "      <td>2090</td>\n",
       "      <td>6630</td>\n",
       "      <td>1.0</td>\n",
       "      <td>0</td>\n",
       "      <td>0</td>\n",
       "      <td>3</td>\n",
       "      <td>1070</td>\n",
       "      <td>1020</td>\n",
       "      <td>1974</td>\n",
       "      <td>0</td>\n",
       "      <td>5148 S Creston St</td>\n",
       "      <td>Seattle</td>\n",
       "      <td>WA 98178</td>\n",
       "      <td>USA</td>\n",
       "    </tr>\n",
       "    <tr>\n",
       "      <th>4599</th>\n",
       "      <td>2014-07-10 00:00:00</td>\n",
       "      <td>220600.000000</td>\n",
       "      <td>3.0</td>\n",
       "      <td>2.50</td>\n",
       "      <td>1490</td>\n",
       "      <td>8102</td>\n",
       "      <td>2.0</td>\n",
       "      <td>0</td>\n",
       "      <td>0</td>\n",
       "      <td>4</td>\n",
       "      <td>1490</td>\n",
       "      <td>0</td>\n",
       "      <td>1990</td>\n",
       "      <td>0</td>\n",
       "      <td>18717 SE 258th St</td>\n",
       "      <td>Covington</td>\n",
       "      <td>WA 98042</td>\n",
       "      <td>USA</td>\n",
       "    </tr>\n",
       "  </tbody>\n",
       "</table>\n",
       "</div>"
      ],
      "text/plain": [
       "                     date          price  bedrooms  bathrooms  sqft_living  \\\n",
       "4590  2014-07-08 00:00:00  380680.555556       4.0       2.50         2620   \n",
       "4591  2014-07-08 00:00:00  396166.666667       3.0       1.75         1880   \n",
       "4592  2014-07-08 00:00:00  252980.000000       4.0       2.50         2530   \n",
       "4593  2014-07-08 00:00:00  289373.307692       3.0       2.50         2538   \n",
       "4594  2014-07-09 00:00:00  210614.285714       3.0       2.50         1610   \n",
       "4595  2014-07-09 00:00:00  308166.666667       3.0       1.75         1510   \n",
       "4596  2014-07-09 00:00:00  534333.333333       3.0       2.50         1460   \n",
       "4597  2014-07-09 00:00:00  416904.166667       3.0       2.50         3010   \n",
       "4598  2014-07-10 00:00:00  203400.000000       4.0       2.00         2090   \n",
       "4599  2014-07-10 00:00:00  220600.000000       3.0       2.50         1490   \n",
       "\n",
       "      sqft_lot  floors  waterfront  view  condition  sqft_above  \\\n",
       "4590      8331     2.0           0     0          3        2620   \n",
       "4591      5752     1.0           0     0          4         940   \n",
       "4592      8169     2.0           0     0          3        2530   \n",
       "4593      4600     2.0           0     0          3        2538   \n",
       "4594      7223     2.0           0     0          3        1610   \n",
       "4595      6360     1.0           0     0          4        1510   \n",
       "4596      7573     2.0           0     0          3        1460   \n",
       "4597      7014     2.0           0     0          3        3010   \n",
       "4598      6630     1.0           0     0          3        1070   \n",
       "4599      8102     2.0           0     0          4        1490   \n",
       "\n",
       "      sqft_basement  yr_built  yr_renovated                 street  \\\n",
       "4590              0      1991             0      13602 SE 186th Pl   \n",
       "4591            940      1945             0     3529 SW Webster St   \n",
       "4592              0      1993             0        37654 18th Pl S   \n",
       "4593              0      2013          1923  5703 Charlotte Ave SE   \n",
       "4594              0      1994             0     26306 127th Ave SE   \n",
       "4595              0      1954          1979         501 N 143rd St   \n",
       "4596              0      1983          2009       14855 SE 10th Pl   \n",
       "4597              0      2009             0       759 Ilwaco Pl NE   \n",
       "4598           1020      1974             0      5148 S Creston St   \n",
       "4599              0      1990             0      18717 SE 258th St   \n",
       "\n",
       "             city  statezip country  \n",
       "4590       Renton  WA 98058     USA  \n",
       "4591      Seattle  WA 98126     USA  \n",
       "4592  Federal Way  WA 98003     USA  \n",
       "4593       Auburn  WA 98092     USA  \n",
       "4594         Kent  WA 98030     USA  \n",
       "4595      Seattle  WA 98133     USA  \n",
       "4596     Bellevue  WA 98007     USA  \n",
       "4597       Renton  WA 98059     USA  \n",
       "4598      Seattle  WA 98178     USA  \n",
       "4599    Covington  WA 98042     USA  "
      ]
     },
     "execution_count": 3,
     "metadata": {},
     "output_type": "execute_result"
    }
   ],
   "source": [
    "#menampilkan 10 data terakhir\n",
    "data.tail(10)"
   ]
  },
  {
   "cell_type": "code",
   "execution_count": 4,
   "metadata": {},
   "outputs": [],
   "source": [
    "# Duplicate Data\n",
    "dataduplicate = data.copy()"
   ]
  },
  {
   "cell_type": "code",
   "execution_count": 5,
   "metadata": {},
   "outputs": [
    {
     "name": "stdout",
     "output_type": "stream",
     "text": [
      "<class 'pandas.core.frame.DataFrame'>\n",
      "RangeIndex: 4600 entries, 0 to 4599\n",
      "Data columns (total 18 columns):\n",
      " #   Column         Non-Null Count  Dtype  \n",
      "---  ------         --------------  -----  \n",
      " 0   date           4600 non-null   object \n",
      " 1   price          4600 non-null   float64\n",
      " 2   bedrooms       4600 non-null   float64\n",
      " 3   bathrooms      4600 non-null   float64\n",
      " 4   sqft_living    4600 non-null   int64  \n",
      " 5   sqft_lot       4600 non-null   int64  \n",
      " 6   floors         4600 non-null   float64\n",
      " 7   waterfront     4600 non-null   int64  \n",
      " 8   view           4600 non-null   int64  \n",
      " 9   condition      4600 non-null   int64  \n",
      " 10  sqft_above     4600 non-null   int64  \n",
      " 11  sqft_basement  4600 non-null   int64  \n",
      " 12  yr_built       4600 non-null   int64  \n",
      " 13  yr_renovated   4600 non-null   int64  \n",
      " 14  street         4600 non-null   object \n",
      " 15  city           4600 non-null   object \n",
      " 16  statezip       4600 non-null   object \n",
      " 17  country        4600 non-null   object \n",
      "dtypes: float64(4), int64(9), object(5)\n",
      "memory usage: 647.0+ KB\n"
     ]
    }
   ],
   "source": [
    "data.info()"
   ]
  },
  {
   "cell_type": "markdown",
   "metadata": {},
   "source": [
    "`INSIGHT:`\n",
    "- Pada tabel tersebut , terdapat total 18 Kolom , dengan 4 Kolom bertipe data float ,9 kolom bertipe integer dan 5 data bertipe object.\n",
    "- Jumlah entry data sebanyak 4600 entries\n",
    "- Dari info missing value, tidak terdapat missing value , karena setiap kolom memiliki 4600 non-null yang jumlahnya sama dengan jumlah entry data\n",
    "- memory usage sebesar 647 KB"
   ]
  },
  {
   "cell_type": "code",
   "execution_count": 6,
   "metadata": {},
   "outputs": [
    {
     "data": {
      "text/html": [
       "<div>\n",
       "<style scoped>\n",
       "    .dataframe tbody tr th:only-of-type {\n",
       "        vertical-align: middle;\n",
       "    }\n",
       "\n",
       "    .dataframe tbody tr th {\n",
       "        vertical-align: top;\n",
       "    }\n",
       "\n",
       "    .dataframe thead th {\n",
       "        text-align: right;\n",
       "    }\n",
       "</style>\n",
       "<table border=\"1\" class=\"dataframe\">\n",
       "  <thead>\n",
       "    <tr style=\"text-align: right;\">\n",
       "      <th></th>\n",
       "      <th>count</th>\n",
       "      <th>mean</th>\n",
       "      <th>std</th>\n",
       "      <th>min</th>\n",
       "      <th>25%</th>\n",
       "      <th>50%</th>\n",
       "      <th>75%</th>\n",
       "      <th>max</th>\n",
       "    </tr>\n",
       "  </thead>\n",
       "  <tbody>\n",
       "    <tr>\n",
       "      <th>price</th>\n",
       "      <td>4600.0</td>\n",
       "      <td>551962.988473</td>\n",
       "      <td>563834.702547</td>\n",
       "      <td>0.0</td>\n",
       "      <td>322875.00</td>\n",
       "      <td>460943.461539</td>\n",
       "      <td>654962.50</td>\n",
       "      <td>26590000.0</td>\n",
       "    </tr>\n",
       "    <tr>\n",
       "      <th>bedrooms</th>\n",
       "      <td>4600.0</td>\n",
       "      <td>3.400870</td>\n",
       "      <td>0.908848</td>\n",
       "      <td>0.0</td>\n",
       "      <td>3.00</td>\n",
       "      <td>3.000000</td>\n",
       "      <td>4.00</td>\n",
       "      <td>9.0</td>\n",
       "    </tr>\n",
       "    <tr>\n",
       "      <th>bathrooms</th>\n",
       "      <td>4600.0</td>\n",
       "      <td>2.160815</td>\n",
       "      <td>0.783781</td>\n",
       "      <td>0.0</td>\n",
       "      <td>1.75</td>\n",
       "      <td>2.250000</td>\n",
       "      <td>2.50</td>\n",
       "      <td>8.0</td>\n",
       "    </tr>\n",
       "    <tr>\n",
       "      <th>sqft_living</th>\n",
       "      <td>4600.0</td>\n",
       "      <td>2139.346957</td>\n",
       "      <td>963.206916</td>\n",
       "      <td>370.0</td>\n",
       "      <td>1460.00</td>\n",
       "      <td>1980.000000</td>\n",
       "      <td>2620.00</td>\n",
       "      <td>13540.0</td>\n",
       "    </tr>\n",
       "    <tr>\n",
       "      <th>sqft_lot</th>\n",
       "      <td>4600.0</td>\n",
       "      <td>14852.516087</td>\n",
       "      <td>35884.436145</td>\n",
       "      <td>638.0</td>\n",
       "      <td>5000.75</td>\n",
       "      <td>7683.000000</td>\n",
       "      <td>11001.25</td>\n",
       "      <td>1074218.0</td>\n",
       "    </tr>\n",
       "    <tr>\n",
       "      <th>floors</th>\n",
       "      <td>4600.0</td>\n",
       "      <td>1.512065</td>\n",
       "      <td>0.538288</td>\n",
       "      <td>1.0</td>\n",
       "      <td>1.00</td>\n",
       "      <td>1.500000</td>\n",
       "      <td>2.00</td>\n",
       "      <td>3.5</td>\n",
       "    </tr>\n",
       "    <tr>\n",
       "      <th>waterfront</th>\n",
       "      <td>4600.0</td>\n",
       "      <td>0.007174</td>\n",
       "      <td>0.084404</td>\n",
       "      <td>0.0</td>\n",
       "      <td>0.00</td>\n",
       "      <td>0.000000</td>\n",
       "      <td>0.00</td>\n",
       "      <td>1.0</td>\n",
       "    </tr>\n",
       "    <tr>\n",
       "      <th>view</th>\n",
       "      <td>4600.0</td>\n",
       "      <td>0.240652</td>\n",
       "      <td>0.778405</td>\n",
       "      <td>0.0</td>\n",
       "      <td>0.00</td>\n",
       "      <td>0.000000</td>\n",
       "      <td>0.00</td>\n",
       "      <td>4.0</td>\n",
       "    </tr>\n",
       "    <tr>\n",
       "      <th>condition</th>\n",
       "      <td>4600.0</td>\n",
       "      <td>3.451739</td>\n",
       "      <td>0.677230</td>\n",
       "      <td>1.0</td>\n",
       "      <td>3.00</td>\n",
       "      <td>3.000000</td>\n",
       "      <td>4.00</td>\n",
       "      <td>5.0</td>\n",
       "    </tr>\n",
       "    <tr>\n",
       "      <th>sqft_above</th>\n",
       "      <td>4600.0</td>\n",
       "      <td>1827.265435</td>\n",
       "      <td>862.168977</td>\n",
       "      <td>370.0</td>\n",
       "      <td>1190.00</td>\n",
       "      <td>1590.000000</td>\n",
       "      <td>2300.00</td>\n",
       "      <td>9410.0</td>\n",
       "    </tr>\n",
       "    <tr>\n",
       "      <th>sqft_basement</th>\n",
       "      <td>4600.0</td>\n",
       "      <td>312.081522</td>\n",
       "      <td>464.137228</td>\n",
       "      <td>0.0</td>\n",
       "      <td>0.00</td>\n",
       "      <td>0.000000</td>\n",
       "      <td>610.00</td>\n",
       "      <td>4820.0</td>\n",
       "    </tr>\n",
       "    <tr>\n",
       "      <th>yr_built</th>\n",
       "      <td>4600.0</td>\n",
       "      <td>1970.786304</td>\n",
       "      <td>29.731848</td>\n",
       "      <td>1900.0</td>\n",
       "      <td>1951.00</td>\n",
       "      <td>1976.000000</td>\n",
       "      <td>1997.00</td>\n",
       "      <td>2014.0</td>\n",
       "    </tr>\n",
       "    <tr>\n",
       "      <th>yr_renovated</th>\n",
       "      <td>4600.0</td>\n",
       "      <td>808.608261</td>\n",
       "      <td>979.414536</td>\n",
       "      <td>0.0</td>\n",
       "      <td>0.00</td>\n",
       "      <td>0.000000</td>\n",
       "      <td>1999.00</td>\n",
       "      <td>2014.0</td>\n",
       "    </tr>\n",
       "  </tbody>\n",
       "</table>\n",
       "</div>"
      ],
      "text/plain": [
       "                count           mean            std     min        25%  \\\n",
       "price          4600.0  551962.988473  563834.702547     0.0  322875.00   \n",
       "bedrooms       4600.0       3.400870       0.908848     0.0       3.00   \n",
       "bathrooms      4600.0       2.160815       0.783781     0.0       1.75   \n",
       "sqft_living    4600.0    2139.346957     963.206916   370.0    1460.00   \n",
       "sqft_lot       4600.0   14852.516087   35884.436145   638.0    5000.75   \n",
       "floors         4600.0       1.512065       0.538288     1.0       1.00   \n",
       "waterfront     4600.0       0.007174       0.084404     0.0       0.00   \n",
       "view           4600.0       0.240652       0.778405     0.0       0.00   \n",
       "condition      4600.0       3.451739       0.677230     1.0       3.00   \n",
       "sqft_above     4600.0    1827.265435     862.168977   370.0    1190.00   \n",
       "sqft_basement  4600.0     312.081522     464.137228     0.0       0.00   \n",
       "yr_built       4600.0    1970.786304      29.731848  1900.0    1951.00   \n",
       "yr_renovated   4600.0     808.608261     979.414536     0.0       0.00   \n",
       "\n",
       "                         50%        75%         max  \n",
       "price          460943.461539  654962.50  26590000.0  \n",
       "bedrooms            3.000000       4.00         9.0  \n",
       "bathrooms           2.250000       2.50         8.0  \n",
       "sqft_living      1980.000000    2620.00     13540.0  \n",
       "sqft_lot         7683.000000   11001.25   1074218.0  \n",
       "floors              1.500000       2.00         3.5  \n",
       "waterfront          0.000000       0.00         1.0  \n",
       "view                0.000000       0.00         4.0  \n",
       "condition           3.000000       4.00         5.0  \n",
       "sqft_above       1590.000000    2300.00      9410.0  \n",
       "sqft_basement       0.000000     610.00      4820.0  \n",
       "yr_built         1976.000000    1997.00      2014.0  \n",
       "yr_renovated        0.000000    1999.00      2014.0  "
      ]
     },
     "execution_count": 6,
     "metadata": {},
     "output_type": "execute_result"
    }
   ],
   "source": [
    "# Melihat deskripsi data\n",
    "dataduplicate.describe().T"
   ]
  },
  {
   "cell_type": "markdown",
   "metadata": {},
   "source": [
    "`INSIGHT:`\n",
    "- Penjualan Rumah di Pada data ini rata ratanya 551962.99 USD , menunjukan rata-rata harga rumah di Amerika Serikat sangatlah tinggi.\n",
    "- Ada harga rumah yang 0, terlihat dari kolom min pada 'price' , hal ini akan menimbulkan pertanyaan , maka akan kita cek lebih lanjut pada kolom price\n",
    "- Rata - rata condition terletak pada range 3-4(Dari skala 5) yang menunjukan kualitas rumah yang dijual sebagian besar baik.\n",
    "- Rumah yang dijual pada data ini range tahun pembuatannya dari 1970 - 2014.\n",
    "- Rumah tertinggi yang dijual adalah rumah 4 lantai."
   ]
  },
  {
   "cell_type": "markdown",
   "metadata": {},
   "source": [
    "Karena tidak ada penjelasan bagaimana harga rumah bisa = 0 , maka untuk row data dengan harga rumah = 0  akan dihapus"
   ]
  },
  {
   "cell_type": "code",
   "execution_count": 7,
   "metadata": {},
   "outputs": [
    {
     "data": {
      "text/plain": [
       "300000.0     42\n",
       "400000.0     31\n",
       "600000.0     29\n",
       "440000.0     29\n",
       "450000.0     29\n",
       "             ..\n",
       "325900.0      1\n",
       "684680.0      1\n",
       "609900.0      1\n",
       "1635000.0     1\n",
       "220600.0      1\n",
       "Name: price, Length: 1740, dtype: int64"
      ]
     },
     "execution_count": 7,
     "metadata": {},
     "output_type": "execute_result"
    }
   ],
   "source": [
    "#menghapus baris data dengan harga rumah = 0\n",
    "dataduplicate = dataduplicate.drop(dataduplicate[dataduplicate['price'] == 0].index)\n",
    "dataduplicate['price'].value_counts()"
   ]
  },
  {
   "cell_type": "code",
   "execution_count": 8,
   "metadata": {},
   "outputs": [],
   "source": [
    "#menambahkan kolom bernama 'house_age' untuk menggambarkan berapa usia rumah tersebut\n",
    "usia_rumah = 2014 - dataduplicate['yr_built']\n",
    "dataduplicate['house_age'] = usia_rumah\n",
    "\n",
    "#drop kolom 'yr_built' karena sudah diwakilkan dengan kolom baru 'house_age'\n",
    "dataduplicate.drop(['yr_built'], axis = 1,inplace=True)\n",
    "\n",
    "#menghapus kolom street karena semua nilainya unik dan tidak berpengaruh pada harga rumah\n",
    "dataduplicate.drop(['street'],axis=1,inplace=True)\n",
    "\n",
    "#menghapus kolom date karena tidak ada hubungannya dengan harga rumah\n",
    "dataduplicate.drop(['date'],axis=1,inplace=True)\n",
    "\n",
    "\n",
    "#menghapus kolom country , karena hanya ada 1 unique value yaitu USA.\n",
    "dataduplicate.drop(['country'],axis=1,inplace=True)\n"
   ]
  },
  {
   "cell_type": "code",
   "execution_count": 9,
   "metadata": {},
   "outputs": [],
   "source": [
    "#menambah kolom renovated , untuk menunjukan apakah rumah pernah direnovasi atau tidak\n",
    "renovated1 = []\n",
    "for i in dataduplicate['yr_renovated']:\n",
    "    if i == 0:\n",
    "        renovated1.append(0)\n",
    "    else:\n",
    "        renovated1.append(1)\n",
    "\n",
    "dataduplicate['renovated'] = renovated1\n"
   ]
  },
  {
   "cell_type": "code",
   "execution_count": 10,
   "metadata": {},
   "outputs": [],
   "source": [
    "#hapus kolom yr_renovated , karena sudah diwakilkan dengan kolom renovated yang baru dibuat\n",
    "dataduplicate.drop(['yr_renovated'],axis=1,inplace=True)"
   ]
  },
  {
   "cell_type": "code",
   "execution_count": 11,
   "metadata": {},
   "outputs": [
    {
     "data": {
      "text/html": [
       "<div>\n",
       "<style scoped>\n",
       "    .dataframe tbody tr th:only-of-type {\n",
       "        vertical-align: middle;\n",
       "    }\n",
       "\n",
       "    .dataframe tbody tr th {\n",
       "        vertical-align: top;\n",
       "    }\n",
       "\n",
       "    .dataframe thead th {\n",
       "        text-align: right;\n",
       "    }\n",
       "</style>\n",
       "<table border=\"1\" class=\"dataframe\">\n",
       "  <thead>\n",
       "    <tr style=\"text-align: right;\">\n",
       "      <th></th>\n",
       "      <th>price</th>\n",
       "      <th>bedrooms</th>\n",
       "      <th>bathrooms</th>\n",
       "      <th>sqft_living</th>\n",
       "      <th>sqft_lot</th>\n",
       "      <th>floors</th>\n",
       "      <th>waterfront</th>\n",
       "      <th>view</th>\n",
       "      <th>condition</th>\n",
       "      <th>sqft_above</th>\n",
       "      <th>sqft_basement</th>\n",
       "      <th>city</th>\n",
       "      <th>statezip</th>\n",
       "      <th>house_age</th>\n",
       "      <th>renovated</th>\n",
       "    </tr>\n",
       "  </thead>\n",
       "  <tbody>\n",
       "    <tr>\n",
       "      <th>0</th>\n",
       "      <td>3.130000e+05</td>\n",
       "      <td>3.0</td>\n",
       "      <td>1.50</td>\n",
       "      <td>1340</td>\n",
       "      <td>7912</td>\n",
       "      <td>1.5</td>\n",
       "      <td>0</td>\n",
       "      <td>0</td>\n",
       "      <td>3</td>\n",
       "      <td>1340</td>\n",
       "      <td>0</td>\n",
       "      <td>Shoreline</td>\n",
       "      <td>WA 98133</td>\n",
       "      <td>59</td>\n",
       "      <td>1</td>\n",
       "    </tr>\n",
       "    <tr>\n",
       "      <th>1</th>\n",
       "      <td>2.384000e+06</td>\n",
       "      <td>5.0</td>\n",
       "      <td>2.50</td>\n",
       "      <td>3650</td>\n",
       "      <td>9050</td>\n",
       "      <td>2.0</td>\n",
       "      <td>0</td>\n",
       "      <td>4</td>\n",
       "      <td>5</td>\n",
       "      <td>3370</td>\n",
       "      <td>280</td>\n",
       "      <td>Seattle</td>\n",
       "      <td>WA 98119</td>\n",
       "      <td>93</td>\n",
       "      <td>0</td>\n",
       "    </tr>\n",
       "    <tr>\n",
       "      <th>2</th>\n",
       "      <td>3.420000e+05</td>\n",
       "      <td>3.0</td>\n",
       "      <td>2.00</td>\n",
       "      <td>1930</td>\n",
       "      <td>11947</td>\n",
       "      <td>1.0</td>\n",
       "      <td>0</td>\n",
       "      <td>0</td>\n",
       "      <td>4</td>\n",
       "      <td>1930</td>\n",
       "      <td>0</td>\n",
       "      <td>Kent</td>\n",
       "      <td>WA 98042</td>\n",
       "      <td>48</td>\n",
       "      <td>0</td>\n",
       "    </tr>\n",
       "    <tr>\n",
       "      <th>3</th>\n",
       "      <td>4.200000e+05</td>\n",
       "      <td>3.0</td>\n",
       "      <td>2.25</td>\n",
       "      <td>2000</td>\n",
       "      <td>8030</td>\n",
       "      <td>1.0</td>\n",
       "      <td>0</td>\n",
       "      <td>0</td>\n",
       "      <td>4</td>\n",
       "      <td>1000</td>\n",
       "      <td>1000</td>\n",
       "      <td>Bellevue</td>\n",
       "      <td>WA 98008</td>\n",
       "      <td>51</td>\n",
       "      <td>0</td>\n",
       "    </tr>\n",
       "    <tr>\n",
       "      <th>4</th>\n",
       "      <td>5.500000e+05</td>\n",
       "      <td>4.0</td>\n",
       "      <td>2.50</td>\n",
       "      <td>1940</td>\n",
       "      <td>10500</td>\n",
       "      <td>1.0</td>\n",
       "      <td>0</td>\n",
       "      <td>0</td>\n",
       "      <td>4</td>\n",
       "      <td>1140</td>\n",
       "      <td>800</td>\n",
       "      <td>Redmond</td>\n",
       "      <td>WA 98052</td>\n",
       "      <td>38</td>\n",
       "      <td>1</td>\n",
       "    </tr>\n",
       "    <tr>\n",
       "      <th>...</th>\n",
       "      <td>...</td>\n",
       "      <td>...</td>\n",
       "      <td>...</td>\n",
       "      <td>...</td>\n",
       "      <td>...</td>\n",
       "      <td>...</td>\n",
       "      <td>...</td>\n",
       "      <td>...</td>\n",
       "      <td>...</td>\n",
       "      <td>...</td>\n",
       "      <td>...</td>\n",
       "      <td>...</td>\n",
       "      <td>...</td>\n",
       "      <td>...</td>\n",
       "      <td>...</td>\n",
       "    </tr>\n",
       "    <tr>\n",
       "      <th>4595</th>\n",
       "      <td>3.081667e+05</td>\n",
       "      <td>3.0</td>\n",
       "      <td>1.75</td>\n",
       "      <td>1510</td>\n",
       "      <td>6360</td>\n",
       "      <td>1.0</td>\n",
       "      <td>0</td>\n",
       "      <td>0</td>\n",
       "      <td>4</td>\n",
       "      <td>1510</td>\n",
       "      <td>0</td>\n",
       "      <td>Seattle</td>\n",
       "      <td>WA 98133</td>\n",
       "      <td>60</td>\n",
       "      <td>1</td>\n",
       "    </tr>\n",
       "    <tr>\n",
       "      <th>4596</th>\n",
       "      <td>5.343333e+05</td>\n",
       "      <td>3.0</td>\n",
       "      <td>2.50</td>\n",
       "      <td>1460</td>\n",
       "      <td>7573</td>\n",
       "      <td>2.0</td>\n",
       "      <td>0</td>\n",
       "      <td>0</td>\n",
       "      <td>3</td>\n",
       "      <td>1460</td>\n",
       "      <td>0</td>\n",
       "      <td>Bellevue</td>\n",
       "      <td>WA 98007</td>\n",
       "      <td>31</td>\n",
       "      <td>1</td>\n",
       "    </tr>\n",
       "    <tr>\n",
       "      <th>4597</th>\n",
       "      <td>4.169042e+05</td>\n",
       "      <td>3.0</td>\n",
       "      <td>2.50</td>\n",
       "      <td>3010</td>\n",
       "      <td>7014</td>\n",
       "      <td>2.0</td>\n",
       "      <td>0</td>\n",
       "      <td>0</td>\n",
       "      <td>3</td>\n",
       "      <td>3010</td>\n",
       "      <td>0</td>\n",
       "      <td>Renton</td>\n",
       "      <td>WA 98059</td>\n",
       "      <td>5</td>\n",
       "      <td>0</td>\n",
       "    </tr>\n",
       "    <tr>\n",
       "      <th>4598</th>\n",
       "      <td>2.034000e+05</td>\n",
       "      <td>4.0</td>\n",
       "      <td>2.00</td>\n",
       "      <td>2090</td>\n",
       "      <td>6630</td>\n",
       "      <td>1.0</td>\n",
       "      <td>0</td>\n",
       "      <td>0</td>\n",
       "      <td>3</td>\n",
       "      <td>1070</td>\n",
       "      <td>1020</td>\n",
       "      <td>Seattle</td>\n",
       "      <td>WA 98178</td>\n",
       "      <td>40</td>\n",
       "      <td>0</td>\n",
       "    </tr>\n",
       "    <tr>\n",
       "      <th>4599</th>\n",
       "      <td>2.206000e+05</td>\n",
       "      <td>3.0</td>\n",
       "      <td>2.50</td>\n",
       "      <td>1490</td>\n",
       "      <td>8102</td>\n",
       "      <td>2.0</td>\n",
       "      <td>0</td>\n",
       "      <td>0</td>\n",
       "      <td>4</td>\n",
       "      <td>1490</td>\n",
       "      <td>0</td>\n",
       "      <td>Covington</td>\n",
       "      <td>WA 98042</td>\n",
       "      <td>24</td>\n",
       "      <td>0</td>\n",
       "    </tr>\n",
       "  </tbody>\n",
       "</table>\n",
       "<p>4551 rows × 15 columns</p>\n",
       "</div>"
      ],
      "text/plain": [
       "             price  bedrooms  bathrooms  sqft_living  sqft_lot  floors  \\\n",
       "0     3.130000e+05       3.0       1.50         1340      7912     1.5   \n",
       "1     2.384000e+06       5.0       2.50         3650      9050     2.0   \n",
       "2     3.420000e+05       3.0       2.00         1930     11947     1.0   \n",
       "3     4.200000e+05       3.0       2.25         2000      8030     1.0   \n",
       "4     5.500000e+05       4.0       2.50         1940     10500     1.0   \n",
       "...            ...       ...        ...          ...       ...     ...   \n",
       "4595  3.081667e+05       3.0       1.75         1510      6360     1.0   \n",
       "4596  5.343333e+05       3.0       2.50         1460      7573     2.0   \n",
       "4597  4.169042e+05       3.0       2.50         3010      7014     2.0   \n",
       "4598  2.034000e+05       4.0       2.00         2090      6630     1.0   \n",
       "4599  2.206000e+05       3.0       2.50         1490      8102     2.0   \n",
       "\n",
       "      waterfront  view  condition  sqft_above  sqft_basement       city  \\\n",
       "0              0     0          3        1340              0  Shoreline   \n",
       "1              0     4          5        3370            280    Seattle   \n",
       "2              0     0          4        1930              0       Kent   \n",
       "3              0     0          4        1000           1000   Bellevue   \n",
       "4              0     0          4        1140            800    Redmond   \n",
       "...          ...   ...        ...         ...            ...        ...   \n",
       "4595           0     0          4        1510              0    Seattle   \n",
       "4596           0     0          3        1460              0   Bellevue   \n",
       "4597           0     0          3        3010              0     Renton   \n",
       "4598           0     0          3        1070           1020    Seattle   \n",
       "4599           0     0          4        1490              0  Covington   \n",
       "\n",
       "      statezip  house_age  renovated  \n",
       "0     WA 98133         59          1  \n",
       "1     WA 98119         93          0  \n",
       "2     WA 98042         48          0  \n",
       "3     WA 98008         51          0  \n",
       "4     WA 98052         38          1  \n",
       "...        ...        ...        ...  \n",
       "4595  WA 98133         60          1  \n",
       "4596  WA 98007         31          1  \n",
       "4597  WA 98059          5          0  \n",
       "4598  WA 98178         40          0  \n",
       "4599  WA 98042         24          0  \n",
       "\n",
       "[4551 rows x 15 columns]"
      ]
     },
     "execution_count": 11,
     "metadata": {},
     "output_type": "execute_result"
    }
   ],
   "source": [
    "dataduplicate"
   ]
  },
  {
   "cell_type": "markdown",
   "metadata": {},
   "source": [
    "kolom 'bathrooms' adalah kolom jumlah kamar mandi , namun beberapa ada yang memiliki value desimal. Saya akan membulatkan valuenya agar menjadi bilangan bulat karena menggambarkan jumlah kamar mandi yang sifatnya satuan."
   ]
  },
  {
   "cell_type": "code",
   "execution_count": 12,
   "metadata": {},
   "outputs": [
    {
     "data": {
      "text/plain": [
       "2.0    2937\n",
       "1.0     756\n",
       "3.0     569\n",
       "4.0     262\n",
       "5.0      16\n",
       "6.0       7\n",
       "0.0       2\n",
       "8.0       1\n",
       "7.0       1\n",
       "Name: bathrooms, dtype: int64"
      ]
     },
     "execution_count": 12,
     "metadata": {},
     "output_type": "execute_result"
    }
   ],
   "source": [
    "dataduplicate['bathrooms'] = dataduplicate['bathrooms'].round(0)\n",
    "dataduplicate['floors'] = dataduplicate['floors'].round(0)\n",
    "dataduplicate['bathrooms'].value_counts()"
   ]
  },
  {
   "cell_type": "code",
   "execution_count": 13,
   "metadata": {},
   "outputs": [
    {
     "data": {
      "text/plain": [
       "0"
      ]
     },
     "execution_count": 13,
     "metadata": {},
     "output_type": "execute_result"
    }
   ],
   "source": [
    "#cek apakah ada data duplikat\n",
    "dataduplicate.duplicated().sum()"
   ]
  },
  {
   "cell_type": "markdown",
   "metadata": {},
   "source": [
    "Tidak ada kolom yang duplicate"
   ]
  },
  {
   "cell_type": "markdown",
   "metadata": {},
   "source": [
    "# **iv. Exploratory Data Analysis (EDA)**"
   ]
  },
  {
   "cell_type": "markdown",
   "metadata": {},
   "source": [
    "> Bagian ini berisi explorasi data pada dataset diatas dengan menggunakan query, grouping, visualisasi sederhana, dan lain sebagainya."
   ]
  },
  {
   "cell_type": "markdown",
   "metadata": {},
   "source": [
    "***PENJELASAN KOLOM***\n",
    "\n",
    "- 'date': menunjukkan tanggal transaksi atau tanggal data dikumpulkan.\n",
    "\n",
    "- 'price': Menunjukkan harga properti atau rumah.\n",
    "\n",
    "- 'bedrooms': Menunjukkan jumlah kamar tidur dalam properti.\n",
    "\n",
    "- 'bathrooms': Menunjukkan jumlah kamar mandi dalam properti.\n",
    "\n",
    "- 'sqft_living': Menunjukkan luas area dalam satuan kaki persegi dari bagian dalam properti.\n",
    "\n",
    "- 'sqft_lot': Menunjukkan luas total lahan dalam satuan faki persegi.\n",
    "\n",
    "- 'floors': Menunjukkan jumlah lantai atau tingkat dalam properti.\n",
    "\n",
    "- 'waterfront': menunjukkan apakah properti tersebut memiliki lokasi waterfront (tepi pantai) atau tidak.\n",
    "\n",
    "- 'view': menunjukkan tingkat pemandangan atau tampilan properti.(Skala 1-5 , 1 buruk , 5 pemandangannya sangat indah)\n",
    "\n",
    "- 'condition': Menunjukkan kondisi umum properti. (Skala 1-5 , 1 Kondisi rumah sangat buruk , 5 Kondisi rumah sangat baik)\n",
    "\n",
    "- 'sqft_above': Menunjukkan luas area dalam satuan kaki persegi dari bagian atas properti (tanpa lantai bawah).\n",
    "\n",
    "- 'sqft_basement': Menunjukkan luas area dalam satuan kaki persegi dari lantai bawah atau ruang bawah tanah.\n",
    "\n",
    "- 'yr_built': Menunjukkan tahun pembangunan properti.\n",
    "\n",
    "- 'yr_renovated': Menunjukkan tahun renovasi terakhir properti.\n",
    "\n",
    "- 'street' : Alamat dari properti yang dijual \n",
    "\n",
    "- 'city' : Kota letak properti \n",
    "\n",
    "- 'statezip' : Kode post properti\n",
    "\n",
    "- 'country': Letak negara properti\n"
   ]
  },
  {
   "cell_type": "markdown",
   "metadata": {},
   "source": [
    "#### 1. Bagaimana Distribusi harga pada data penjualan ini?"
   ]
  },
  {
   "cell_type": "code",
   "execution_count": 14,
   "metadata": {},
   "outputs": [
    {
     "data": {
      "image/png": "[encoded data removed]",
      "text/plain": [
       "<Figure size 640x480 with 1 Axes>"
      ]
     },
     "metadata": {},
     "output_type": "display_data"
    }
   ],
   "source": [
    "import warnings\n",
    "  \n",
    "\n",
    "warnings.filterwarnings('ignore')\n",
    "sns.distplot(data['price'], hist = False, kde = True,\n",
    "                 kde_kws = {'shade': True, 'linewidth': 3})\n",
    "plt.xlabel(\"count\")\n",
    "plt.ylabel(\"Density\")\n",
    "plt.title(\"Density of price\")\n",
    "plt.legend(\"Price\")\n",
    "plt.show()"
   ]
  },
  {
   "cell_type": "markdown",
   "metadata": {},
   "source": [
    "`INSIGHT :`\n",
    "- Terlihat harga penjualan rumah di Washington bersifat skewed"
   ]
  },
  {
   "cell_type": "markdown",
   "metadata": {},
   "source": [
    "#### 2. Bagaimana persebaran penjualan berdasarkan Kondisi rumah?"
   ]
  },
  {
   "cell_type": "code",
   "execution_count": 15,
   "metadata": {},
   "outputs": [
    {
     "data": {
      "application/vnd.plotly.v1+json": {
       "config": {
        "plotlyServerURL": "https://plot.ly"
       },
       "data": [
        {
         "domain": {
          "x": [
           0,
           1
          ],
          "y": [
           0,
           1
          ]
         },
         "hovertemplate": "Condition=%{label}<br>Value=%{value}<extra></extra>",
         "labels": [
          3,
          4,
          5,
          2,
          1
         ],
         "legendgroup": "",
         "name": "",
         "showlegend": true,
         "type": "pie",
         "values": [
          2851,
          1238,
          425,
          31,
          6
         ]
        }
       ],
       "layout": {
        "legend": {
         "tracegroupgap": 0
        },
        "piecolorway": [
         "#0d0887",
         "#46039f",
         "#7201a8",
         "#9c179e",
         "#bd3786",
         "#d8576b",
         "#ed7953",
         "#fb9f3a",
         "#fdca26",
         "#f0f921"
        ],
        "template": {
         "data": {
          "bar": [
           {
            "error_x": {
             "color": "#2a3f5f"
            },
            "error_y": {
             "color": "#2a3f5f"
            },
            "marker": {
             "line": {
              "color": "#E5ECF6",
              "width": 0.5
             },
             "pattern": {
              "fillmode": "overlay",
              "size": 10,
              "solidity": 0.2
             }
            },
            "type": "bar"
           }
          ],
          "barpolar": [
           {
            "marker": {
             "line": {
              "color": "#E5ECF6",
              "width": 0.5
             },
             "pattern": {
              "fillmode": "overlay",
              "size": 10,
              "solidity": 0.2
             }
            },
            "type": "barpolar"
           }
          ],
          "carpet": [
           {
            "aaxis": {
             "endlinecolor": "#2a3f5f",
             "gridcolor": "white",
             "linecolor": "white",
             "minorgridcolor": "white",
             "startlinecolor": "#2a3f5f"
            },
            "baxis": {
             "endlinecolor": "#2a3f5f",
             "gridcolor": "white",
             "linecolor": "white",
             "minorgridcolor": "white",
             "startlinecolor": "#2a3f5f"
            },
            "type": "carpet"
           }
          ],
          "choropleth": [
           {
            "colorbar": {
             "outlinewidth": 0,
             "ticks": ""
            },
            "type": "choropleth"
           }
          ],
          "contour": [
           {
            "colorbar": {
             "outlinewidth": 0,
             "ticks": ""
            },
            "colorscale": [
             [
              0,
              "#0d0887"
             ],
             [
              0.1111111111111111,
              "#46039f"
             ],
             [
              0.2222222222222222,
              "#7201a8"
             ],
             [
              0.3333333333333333,
              "#9c179e"
             ],
             [
              0.4444444444444444,
              "#bd3786"
             ],
             [
              0.5555555555555556,
              "#d8576b"
             ],
             [
              0.6666666666666666,
              "#ed7953"
             ],
             [
              0.7777777777777778,
              "#fb9f3a"
             ],
             [
              0.8888888888888888,
              "#fdca26"
             ],
             [
              1,
              "#f0f921"
             ]
            ],
            "type": "contour"
           }
          ],
          "contourcarpet": [
           {
            "colorbar": {
             "outlinewidth": 0,
             "ticks": ""
            },
            "type": "contourcarpet"
           }
          ],
          "heatmap": [
           {
            "colorbar": {
             "outlinewidth": 0,
             "ticks": ""
            },
            "colorscale": [
             [
              0,
              "#0d0887"
             ],
             [
              0.1111111111111111,
              "#46039f"
             ],
             [
              0.2222222222222222,
              "#7201a8"
             ],
             [
              0.3333333333333333,
              "#9c179e"
             ],
             [
              0.4444444444444444,
              "#bd3786"
             ],
             [
              0.5555555555555556,
              "#d8576b"
             ],
             [
              0.6666666666666666,
              "#ed7953"
             ],
             [
              0.7777777777777778,
              "#fb9f3a"
             ],
             [
              0.8888888888888888,
              "#fdca26"
             ],
             [
              1,
              "#f0f921"
             ]
            ],
            "type": "heatmap"
           }
          ],
          "heatmapgl": [
           {
            "colorbar": {
             "outlinewidth": 0,
             "ticks": ""
            },
            "colorscale": [
             [
              0,
              "#0d0887"
             ],
             [
              0.1111111111111111,
              "#46039f"
             ],
             [
              0.2222222222222222,
              "#7201a8"
             ],
             [
              0.3333333333333333,
              "#9c179e"
             ],
             [
              0.4444444444444444,
              "#bd3786"
             ],
             [
              0.5555555555555556,
              "#d8576b"
             ],
             [
              0.6666666666666666,
              "#ed7953"
             ],
             [
              0.7777777777777778,
              "#fb9f3a"
             ],
             [
              0.8888888888888888,
              "#fdca26"
             ],
             [
              1,
              "#f0f921"
             ]
            ],
            "type": "heatmapgl"
           }
          ],
          "histogram": [
           {
            "marker": {
             "pattern": {
              "fillmode": "overlay",
              "size": 10,
              "solidity": 0.2
             }
            },
            "type": "histogram"
           }
          ],
          "histogram2d": [
           {
            "colorbar": {
             "outlinewidth": 0,
             "ticks": ""
            },
            "colorscale": [
             [
              0,
              "#0d0887"
             ],
             [
              0.1111111111111111,
              "#46039f"
             ],
             [
              0.2222222222222222,
              "#7201a8"
             ],
             [
              0.3333333333333333,
              "#9c179e"
             ],
             [
              0.4444444444444444,
              "#bd3786"
             ],
             [
              0.5555555555555556,
              "#d8576b"
             ],
             [
              0.6666666666666666,
              "#ed7953"
             ],
             [
              0.7777777777777778,
              "#fb9f3a"
             ],
             [
              0.8888888888888888,
              "#fdca26"
             ],
             [
              1,
              "#f0f921"
             ]
            ],
            "type": "histogram2d"
           }
          ],
          "histogram2dcontour": [
           {
            "colorbar": {
             "outlinewidth": 0,
             "ticks": ""
            },
            "colorscale": [
             [
              0,
              "#0d0887"
             ],
             [
              0.1111111111111111,
              "#46039f"
             ],
             [
              0.2222222222222222,
              "#7201a8"
             ],
             [
              0.3333333333333333,
              "#9c179e"
             ],
             [
              0.4444444444444444,
              "#bd3786"
             ],
             [
              0.5555555555555556,
              "#d8576b"
             ],
             [
              0.6666666666666666,
              "#ed7953"
             ],
             [
              0.7777777777777778,
              "#fb9f3a"
             ],
             [
              0.8888888888888888,
              "#fdca26"
             ],
             [
              1,
              "#f0f921"
             ]
            ],
            "type": "histogram2dcontour"
           }
          ],
          "mesh3d": [
           {
            "colorbar": {
             "outlinewidth": 0,
             "ticks": ""
            },
            "type": "mesh3d"
           }
          ],
          "parcoords": [
           {
            "line": {
             "colorbar": {
              "outlinewidth": 0,
              "ticks": ""
             }
            },
            "type": "parcoords"
           }
          ],
          "pie": [
           {
            "automargin": true,
            "type": "pie"
           }
          ],
          "scatter": [
           {
            "fillpattern": {
             "fillmode": "overlay",
             "size": 10,
             "solidity": 0.2
            },
            "type": "scatter"
           }
          ],
          "scatter3d": [
           {
            "line": {
             "colorbar": {
              "outlinewidth": 0,
              "ticks": ""
             }
            },
            "marker": {
             "colorbar": {
              "outlinewidth": 0,
              "ticks": ""
             }
            },
            "type": "scatter3d"
           }
          ],
          "scattercarpet": [
           {
            "marker": {
             "colorbar": {
              "outlinewidth": 0,
              "ticks": ""
             }
            },
            "type": "scattercarpet"
           }
          ],
          "scattergeo": [
           {
            "marker": {
             "colorbar": {
              "outlinewidth": 0,
              "ticks": ""
             }
            },
            "type": "scattergeo"
           }
          ],
          "scattergl": [
           {
            "marker": {
             "colorbar": {
              "outlinewidth": 0,
              "ticks": ""
             }
            },
            "type": "scattergl"
           }
          ],
          "scattermapbox": [
           {
            "marker": {
             "colorbar": {
              "outlinewidth": 0,
              "ticks": ""
             }
            },
            "type": "scattermapbox"
           }
          ],
          "scatterpolar": [
           {
            "marker": {
             "colorbar": {
              "outlinewidth": 0,
              "ticks": ""
             }
            },
            "type": "scatterpolar"
           }
          ],
          "scatterpolargl": [
           {
            "marker": {
             "colorbar": {
              "outlinewidth": 0,
              "ticks": ""
             }
            },
            "type": "scatterpolargl"
           }
          ],
          "scatterternary": [
           {
            "marker": {
             "colorbar": {
              "outlinewidth": 0,
              "ticks": ""
             }
            },
            "type": "scatterternary"
           }
          ],
          "surface": [
           {
            "colorbar": {
             "outlinewidth": 0,
             "ticks": ""
            },
            "colorscale": [
             [
              0,
              "#0d0887"
             ],
             [
              0.1111111111111111,
              "#46039f"
             ],
             [
              0.2222222222222222,
              "#7201a8"
             ],
             [
              0.3333333333333333,
              "#9c179e"
             ],
             [
              0.4444444444444444,
              "#bd3786"
             ],
             [
              0.5555555555555556,
              "#d8576b"
             ],
             [
              0.6666666666666666,
              "#ed7953"
             ],
             [
              0.7777777777777778,
              "#fb9f3a"
             ],
             [
              0.8888888888888888,
              "#fdca26"
             ],
             [
              1,
              "#f0f921"
             ]
            ],
            "type": "surface"
           }
          ],
          "table": [
           {
            "cells": {
             "fill": {
              "color": "#EBF0F8"
             },
             "line": {
              "color": "white"
             }
            },
            "header": {
             "fill": {
              "color": "#C8D4E3"
             },
             "line": {
              "color": "white"
             }
            },
            "type": "table"
           }
          ]
         },
         "layout": {
          "annotationdefaults": {
           "arrowcolor": "#2a3f5f",
           "arrowhead": 0,
           "arrowwidth": 1
          },
          "autotypenumbers": "strict",
          "coloraxis": {
           "colorbar": {
            "outlinewidth": 0,
            "ticks": ""
           }
          },
          "colorscale": {
           "diverging": [
            [
             0,
             "#8e0152"
            ],
            [
             0.1,
             "#c51b7d"
            ],
            [
             0.2,
             "#de77ae"
            ],
            [
             0.3,
             "#f1b6da"
            ],
            [
             0.4,
             "#fde0ef"
            ],
            [
             0.5,
             "#f7f7f7"
            ],
            [
             0.6,
             "#e6f5d0"
            ],
            [
             0.7,
             "#b8e186"
            ],
            [
             0.8,
             "#7fbc41"
            ],
            [
             0.9,
             "#4d9221"
            ],
            [
             1,
             "#276419"
            ]
           ],
           "sequential": [
            [
             0,
             "#0d0887"
            ],
            [
             0.1111111111111111,
             "#46039f"
            ],
            [
             0.2222222222222222,
             "#7201a8"
            ],
            [
             0.3333333333333333,
             "#9c179e"
            ],
            [
             0.4444444444444444,
             "#bd3786"
            ],
            [
             0.5555555555555556,
             "#d8576b"
            ],
            [
             0.6666666666666666,
             "#ed7953"
            ],
            [
             0.7777777777777778,
             "#fb9f3a"
            ],
            [
             0.8888888888888888,
             "#fdca26"
            ],
            [
             1,
             "#f0f921"
            ]
           ],
           "sequentialminus": [
            [
             0,
             "#0d0887"
            ],
            [
             0.1111111111111111,
             "#46039f"
            ],
            [
             0.2222222222222222,
             "#7201a8"
            ],
            [
             0.3333333333333333,
             "#9c179e"
            ],
            [
             0.4444444444444444,
             "#bd3786"
            ],
            [
             0.5555555555555556,
             "#d8576b"
            ],
            [
             0.6666666666666666,
             "#ed7953"
            ],
            [
             0.7777777777777778,
             "#fb9f3a"
            ],
            [
             0.8888888888888888,
             "#fdca26"
            ],
            [
             1,
             "#f0f921"
            ]
           ]
          },
          "colorway": [
           "#636efa",
           "#EF553B",
           "#00cc96",
           "#ab63fa",
           "#FFA15A",
           "#19d3f3",
           "#FF6692",
           "#B6E880",
           "#FF97FF",
           "#FECB52"
          ],
          "font": {
           "color": "#2a3f5f"
          },
          "geo": {
           "bgcolor": "white",
           "lakecolor": "white",
           "landcolor": "#E5ECF6",
           "showlakes": true,
           "showland": true,
           "subunitcolor": "white"
          },
          "hoverlabel": {
           "align": "left"
          },
          "hovermode": "closest",
          "mapbox": {
           "style": "light"
          },
          "paper_bgcolor": "white",
          "plot_bgcolor": "#E5ECF6",
          "polar": {
           "angularaxis": {
            "gridcolor": "white",
            "linecolor": "white",
            "ticks": ""
           },
           "bgcolor": "#E5ECF6",
           "radialaxis": {
            "gridcolor": "white",
            "linecolor": "white",
            "ticks": ""
           }
          },
          "scene": {
           "xaxis": {
            "backgroundcolor": "#E5ECF6",
            "gridcolor": "white",
            "gridwidth": 2,
            "linecolor": "white",
            "showbackground": true,
            "ticks": "",
            "zerolinecolor": "white"
           },
           "yaxis": {
            "backgroundcolor": "#E5ECF6",
            "gridcolor": "white",
            "gridwidth": 2,
            "linecolor": "white",
            "showbackground": true,
            "ticks": "",
            "zerolinecolor": "white"
           },
           "zaxis": {
            "backgroundcolor": "#E5ECF6",
            "gridcolor": "white",
            "gridwidth": 2,
            "linecolor": "white",
            "showbackground": true,
            "ticks": "",
            "zerolinecolor": "white"
           }
          },
          "shapedefaults": {
           "line": {
            "color": "#2a3f5f"
           }
          },
          "ternary": {
           "aaxis": {
            "gridcolor": "white",
            "linecolor": "white",
            "ticks": ""
           },
           "baxis": {
            "gridcolor": "white",
            "linecolor": "white",
            "ticks": ""
           },
           "bgcolor": "#E5ECF6",
           "caxis": {
            "gridcolor": "white",
            "linecolor": "white",
            "ticks": ""
           }
          },
          "title": {
           "x": 0.05
          },
          "xaxis": {
           "automargin": true,
           "gridcolor": "white",
           "linecolor": "white",
           "ticks": "",
           "title": {
            "standoff": 15
           },
           "zerolinecolor": "white",
           "zerolinewidth": 2
          },
          "yaxis": {
           "automargin": true,
           "gridcolor": "white",
           "linecolor": "white",
           "ticks": "",
           "title": {
            "standoff": 15
           },
           "zerolinecolor": "white",
           "zerolinewidth": 2
          }
         }
        },
        "title": {
         "text": "Persebaran penjualan berdasarkan kondisi rumah"
        }
       }
      }
     },
     "metadata": {},
     "output_type": "display_data"
    }
   ],
   "source": [
    "df3 = dataduplicate['condition'].value_counts().reset_index()\n",
    "df3.columns = ['Condition', 'Value']\n",
    "fig3 = px.pie(df3, values='Value', names='Condition', color_discrete_sequence=px.colors.sequential.Plasma,\n",
    "              title='Persebaran penjualan berdasarkan kondisi rumah')\n",
    "fig3.show()"
   ]
  },
  {
   "cell_type": "markdown",
   "metadata": {},
   "source": [
    "`INSIGHT:`\n",
    "- Dapat dilihat pada kondisi rumah Cukup baik(3) memiliki penjualan terbesar sebesar 62.6%. Hal ini menunjukan bahwa kondisi rumah 3 sudah cukup baik untuk dibeli dan keuntungannya harga rumahnya lebih murah dibandingkan kondisi baik(4), dan sangat baik(5).\n",
    "- Kondisi rumah sangat buruk(1) sangat jarang dibeli , karena walaupun harganya murah , tetapi akan menghabiskan lebih banyak uang untuk memperbaiki kerusakan yang ada"
   ]
  },
  {
   "cell_type": "markdown",
   "metadata": {},
   "source": [
    "#### 3. Apakah rumah yang memiliki view ke pantai memiliki rata-rata harga lebih tinggi?"
   ]
  },
  {
   "cell_type": "code",
   "execution_count": 16,
   "metadata": {},
   "outputs": [
    {
     "data": {
      "text/plain": [
       "<Axes: xlabel='waterfront', ylabel='price'>"
      ]
     },
     "execution_count": 16,
     "metadata": {},
     "output_type": "execute_result"
    },
    {
     "data": {
      "image/png": "[encoded data removed]",
      "text/plain": [
       "<Figure size 1000x500 with 1 Axes>"
      ]
     },
     "metadata": {},
     "output_type": "display_data"
    }
   ],
   "source": [
    "sns.set(rc={'figure.figsize':(10,5)})\n",
    "cols = ['green','pink']\n",
    "sns.barplot(x='waterfront', y='price', palette= cols, data=dataduplicate)"
   ]
  },
  {
   "cell_type": "code",
   "execution_count": 17,
   "metadata": {},
   "outputs": [
    {
     "data": {
      "text/plain": [
       "waterfront\n",
       "0    5.510122e+05\n",
       "1    1.596783e+06\n",
       "Name: price, dtype: float64"
      ]
     },
     "execution_count": 17,
     "metadata": {},
     "output_type": "execute_result"
    }
   ],
   "source": [
    "#menampilkan angka rata-ratanya\n",
    "dataduplicate.groupby('waterfront')['price'].mean()"
   ]
  },
  {
   "cell_type": "markdown",
   "metadata": {},
   "source": [
    "0 = 551012.2\n",
    "\n",
    "1 = 1596783"
   ]
  },
  {
   "cell_type": "markdown",
   "metadata": {},
   "source": [
    "`INSIGHT :`\n",
    "- Rumah dengan view pantai biasanya harganya jauh lebih tinggi dibanding yang tidak memiliki view pantai\n",
    "- Sebagai yang kita tahu rumah di pinggir pantai merupakan rumah yang bisa dibilang idaman bagi sebagian besar orang , selain dekat dengan tempat wisata , biasanya udaranya juga sejuk dan nyaman untuk bersantai.\n",
    "- Rumah dipinggir pantai juga biasanya jauh dari kepadatan pusat kota, karena letaknya yang berada di pinggiran kota."
   ]
  },
  {
   "cell_type": "markdown",
   "metadata": {},
   "source": [
    "#### 4. Kota mana yang menjual rumah dengan nilai kondisi rumah yang tinggi?"
   ]
  },
  {
   "cell_type": "code",
   "execution_count": 18,
   "metadata": {},
   "outputs": [
    {
     "data": {
      "text/html": [
       "<div>\n",
       "<style scoped>\n",
       "    .dataframe tbody tr th:only-of-type {\n",
       "        vertical-align: middle;\n",
       "    }\n",
       "\n",
       "    .dataframe tbody tr th {\n",
       "        vertical-align: top;\n",
       "    }\n",
       "\n",
       "    .dataframe thead th {\n",
       "        text-align: right;\n",
       "    }\n",
       "</style>\n",
       "<table border=\"1\" class=\"dataframe\">\n",
       "  <thead>\n",
       "    <tr style=\"text-align: right;\">\n",
       "      <th></th>\n",
       "      <th>price</th>\n",
       "    </tr>\n",
       "    <tr>\n",
       "      <th>city</th>\n",
       "      <th></th>\n",
       "    </tr>\n",
       "  </thead>\n",
       "  <tbody>\n",
       "    <tr>\n",
       "      <th>Medina</th>\n",
       "      <td>2.046559e+06</td>\n",
       "    </tr>\n",
       "    <tr>\n",
       "      <th>Clyde Hill</th>\n",
       "      <td>1.615711e+06</td>\n",
       "    </tr>\n",
       "    <tr>\n",
       "      <th>Yarrow Point</th>\n",
       "      <td>1.194838e+06</td>\n",
       "    </tr>\n",
       "  </tbody>\n",
       "</table>\n",
       "</div>"
      ],
      "text/plain": [
       "                     price\n",
       "city                      \n",
       "Medina        2.046559e+06\n",
       "Clyde Hill    1.615711e+06\n",
       "Yarrow Point  1.194838e+06"
      ]
     },
     "execution_count": 18,
     "metadata": {},
     "output_type": "execute_result"
    }
   ],
   "source": [
    "# Menampilkan nilai mean kondisi rumah setiap kota\n",
    "city_price= dataduplicate.groupby('city')['price'].mean()\n",
    "\n",
    "kondisi_df = pd.DataFrame(city_price)\n",
    "City_mean_price =kondisi_df.sort_values('price',ascending=False)\n",
    "top3city = City_mean_price.head(3)\n",
    "top3city\n",
    "\n"
   ]
  },
  {
   "cell_type": "code",
   "execution_count": 19,
   "metadata": {},
   "outputs": [
    {
     "data": {
      "image/png": "[encoded data removed]",
      "text/plain": [
       "<Figure size 1000x600 with 1 Axes>"
      ]
     },
     "metadata": {},
     "output_type": "display_data"
    }
   ],
   "source": [
    "top3city.plot(kind='bar', figsize=(10,6))\n",
    "\n",
    "plt.title('3 Kota dengan rata-rata harga rumah tertinggi')\n",
    "plt.ylabel('Mean Price')\n",
    "plt.xlabel('City')\n",
    "# plt.xticks(rotation=0) \n",
    "\n",
    "plt.show()"
   ]
  },
  {
   "cell_type": "markdown",
   "metadata": {},
   "source": [
    "`INSIHGT`:\n",
    "- Daerah Medina, Clyde Hill, dan Yarrow Point merupakan daerah yang bisa dibilang jarang untuk mendirikan rumah (tidak terlalu padat), karena harga tanah dan harga rumah di daerah tersebut cukup mahal\n",
    "- Bisa dibilang di daerah tersebut merupakan rumah-rumah mewah dan bagus.\n",
    "- Jika ingin mencari rumah dengan spesifikasi seperti itu dan memiliki uang yang cukup bisa membeli rumah di 3 daerah tersebut."
   ]
  },
  {
   "cell_type": "markdown",
   "metadata": {},
   "source": [
    "#### 5. Apakah rumah yang pernah di renovasi memiliki tingkat kondisi yang lebih baik?"
   ]
  },
  {
   "cell_type": "code",
   "execution_count": 20,
   "metadata": {},
   "outputs": [
    {
     "data": {
      "text/plain": [
       "<Axes: xlabel='renovated', ylabel='condition'>"
      ]
     },
     "execution_count": 20,
     "metadata": {},
     "output_type": "execute_result"
    },
    {
     "data": {
      "image/png": "[encoded data removed]",
      "text/plain": [
       "<Figure size 1000x500 with 1 Axes>"
      ]
     },
     "metadata": {},
     "output_type": "display_data"
    }
   ],
   "source": [
    "sns.set(rc={'figure.figsize':(10,5)})\n",
    "cols = ['green','pink']\n",
    "sns.barplot(x='renovated', y='condition', palette= cols, data=dataduplicate)"
   ]
  },
  {
   "cell_type": "markdown",
   "metadata": {},
   "source": [
    "`INSIGHT:`\n",
    "- Tampaknya ada pengaruh kondisi rumah dengan status renovasinya.\n",
    "- Rumah yang pernah direnovasi memiliki kondisi yang lebih baik.\n",
    "- Namun begitu perbedaan kondisinya tidak terlalu jauh dengan yang tidak pernah direnovasi\n",
    "- Hal ini bergantung dengan pemakaian rumah sebelumnya."
   ]
  },
  {
   "cell_type": "markdown",
   "metadata": {},
   "source": [
    "#### 6. Apakah hubungan luas ruang keluarga dengan harga?"
   ]
  },
  {
   "cell_type": "code",
   "execution_count": 21,
   "metadata": {},
   "outputs": [
    {
     "data": {
      "image/png": "[encoded data removed]",
      "text/plain": [
       "<Figure size 1000x500 with 1 Axes>"
      ]
     },
     "metadata": {},
     "output_type": "display_data"
    }
   ],
   "source": [
    "\n",
    "average_purchases = dataduplicate.groupby('sqft_living')['price'].mean()\n",
    "# Membuat scatter plot\n",
    "plt.scatter(average_purchases.index, average_purchases.values, alpha=0.5)\n",
    "\n",
    "# Menambahkan label sumbu dan judul\n",
    "plt.xlabel('Luas Ruang Tamu (squarefeet)')\n",
    "plt.ylabel('Rata-rata Harga Rumah')\n",
    "plt.title('Rata-rata harga rumah dengan luas ruang tamu')\n",
    "\n",
    "# Menampilkan plot\n",
    "plt.show()"
   ]
  },
  {
   "cell_type": "markdown",
   "metadata": {},
   "source": [
    "`INSIGHT`:\n",
    "- Dari scatter plot diatas dapat dilihat bahwa ada hubungan dengan trend positif antara harga rumah dengan luas ruang tamu\n",
    "- Artinya semakin besar luas ruang tamu , maka rumahnya juga akan semakin mahal\n",
    "- Hal ini diakibatkan karena sebagian besar waktu dirumah dihabiskan diruang tamu untuk berkumpul dengan teman atau keluarga, bekera , dan sekedar bersantai\n",
    "- Ruang tamu yang megah/besar dan juga nyaman akan membuat rumah tersebut memiliki nilai yang lebih tinggi"
   ]
  },
  {
   "cell_type": "markdown",
   "metadata": {},
   "source": [
    "#### 7. Apakah ada hubungan antara Jumlah tingkat rumah dengan harga rumah?"
   ]
  },
  {
   "cell_type": "code",
   "execution_count": 22,
   "metadata": {},
   "outputs": [
    {
     "data": {
      "image/png": "[encoded data removed]",
      "text/plain": [
       "<Figure size 1000x500 with 1 Axes>"
      ]
     },
     "metadata": {},
     "output_type": "display_data"
    }
   ],
   "source": [
    "\n",
    "# Membuat scatter plot\n",
    "plt.scatter('sqft_living', 'price', data=dataduplicate, alpha=0.5)\n",
    "\n",
    "# Menambahkan label sumbu dan judul\n",
    "plt.xlabel('Harga Rumah')\n",
    "plt.ylabel('Tingkat Rumah')\n",
    "plt.title('Tingkat rumah dengan Rata-rata harga rumah')\n",
    "\n",
    "# Menampilkan plot\n",
    "plt.show()"
   ]
  },
  {
   "cell_type": "markdown",
   "metadata": {},
   "source": [
    "`INSIGHT`:\n",
    "- Dari scatter plot dilihat sebenarnya ada hubungan tingkat rumah dan harga rumah , namun tidak terlalu signifikan\n",
    "- Hal ini mungkin diakibatkan jumlah tingkat rumah tidak menggambarkan keindahan dan kenyamanan rumah , ataupun juga kondisi rumah\n",
    "- Mungkin hal ini berpengaruh pada rumah yang nilai kondisinya sama , maka tingkat rumah akan berpengaruh.\n",
    "- Terlihat dari ada rumah yang tingkatannya rendah hanya 1 laintai, namun harganya paling mahal , mungkin ini karena rumah tersebut mewah dan sangat luas.\n",
    "- Sedangkan ada rumah yang tinggi , namun harganya rendah , mungkin ini karena rumah tersebut tinggi namun sempit dan tidak nyaman dihuni."
   ]
  },
  {
   "cell_type": "markdown",
   "metadata": {},
   "source": [
    "#### 8. Bagaimana pengaruh usia rumah dengan harga rumah itu sendiri?"
   ]
  },
  {
   "cell_type": "code",
   "execution_count": 23,
   "metadata": {},
   "outputs": [
    {
     "data": {
      "text/plain": [
       "<seaborn.axisgrid.FacetGrid at 0x1a69a6d4450>"
      ]
     },
     "execution_count": 23,
     "metadata": {},
     "output_type": "execute_result"
    },
    {
     "data": {
      "image/png": "[encoded data removed]",
      "text/plain": [
       "<Figure size 500x500 with 1 Axes>"
      ]
     },
     "metadata": {},
     "output_type": "display_data"
    }
   ],
   "source": [
    "sns.set(rc={'figure.figsize':(10,5)})\n",
    "sns.relplot(kind='line',\n",
    "            x='house_age',\n",
    "            y='price',\n",
    "            data=dataduplicate\n",
    "           )"
   ]
  },
  {
   "cell_type": "markdown",
   "metadata": {},
   "source": [
    "`INSIGHT`:\n",
    "- Tidak pola yang terlihat signifikan dari grafik diatas\n",
    "- Usia rumah tidak menjamin harga rumah\n",
    "- Bisa saja rumah yang sudah tua, namun karena nilai keaslian dan vintage nya menjadi lebih mahal\n",
    "- Bisa saja rumah yang baru dibangun namun harganya lebih rendah dari rumah yang sudah tua karena kondisinya biasa saja."
   ]
  },
  {
   "cell_type": "markdown",
   "metadata": {},
   "source": [
    "# **v. Feature Engineering**"
   ]
  },
  {
   "cell_type": "markdown",
   "metadata": {},
   "source": [
    "> Bagian ini berisi proses penyiapan data untuk proses pelatihan model, seperti pembagian data menjadi train-test, transformasi data (normalisasi, encoding, dll.), dan proses-proses lain yang dibutuhkan."
   ]
  },
  {
   "cell_type": "markdown",
   "metadata": {},
   "source": [
    "### 1. Membagi Data menjadi data Numerikal dan Kategorikal"
   ]
  },
  {
   "cell_type": "code",
   "execution_count": 83,
   "metadata": {},
   "outputs": [
    {
     "data": {
      "text/plain": [
       "0    4103\n",
       "2     201\n",
       "3     115\n",
       "1      69\n",
       "4      63\n",
       "Name: view, dtype: int64"
      ]
     },
     "execution_count": 83,
     "metadata": {},
     "output_type": "execute_result"
    }
   ],
   "source": [
    "dataduplicate['view'].value_counts()"
   ]
  },
  {
   "cell_type": "markdown",
   "metadata": {},
   "source": [
    "- `Data Kategorikal` = Data yang merepresentasikan kategori atau kelompok dan tidak memiliki nilai yang dapat diukur secara numerik.\n",
    "\n",
    "- `Data Numerikal`  = Data numerikal mengandung nilai yang dapat diukur atau dihitung secara matematis."
   ]
  },
  {
   "cell_type": "code",
   "execution_count": 24,
   "metadata": {},
   "outputs": [],
   "source": [
    "#Divide category columns into category_columns\n",
    "category_columns = dataduplicate[['waterfront','view','condition','renovated','city']]\n",
    "\n",
    "# Divide numeric columns into numeric_columns\n",
    "numeric_columns = dataduplicate[['bedrooms', 'bathrooms', 'sqft_living','sqft_lot','floors','sqft_above','sqft_basement','house_age']]"
   ]
  },
  {
   "cell_type": "code",
   "execution_count": 25,
   "metadata": {},
   "outputs": [
    {
     "data": {
      "text/html": [
       "<div>\n",
       "<style scoped>\n",
       "    .dataframe tbody tr th:only-of-type {\n",
       "        vertical-align: middle;\n",
       "    }\n",
       "\n",
       "    .dataframe tbody tr th {\n",
       "        vertical-align: top;\n",
       "    }\n",
       "\n",
       "    .dataframe thead th {\n",
       "        text-align: right;\n",
       "    }\n",
       "</style>\n",
       "<table border=\"1\" class=\"dataframe\">\n",
       "  <thead>\n",
       "    <tr style=\"text-align: right;\">\n",
       "      <th></th>\n",
       "      <th>waterfront</th>\n",
       "      <th>view</th>\n",
       "      <th>condition</th>\n",
       "      <th>renovated</th>\n",
       "      <th>city</th>\n",
       "    </tr>\n",
       "  </thead>\n",
       "  <tbody>\n",
       "    <tr>\n",
       "      <th>0</th>\n",
       "      <td>0</td>\n",
       "      <td>0</td>\n",
       "      <td>3</td>\n",
       "      <td>1</td>\n",
       "      <td>Shoreline</td>\n",
       "    </tr>\n",
       "    <tr>\n",
       "      <th>1</th>\n",
       "      <td>0</td>\n",
       "      <td>4</td>\n",
       "      <td>5</td>\n",
       "      <td>0</td>\n",
       "      <td>Seattle</td>\n",
       "    </tr>\n",
       "    <tr>\n",
       "      <th>2</th>\n",
       "      <td>0</td>\n",
       "      <td>0</td>\n",
       "      <td>4</td>\n",
       "      <td>0</td>\n",
       "      <td>Kent</td>\n",
       "    </tr>\n",
       "    <tr>\n",
       "      <th>3</th>\n",
       "      <td>0</td>\n",
       "      <td>0</td>\n",
       "      <td>4</td>\n",
       "      <td>0</td>\n",
       "      <td>Bellevue</td>\n",
       "    </tr>\n",
       "    <tr>\n",
       "      <th>4</th>\n",
       "      <td>0</td>\n",
       "      <td>0</td>\n",
       "      <td>4</td>\n",
       "      <td>1</td>\n",
       "      <td>Redmond</td>\n",
       "    </tr>\n",
       "  </tbody>\n",
       "</table>\n",
       "</div>"
      ],
      "text/plain": [
       "   waterfront  view  condition  renovated       city\n",
       "0           0     0          3          1  Shoreline\n",
       "1           0     4          5          0    Seattle\n",
       "2           0     0          4          0       Kent\n",
       "3           0     0          4          0   Bellevue\n",
       "4           0     0          4          1    Redmond"
      ]
     },
     "execution_count": 25,
     "metadata": {},
     "output_type": "execute_result"
    }
   ],
   "source": [
    "# menampilkan categorical dataframe\n",
    "category_columns.head()"
   ]
  },
  {
   "cell_type": "code",
   "execution_count": 26,
   "metadata": {},
   "outputs": [
    {
     "data": {
      "text/html": [
       "<div>\n",
       "<style scoped>\n",
       "    .dataframe tbody tr th:only-of-type {\n",
       "        vertical-align: middle;\n",
       "    }\n",
       "\n",
       "    .dataframe tbody tr th {\n",
       "        vertical-align: top;\n",
       "    }\n",
       "\n",
       "    .dataframe thead th {\n",
       "        text-align: right;\n",
       "    }\n",
       "</style>\n",
       "<table border=\"1\" class=\"dataframe\">\n",
       "  <thead>\n",
       "    <tr style=\"text-align: right;\">\n",
       "      <th></th>\n",
       "      <th>bedrooms</th>\n",
       "      <th>bathrooms</th>\n",
       "      <th>sqft_living</th>\n",
       "      <th>sqft_lot</th>\n",
       "      <th>floors</th>\n",
       "      <th>sqft_above</th>\n",
       "      <th>sqft_basement</th>\n",
       "      <th>house_age</th>\n",
       "    </tr>\n",
       "  </thead>\n",
       "  <tbody>\n",
       "    <tr>\n",
       "      <th>0</th>\n",
       "      <td>3.0</td>\n",
       "      <td>2.0</td>\n",
       "      <td>1340</td>\n",
       "      <td>7912</td>\n",
       "      <td>2.0</td>\n",
       "      <td>1340</td>\n",
       "      <td>0</td>\n",
       "      <td>59</td>\n",
       "    </tr>\n",
       "    <tr>\n",
       "      <th>1</th>\n",
       "      <td>5.0</td>\n",
       "      <td>2.0</td>\n",
       "      <td>3650</td>\n",
       "      <td>9050</td>\n",
       "      <td>2.0</td>\n",
       "      <td>3370</td>\n",
       "      <td>280</td>\n",
       "      <td>93</td>\n",
       "    </tr>\n",
       "    <tr>\n",
       "      <th>2</th>\n",
       "      <td>3.0</td>\n",
       "      <td>2.0</td>\n",
       "      <td>1930</td>\n",
       "      <td>11947</td>\n",
       "      <td>1.0</td>\n",
       "      <td>1930</td>\n",
       "      <td>0</td>\n",
       "      <td>48</td>\n",
       "    </tr>\n",
       "    <tr>\n",
       "      <th>3</th>\n",
       "      <td>3.0</td>\n",
       "      <td>2.0</td>\n",
       "      <td>2000</td>\n",
       "      <td>8030</td>\n",
       "      <td>1.0</td>\n",
       "      <td>1000</td>\n",
       "      <td>1000</td>\n",
       "      <td>51</td>\n",
       "    </tr>\n",
       "    <tr>\n",
       "      <th>4</th>\n",
       "      <td>4.0</td>\n",
       "      <td>2.0</td>\n",
       "      <td>1940</td>\n",
       "      <td>10500</td>\n",
       "      <td>1.0</td>\n",
       "      <td>1140</td>\n",
       "      <td>800</td>\n",
       "      <td>38</td>\n",
       "    </tr>\n",
       "  </tbody>\n",
       "</table>\n",
       "</div>"
      ],
      "text/plain": [
       "   bedrooms  bathrooms  sqft_living  sqft_lot  floors  sqft_above  \\\n",
       "0       3.0        2.0         1340      7912     2.0        1340   \n",
       "1       5.0        2.0         3650      9050     2.0        3370   \n",
       "2       3.0        2.0         1930     11947     1.0        1930   \n",
       "3       3.0        2.0         2000      8030     1.0        1000   \n",
       "4       4.0        2.0         1940     10500     1.0        1140   \n",
       "\n",
       "   sqft_basement  house_age  \n",
       "0              0         59  \n",
       "1            280         93  \n",
       "2              0         48  \n",
       "3           1000         51  \n",
       "4            800         38  "
      ]
     },
     "execution_count": 26,
     "metadata": {},
     "output_type": "execute_result"
    }
   ],
   "source": [
    "#menampilkan numerikal dataframe\n",
    "numeric_columns.head()"
   ]
  },
  {
   "cell_type": "markdown",
   "metadata": {},
   "source": [
    "### 2. Cardinality Handling"
   ]
  },
  {
   "cell_type": "markdown",
   "metadata": {},
   "source": [
    "> Handling Cardinality Hanya dilakukan pada kolom Categorical"
   ]
  },
  {
   "cell_type": "code",
   "execution_count": 27,
   "metadata": {},
   "outputs": [
    {
     "name": "stdout",
     "output_type": "stream",
     "text": [
      "cardinality kolom waterfront: 2\n",
      "cardinality kolom view: 5\n",
      "cardinality kolom condition: 5\n",
      "cardinality kolom renovated: 2\n",
      "cardinality kolom city: 44\n"
     ]
    }
   ],
   "source": [
    "# melakukan looping untuk mencari nilai unique tiap kolom\n",
    "for i in category_columns.columns:\n",
    "    print(f'cardinality kolom {i}:', category_columns[i].nunique())"
   ]
  },
  {
   "cell_type": "markdown",
   "metadata": {},
   "source": [
    "`INSIGHT:`\n",
    "- Kolom waterfront, renovated, view, dan condition termasuk kedalam kolom yang `low cardinality`.\n",
    "\n",
    "- Kolom City termasuk kedalam `high cardinality` sehingga perlu di handle"
   ]
  },
  {
   "cell_type": "markdown",
   "metadata": {},
   "source": [
    "##### A. Handling Cardinality Kolom ' city '"
   ]
  },
  {
   "cell_type": "code",
   "execution_count": 28,
   "metadata": {},
   "outputs": [
    {
     "data": {
      "text/plain": [
       "array(['Shoreline', 'Seattle', 'Kent', 'Bellevue', 'Redmond',\n",
       "       'Maple Valley', 'North Bend', 'Lake Forest Park', 'Sammamish',\n",
       "       'Auburn', 'Des Moines', 'Bothell', 'Federal Way', 'Kirkland',\n",
       "       'Issaquah', 'Woodinville', 'Normandy Park', 'Fall City', 'Renton',\n",
       "       'Carnation', 'Snoqualmie', 'Duvall', 'Burien', 'Covington',\n",
       "       'Inglewood-Finn Hill', 'Kenmore', 'Newcastle', 'Mercer Island',\n",
       "       'Black Diamond', 'Ravensdale', 'Clyde Hill', 'Algona', 'Skykomish',\n",
       "       'Tukwila', 'Vashon', 'Yarrow Point', 'SeaTac', 'Medina',\n",
       "       'Enumclaw', 'Snoqualmie Pass', 'Pacific', 'Beaux Arts Village',\n",
       "       'Preston', 'Milton'], dtype=object)"
      ]
     },
     "execution_count": 28,
     "metadata": {},
     "output_type": "execute_result"
    }
   ],
   "source": [
    "#cek unique value kolom city\n",
    "category_columns['city'].unique()"
   ]
  },
  {
   "cell_type": "markdown",
   "metadata": {},
   "source": [
    "Nama-nama diatas merupakan nama-nama kota yang terletak pada negara bagian Washington , Amerika Serikat . Kita bisa membaginya berdasarkan letak geografisnya terhadap kota pusat / terbesarnya yaitu kota seattle dengan pembagian seperti berikut. \n",
    "\n",
    "*Source = Google*\n",
    "\n",
    "1 =  `Seattle Utara`:\n",
    "Shoreline,\n",
    "Lake Forest Park,\n",
    "Kenmore\n",
    "\n",
    "2 = `Seattle`:\n",
    "Seattle\n",
    "\n",
    "3 = `Wilayah Timur`:\n",
    "Bellevue,\n",
    "Redmond,\n",
    "Kirkland,\n",
    "Sammamish,\n",
    "Issaquah,\n",
    "Woodinville,\n",
    "Newcastle,\n",
    "\n",
    "4 = `Wilayah Selatan Seattle`:\n",
    "Renton,\n",
    "Kent,\n",
    "Auburn,\n",
    "Des Moines,\n",
    "Federal Way,\n",
    "Burien,\n",
    "Tukwila,\n",
    "SeaTac,\n",
    "Normandy Park\n",
    "\n",
    "5 =  `Wilayah Barat Daya Seattle`:\n",
    "Mercer Island,\n",
    "Medina,\n",
    "Clyde Hill,\n",
    "Yarrow Point,\n",
    "Beaux Arts Village\n",
    "\n",
    "6 = `Wilayah Selatan Pegunungan Cascade`:\n",
    "Black Diamond,\n",
    "Covington,\n",
    "Enumclaw\n",
    "\n",
    "7 = `Wilayah Pegunungan Cascade`:\n",
    "Maple Valley,\n",
    "North Bend,\n",
    "Snoqualmie,\n",
    "Duvall,\n",
    "Carnation,\n",
    "Ravensdale,\n",
    "Fall City,\n",
    "Skykomish,\n",
    "Snoqualmie Pass\n",
    "\n",
    "8 = `Wilayah Lainnya`:\n",
    "Bothell,\n",
    "Inglewood-Finn Hill,\n",
    "Algona,\n",
    "Vashon,\n",
    "Preston,\n",
    "Milton,\n",
    "Pacific,"
   ]
  },
  {
   "cell_type": "code",
   "execution_count": 29,
   "metadata": {},
   "outputs": [],
   "source": [
    "#membuat fungsi untuk mengubah nama kota ke area\n",
    "def klasifikasi_kota(kota):\n",
    "    if pd.isna(kota):\n",
    "        pass\n",
    "    elif kota in ['Shoreline','Lake Forest Park','Kenmore']:\n",
    "        return 1\n",
    "    elif kota in ['Seattle']:\n",
    "        return 2\n",
    "    elif kota in ['Bellevue','Redmond','Kirkland','Sammamish','Issaquah','Woodinville','Newcastle']:\n",
    "        return 3\n",
    "    elif kota in ['Renton','Kent','Auburn','Des Moines','Federal Way','Burien','Tukwila','SeaTac','Normandy Park']:\n",
    "        return 4\n",
    "    elif kota in ['Mercer Island','Medina','Clyde Hill','Yarrow Point','Beaux Arts Village']:\n",
    "        return 5\n",
    "    elif kota in ['Black Diamond','Covington','Enumclaw']:\n",
    "        return 6\n",
    "    elif kota in ['Maple Valley','North Bend','Snoqualmie','Duvall','Carnation','Ravensdale','Fall City','Skykomish','Snoqualmie Pass']:\n",
    "        return 7\n",
    "    elif kota in ['Bothell','Inglewood-Finn Hill','Algona','Vashon','Preston','Milton','Pacific']:\n",
    "        return 8\n",
    "    \n",
    "\n"
   ]
  },
  {
   "cell_type": "code",
   "execution_count": 30,
   "metadata": {},
   "outputs": [
    {
     "data": {
      "text/plain": [
       "0       1\n",
       "1       2\n",
       "2       4\n",
       "3       3\n",
       "4       3\n",
       "       ..\n",
       "4595    2\n",
       "4596    3\n",
       "4597    4\n",
       "4598    2\n",
       "4599    6\n",
       "Name: area, Length: 4551, dtype: int64"
      ]
     },
     "execution_count": 30,
     "metadata": {},
     "output_type": "execute_result"
    }
   ],
   "source": [
    "#buat kolom baru area\n",
    "category_columns['area'] = category_columns['city'].apply(klasifikasi_kota)\n",
    "category_columns['area']"
   ]
  },
  {
   "cell_type": "code",
   "execution_count": 31,
   "metadata": {},
   "outputs": [],
   "source": [
    "#melihat kategorikal kolom yang sudah diperbaharui\n",
    "category_columns['price'] = dataduplicate['price']"
   ]
  },
  {
   "cell_type": "code",
   "execution_count": 32,
   "metadata": {},
   "outputs": [
    {
     "data": {
      "text/plain": [
       "2    1561\n",
       "3    1207\n",
       "4     999\n",
       "7     300\n",
       "1     222\n",
       "5     107\n",
       "8      78\n",
       "6      77\n",
       "Name: area, dtype: int64"
      ]
     },
     "execution_count": 32,
     "metadata": {},
     "output_type": "execute_result"
    }
   ],
   "source": [
    "#melihat jumlah dari unique value kolom area\n",
    "category_columns['area'].value_counts()"
   ]
  },
  {
   "cell_type": "code",
   "execution_count": 33,
   "metadata": {},
   "outputs": [],
   "source": [
    "#menghapus kolom city karena sudah diwakilkan dengan kolom area dengan lebih baik (tidak high cardinal)\n",
    "category_columns.drop(['city'],axis=1,inplace=True)"
   ]
  },
  {
   "cell_type": "markdown",
   "metadata": {},
   "source": [
    "### 3. Feature Selection"
   ]
  },
  {
   "cell_type": "markdown",
   "metadata": {},
   "source": [
    "Melakukan feature selection menggunakan `Heatmap Correlation`"
   ]
  },
  {
   "cell_type": "code",
   "execution_count": 34,
   "metadata": {},
   "outputs": [],
   "source": [
    "#membagi kolom kategorikal dan numerikal\n",
    "cols_num = ['price','bedrooms','bathrooms','sqft_living','sqft_lot','floors','sqft_above','sqft_basement','house_age']\n",
    "cols_cat = ['waterfront','view','condition','city','renovated','area','price']\n"
   ]
  },
  {
   "cell_type": "code",
   "execution_count": 35,
   "metadata": {},
   "outputs": [
    {
     "data": {
      "text/plain": [
       "<Axes: >"
      ]
     },
     "execution_count": 35,
     "metadata": {},
     "output_type": "execute_result"
    },
    {
     "data": {
      "image/png": "[encoded data removed]",
      "text/plain": [
       "<Figure size 2000x2000 with 2 Axes>"
      ]
     },
     "metadata": {},
     "output_type": "display_data"
    }
   ],
   "source": [
    "#melakukan plot temp_numeric_cols kedalam heatmap\n",
    "plt.figure(figsize=(20,20)) #mengatur ukuran figure\n",
    "sns.heatmap(dataduplicate[cols_num].corr(method='pearson'),annot=True)"
   ]
  },
  {
   "cell_type": "markdown",
   "metadata": {},
   "source": [
    "Threshold yang saya gunakan adalah 0.1 . Artinya saya akan mengambil kolom dengan korelasi yang < -0.1 dan > 0.1 terhadap kolom price."
   ]
  },
  {
   "cell_type": "markdown",
   "metadata": {},
   "source": [
    "`INSIGHT`:\n",
    "\n",
    "Dari Heatmap correlation dapat dilihat yang korelasinya cukup besar dengan harga rumah adalah :\n",
    "\n",
    "- bedrooms\n",
    "\n",
    "- bathrooms\n",
    "\n",
    "- sqft_living\n",
    "\n",
    "- floors\n",
    "\n",
    "- sqft_above\n",
    "\n",
    "- sqft_basement\n",
    "\n",
    "\n"
   ]
  },
  {
   "cell_type": "code",
   "execution_count": 36,
   "metadata": {},
   "outputs": [
    {
     "data": {
      "image/png": "[encoded data removed]",
      "text/plain": [
       "<Figure size 1000x600 with 2 Axes>"
      ]
     },
     "metadata": {},
     "output_type": "display_data"
    }
   ],
   "source": [
    "kendall_corr_matrix = category_columns.corr(method=lambda x, y: kendalltau(x, y).correlation)\n",
    "\n",
    "plt.figure(figsize=(10, 6))\n",
    "sns.heatmap(kendall_corr_matrix, annot=True, cmap='coolwarm', center=0)\n",
    "plt.title('Kendall tau Correlation Heatmap Categorical columns')\n",
    "plt.show()"
   ]
  },
  {
   "cell_type": "markdown",
   "metadata": {},
   "source": [
    "Threshold yang saya gunakan adalah 0.1 . Artinya saya akan mengambil kolom dengan korelasi yang < -0.1 dan > 0.1 terhadap kolom price."
   ]
  },
  {
   "cell_type": "markdown",
   "metadata": {},
   "source": [
    "`INSIGHT`:\n",
    "\n",
    "Dari Heatmap correlation kolom kategorikal dengan target 'price' dipilih beberapa feature dengan korelasi tertinggi :\n",
    "\n",
    "- area\n",
    "\n",
    "- view\n",
    "\n",
    "- condition"
   ]
  },
  {
   "cell_type": "markdown",
   "metadata": {},
   "source": [
    "**KESIMPULAN FEATURE SELECTION**\n",
    "\n",
    "Feature yang dipilih untuk dimasukan kedalam model adalah :\n",
    "1. Area (Kategorikal)\n",
    "2. View (Kategorikal)\n",
    "3. Bedrooms (Numerikal)\n",
    "4. Bathrooms (Numerikal)\n",
    "5. Sqft_living (Numerikal)\n",
    "6. Floors (Numerikal)\n",
    "7. Sqft_above (Numerikal)\n",
    "8. Sqft_basement (Numerikal)\n",
    "9. Condition (Kategorikal)"
   ]
  },
  {
   "cell_type": "code",
   "execution_count": 37,
   "metadata": {},
   "outputs": [
    {
     "data": {
      "text/html": [
       "<div>\n",
       "<style scoped>\n",
       "    .dataframe tbody tr th:only-of-type {\n",
       "        vertical-align: middle;\n",
       "    }\n",
       "\n",
       "    .dataframe tbody tr th {\n",
       "        vertical-align: top;\n",
       "    }\n",
       "\n",
       "    .dataframe thead th {\n",
       "        text-align: right;\n",
       "    }\n",
       "</style>\n",
       "<table border=\"1\" class=\"dataframe\">\n",
       "  <thead>\n",
       "    <tr style=\"text-align: right;\">\n",
       "      <th></th>\n",
       "      <th>price</th>\n",
       "      <th>view</th>\n",
       "      <th>bedrooms</th>\n",
       "      <th>bathrooms</th>\n",
       "      <th>sqft_living</th>\n",
       "      <th>floors</th>\n",
       "      <th>sqft_above</th>\n",
       "      <th>sqft_basement</th>\n",
       "      <th>condition</th>\n",
       "      <th>area</th>\n",
       "    </tr>\n",
       "  </thead>\n",
       "  <tbody>\n",
       "    <tr>\n",
       "      <th>0</th>\n",
       "      <td>313000.0</td>\n",
       "      <td>0</td>\n",
       "      <td>3.0</td>\n",
       "      <td>2.0</td>\n",
       "      <td>1340</td>\n",
       "      <td>2.0</td>\n",
       "      <td>1340</td>\n",
       "      <td>0</td>\n",
       "      <td>3</td>\n",
       "      <td>1</td>\n",
       "    </tr>\n",
       "    <tr>\n",
       "      <th>1</th>\n",
       "      <td>2384000.0</td>\n",
       "      <td>4</td>\n",
       "      <td>5.0</td>\n",
       "      <td>2.0</td>\n",
       "      <td>3650</td>\n",
       "      <td>2.0</td>\n",
       "      <td>3370</td>\n",
       "      <td>280</td>\n",
       "      <td>5</td>\n",
       "      <td>2</td>\n",
       "    </tr>\n",
       "    <tr>\n",
       "      <th>2</th>\n",
       "      <td>342000.0</td>\n",
       "      <td>0</td>\n",
       "      <td>3.0</td>\n",
       "      <td>2.0</td>\n",
       "      <td>1930</td>\n",
       "      <td>1.0</td>\n",
       "      <td>1930</td>\n",
       "      <td>0</td>\n",
       "      <td>4</td>\n",
       "      <td>4</td>\n",
       "    </tr>\n",
       "    <tr>\n",
       "      <th>3</th>\n",
       "      <td>420000.0</td>\n",
       "      <td>0</td>\n",
       "      <td>3.0</td>\n",
       "      <td>2.0</td>\n",
       "      <td>2000</td>\n",
       "      <td>1.0</td>\n",
       "      <td>1000</td>\n",
       "      <td>1000</td>\n",
       "      <td>4</td>\n",
       "      <td>3</td>\n",
       "    </tr>\n",
       "    <tr>\n",
       "      <th>4</th>\n",
       "      <td>550000.0</td>\n",
       "      <td>0</td>\n",
       "      <td>4.0</td>\n",
       "      <td>2.0</td>\n",
       "      <td>1940</td>\n",
       "      <td>1.0</td>\n",
       "      <td>1140</td>\n",
       "      <td>800</td>\n",
       "      <td>4</td>\n",
       "      <td>3</td>\n",
       "    </tr>\n",
       "  </tbody>\n",
       "</table>\n",
       "</div>"
      ],
      "text/plain": [
       "       price  view  bedrooms  bathrooms  sqft_living  floors  sqft_above  \\\n",
       "0   313000.0     0       3.0        2.0         1340     2.0        1340   \n",
       "1  2384000.0     4       5.0        2.0         3650     2.0        3370   \n",
       "2   342000.0     0       3.0        2.0         1930     1.0        1930   \n",
       "3   420000.0     0       3.0        2.0         2000     1.0        1000   \n",
       "4   550000.0     0       4.0        2.0         1940     1.0        1140   \n",
       "\n",
       "   sqft_basement  condition  area  \n",
       "0              0          3     1  \n",
       "1            280          5     2  \n",
       "2              0          4     4  \n",
       "3           1000          4     3  \n",
       "4            800          4     3  "
      ]
     },
     "execution_count": 37,
     "metadata": {},
     "output_type": "execute_result"
    }
   ],
   "source": [
    "#masukan feature selected kedalam dataframe baru\n",
    "feature_selected = dataduplicate[['price','view','bedrooms','bathrooms','sqft_living','floors','sqft_above','sqft_basement','condition']]\n",
    "feature_selected['area'] = category_columns['area']\n",
    "feature_selected.head()"
   ]
  },
  {
   "cell_type": "markdown",
   "metadata": {},
   "source": [
    "Berhasil membuat dataframe baru bernama feature_selected berisi feature-feature yang sudah dipilih berdasarkan nilai korelasi dengan kolom Price dan juga business knowledge."
   ]
  },
  {
   "cell_type": "markdown",
   "metadata": {},
   "source": [
    "### 4. Split Data"
   ]
  },
  {
   "cell_type": "code",
   "execution_count": 38,
   "metadata": {},
   "outputs": [],
   "source": [
    "#membagi data hasil pemilihan feature kedalam X(feature) dan y(target)\n",
    "X = feature_selected.drop(['price'], axis=1)\n",
    "y = feature_selected['price']"
   ]
  },
  {
   "cell_type": "code",
   "execution_count": 39,
   "metadata": {},
   "outputs": [
    {
     "name": "stdout",
     "output_type": "stream",
     "text": [
      "Train size (3640, 9)\n",
      "Test size (911, 9)\n"
     ]
    },
    {
     "data": {
      "text/html": [
       "<div>\n",
       "<style scoped>\n",
       "    .dataframe tbody tr th:only-of-type {\n",
       "        vertical-align: middle;\n",
       "    }\n",
       "\n",
       "    .dataframe tbody tr th {\n",
       "        vertical-align: top;\n",
       "    }\n",
       "\n",
       "    .dataframe thead th {\n",
       "        text-align: right;\n",
       "    }\n",
       "</style>\n",
       "<table border=\"1\" class=\"dataframe\">\n",
       "  <thead>\n",
       "    <tr style=\"text-align: right;\">\n",
       "      <th></th>\n",
       "      <th>view</th>\n",
       "      <th>bedrooms</th>\n",
       "      <th>bathrooms</th>\n",
       "      <th>sqft_living</th>\n",
       "      <th>floors</th>\n",
       "      <th>sqft_above</th>\n",
       "      <th>sqft_basement</th>\n",
       "      <th>condition</th>\n",
       "      <th>area</th>\n",
       "    </tr>\n",
       "  </thead>\n",
       "  <tbody>\n",
       "    <tr>\n",
       "      <th>799</th>\n",
       "      <td>0</td>\n",
       "      <td>3.0</td>\n",
       "      <td>2.0</td>\n",
       "      <td>1180</td>\n",
       "      <td>1.0</td>\n",
       "      <td>940</td>\n",
       "      <td>240</td>\n",
       "      <td>4</td>\n",
       "      <td>3</td>\n",
       "    </tr>\n",
       "    <tr>\n",
       "      <th>3547</th>\n",
       "      <td>0</td>\n",
       "      <td>3.0</td>\n",
       "      <td>2.0</td>\n",
       "      <td>2410</td>\n",
       "      <td>1.0</td>\n",
       "      <td>1860</td>\n",
       "      <td>550</td>\n",
       "      <td>4</td>\n",
       "      <td>4</td>\n",
       "    </tr>\n",
       "    <tr>\n",
       "      <th>2982</th>\n",
       "      <td>0</td>\n",
       "      <td>3.0</td>\n",
       "      <td>2.0</td>\n",
       "      <td>1860</td>\n",
       "      <td>2.0</td>\n",
       "      <td>1860</td>\n",
       "      <td>0</td>\n",
       "      <td>3</td>\n",
       "      <td>7</td>\n",
       "    </tr>\n",
       "    <tr>\n",
       "      <th>287</th>\n",
       "      <td>0</td>\n",
       "      <td>3.0</td>\n",
       "      <td>2.0</td>\n",
       "      <td>1410</td>\n",
       "      <td>1.0</td>\n",
       "      <td>1410</td>\n",
       "      <td>0</td>\n",
       "      <td>3</td>\n",
       "      <td>4</td>\n",
       "    </tr>\n",
       "    <tr>\n",
       "      <th>2634</th>\n",
       "      <td>3</td>\n",
       "      <td>4.0</td>\n",
       "      <td>4.0</td>\n",
       "      <td>3010</td>\n",
       "      <td>2.0</td>\n",
       "      <td>1940</td>\n",
       "      <td>1070</td>\n",
       "      <td>4</td>\n",
       "      <td>2</td>\n",
       "    </tr>\n",
       "  </tbody>\n",
       "</table>\n",
       "</div>"
      ],
      "text/plain": [
       "      view  bedrooms  bathrooms  sqft_living  floors  sqft_above  \\\n",
       "799      0       3.0        2.0         1180     1.0         940   \n",
       "3547     0       3.0        2.0         2410     1.0        1860   \n",
       "2982     0       3.0        2.0         1860     2.0        1860   \n",
       "287      0       3.0        2.0         1410     1.0        1410   \n",
       "2634     3       4.0        4.0         3010     2.0        1940   \n",
       "\n",
       "      sqft_basement  condition  area  \n",
       "799             240          4     3  \n",
       "3547            550          4     4  \n",
       "2982              0          3     7  \n",
       "287               0          3     4  \n",
       "2634           1070          4     2  "
      ]
     },
     "execution_count": 39,
     "metadata": {},
     "output_type": "execute_result"
    }
   ],
   "source": [
    "# Splitting between Train and Test\n",
    "\n",
    "from sklearn.model_selection import train_test_split\n",
    "\n",
    "X_train, X_test, y_train, y_test = train_test_split(\n",
    "    X, y, test_size=0.2, random_state=20)\n",
    "\n",
    "print('Train size', X_train.shape)\n",
    "print('Test size', X_test.shape)\n",
    "X_train.head()"
   ]
  },
  {
   "cell_type": "code",
   "execution_count": 40,
   "metadata": {},
   "outputs": [
    {
     "data": {
      "text/html": [
       "<div>\n",
       "<style scoped>\n",
       "    .dataframe tbody tr th:only-of-type {\n",
       "        vertical-align: middle;\n",
       "    }\n",
       "\n",
       "    .dataframe tbody tr th {\n",
       "        vertical-align: top;\n",
       "    }\n",
       "\n",
       "    .dataframe thead th {\n",
       "        text-align: right;\n",
       "    }\n",
       "</style>\n",
       "<table border=\"1\" class=\"dataframe\">\n",
       "  <thead>\n",
       "    <tr style=\"text-align: right;\">\n",
       "      <th></th>\n",
       "      <th>bedrooms</th>\n",
       "      <th>bathrooms</th>\n",
       "      <th>sqft_living</th>\n",
       "      <th>floors</th>\n",
       "      <th>sqft_above</th>\n",
       "      <th>sqft_basement</th>\n",
       "    </tr>\n",
       "  </thead>\n",
       "  <tbody>\n",
       "    <tr>\n",
       "      <th>3286</th>\n",
       "      <td>4.0</td>\n",
       "      <td>4.0</td>\n",
       "      <td>3770</td>\n",
       "      <td>2.0</td>\n",
       "      <td>2830</td>\n",
       "      <td>940</td>\n",
       "    </tr>\n",
       "    <tr>\n",
       "      <th>2352</th>\n",
       "      <td>2.0</td>\n",
       "      <td>2.0</td>\n",
       "      <td>982</td>\n",
       "      <td>2.0</td>\n",
       "      <td>806</td>\n",
       "      <td>176</td>\n",
       "    </tr>\n",
       "    <tr>\n",
       "      <th>3395</th>\n",
       "      <td>3.0</td>\n",
       "      <td>2.0</td>\n",
       "      <td>2320</td>\n",
       "      <td>3.0</td>\n",
       "      <td>2320</td>\n",
       "      <td>0</td>\n",
       "    </tr>\n",
       "    <tr>\n",
       "      <th>2938</th>\n",
       "      <td>3.0</td>\n",
       "      <td>3.0</td>\n",
       "      <td>3240</td>\n",
       "      <td>2.0</td>\n",
       "      <td>3240</td>\n",
       "      <td>0</td>\n",
       "    </tr>\n",
       "    <tr>\n",
       "      <th>648</th>\n",
       "      <td>3.0</td>\n",
       "      <td>1.0</td>\n",
       "      <td>1050</td>\n",
       "      <td>1.0</td>\n",
       "      <td>1050</td>\n",
       "      <td>0</td>\n",
       "    </tr>\n",
       "  </tbody>\n",
       "</table>\n",
       "</div>"
      ],
      "text/plain": [
       "      bedrooms  bathrooms  sqft_living  floors  sqft_above  sqft_basement\n",
       "3286       4.0        4.0         3770     2.0        2830            940\n",
       "2352       2.0        2.0          982     2.0         806            176\n",
       "3395       3.0        2.0         2320     3.0        2320              0\n",
       "2938       3.0        3.0         3240     2.0        3240              0\n",
       "648        3.0        1.0         1050     1.0        1050              0"
      ]
     },
     "execution_count": 40,
     "metadata": {},
     "output_type": "execute_result"
    }
   ],
   "source": [
    "#membagi lagi data test dan train ke data kategorikal dan data numerikal\n",
    "\n",
    "#data train numerikal\n",
    "X_train_num = X_train[['bedrooms','bathrooms','sqft_living','floors','sqft_above','sqft_basement']]\n",
    "\n",
    "#data test numerikal\n",
    "X_test_num = X_test[['bedrooms','bathrooms','sqft_living','floors','sqft_above','sqft_basement']]\n",
    "X_test_num.head()"
   ]
  },
  {
   "cell_type": "code",
   "execution_count": 41,
   "metadata": {},
   "outputs": [
    {
     "data": {
      "text/html": [
       "<div>\n",
       "<style scoped>\n",
       "    .dataframe tbody tr th:only-of-type {\n",
       "        vertical-align: middle;\n",
       "    }\n",
       "\n",
       "    .dataframe tbody tr th {\n",
       "        vertical-align: top;\n",
       "    }\n",
       "\n",
       "    .dataframe thead th {\n",
       "        text-align: right;\n",
       "    }\n",
       "</style>\n",
       "<table border=\"1\" class=\"dataframe\">\n",
       "  <thead>\n",
       "    <tr style=\"text-align: right;\">\n",
       "      <th></th>\n",
       "      <th>area</th>\n",
       "      <th>view</th>\n",
       "      <th>condition</th>\n",
       "    </tr>\n",
       "  </thead>\n",
       "  <tbody>\n",
       "    <tr>\n",
       "      <th>799</th>\n",
       "      <td>3</td>\n",
       "      <td>0</td>\n",
       "      <td>4</td>\n",
       "    </tr>\n",
       "    <tr>\n",
       "      <th>3547</th>\n",
       "      <td>4</td>\n",
       "      <td>0</td>\n",
       "      <td>4</td>\n",
       "    </tr>\n",
       "    <tr>\n",
       "      <th>2982</th>\n",
       "      <td>7</td>\n",
       "      <td>0</td>\n",
       "      <td>3</td>\n",
       "    </tr>\n",
       "    <tr>\n",
       "      <th>287</th>\n",
       "      <td>4</td>\n",
       "      <td>0</td>\n",
       "      <td>3</td>\n",
       "    </tr>\n",
       "    <tr>\n",
       "      <th>2634</th>\n",
       "      <td>2</td>\n",
       "      <td>3</td>\n",
       "      <td>4</td>\n",
       "    </tr>\n",
       "  </tbody>\n",
       "</table>\n",
       "</div>"
      ],
      "text/plain": [
       "      area  view  condition\n",
       "799      3     0          4\n",
       "3547     4     0          4\n",
       "2982     7     0          3\n",
       "287      4     0          3\n",
       "2634     2     3          4"
      ]
     },
     "execution_count": 41,
     "metadata": {},
     "output_type": "execute_result"
    }
   ],
   "source": [
    "#data train categorical\n",
    "X_train_cat = X_train[['area','view','condition']]\n",
    "\n",
    "#data test categorical\n",
    "X_test_cat = X_test[['area','view','condition']]\n",
    "\n",
    "X_train_cat.head()"
   ]
  },
  {
   "cell_type": "markdown",
   "metadata": {},
   "source": [
    "### 5. Cek Skewness data numerikal"
   ]
  },
  {
   "cell_type": "markdown",
   "metadata": {},
   "source": [
    "Lihat Skewness dari kolom X_train_num"
   ]
  },
  {
   "cell_type": "code",
   "execution_count": 42,
   "metadata": {},
   "outputs": [
    {
     "name": "stdout",
     "output_type": "stream",
     "text": [
      "Skewness of column bedrooms is 0.4533580005797982\n",
      "Skewness of column bathrooms is 1.1908781083649216\n",
      "Skewness of column sqft_living is 1.878710429288805\n",
      "Skewness of column floors is 0.31432645360950207\n",
      "Skewness of column sqft_above is 1.4947947591577937\n",
      "Skewness of column sqft_basement is 1.733253552015664\n"
     ]
    }
   ],
   "source": [
    "#for loop untuk melihat nilai skew dari semua kolom di X_train_num\n",
    "for i in X_train_num:\n",
    "    skew = X_train_num[i].skew()\n",
    "    print('Skewness of column', i, 'is', skew)"
   ]
  },
  {
   "cell_type": "markdown",
   "metadata": {},
   "source": [
    "Dari nilai skewness tersebut , lihat mana yang terdistribusi normal dan mana yang skewed."
   ]
  },
  {
   "cell_type": "code",
   "execution_count": 43,
   "metadata": {},
   "outputs": [],
   "source": [
    "normal = []  # untuk menampung kolom yang masuk dalam skewness normal\n",
    "skewed = []  # untuk menampung kolom yang masuk dalam skewness skewed\n",
    "\n",
    "for column in X_train_num.columns:  # untuk mencari kolom mana yang skewed atau normal\n",
    "    skewness = X_train_num[column].skew()\n",
    "    if skewness < -0.5 or skewness > 0.5:  # syarat\n",
    "        skewed.append(column)  # masuk ke variabel penampung skewed\n",
    "    elif skewness >= -0.5 or skewness <= 0.5:  # syarat\n",
    "        normal.append(column)  # masuk ke variabel penampung normal"
   ]
  },
  {
   "cell_type": "code",
   "execution_count": 44,
   "metadata": {},
   "outputs": [
    {
     "name": "stdout",
     "output_type": "stream",
     "text": [
      "Kolom yang termasuk distribusi normal adalah ['bedrooms', 'floors']\n",
      "Kolom yang termasuk distribusi skewed adalah ['bathrooms', 'sqft_living', 'sqft_above', 'sqft_basement']\n"
     ]
    }
   ],
   "source": [
    "print (f'Kolom yang termasuk distribusi normal adalah {normal}')\n",
    "print (f'Kolom yang termasuk distribusi skewed adalah {skewed}')"
   ]
  },
  {
   "cell_type": "markdown",
   "metadata": {},
   "source": [
    "Melihat jumlah outlier pada setiap kolom di X_train_num"
   ]
  },
  {
   "cell_type": "code",
   "execution_count": 45,
   "metadata": {},
   "outputs": [
    {
     "name": "stdout",
     "output_type": "stream",
     "text": [
      "Jumlah outlier dalam kolom bedrooms: 13 outlier\n",
      "Jumlah outlier dalam kolom bathrooms: 20 outlier\n",
      "Jumlah outlier dalam kolom sqft_living: 40 outlier\n",
      "Jumlah outlier dalam kolom floors: 1 outlier\n",
      "Jumlah outlier dalam kolom sqft_above: 45 outlier\n",
      "Jumlah outlier dalam kolom sqft_basement: 38 outlier\n"
     ]
    }
   ],
   "source": [
    "threshold = 3\n",
    "\n",
    "outlier_counts = {}\n",
    "\n",
    "for col in X_train_num.columns:\n",
    "    data_skew = X_train_num[col]\n",
    "    mean = np.mean(data_skew)\n",
    "    std_dev = np.std(data_skew)\n",
    "\n",
    "    upper_bound = mean + threshold * std_dev\n",
    "    lower_bound = mean - threshold * std_dev\n",
    "\n",
    "    outliers = np.where((data_skew > upper_bound) | (data_skew < lower_bound))\n",
    "    \n",
    "    outlier_counts[col] = len(outliers[0])\n",
    "\n",
    "for col, count in outlier_counts.items():\n",
    "    print(f\"Jumlah outlier dalam kolom {col}: {count} outlier\")"
   ]
  },
  {
   "cell_type": "markdown",
   "metadata": {},
   "source": [
    "Melihat persentase outlier pada kolom X_train_num"
   ]
  },
  {
   "cell_type": "code",
   "execution_count": 46,
   "metadata": {},
   "outputs": [
    {
     "name": "stdout",
     "output_type": "stream",
     "text": [
      "Percentage of outliers in column bedrooms: 0.36%\n",
      "Percentage of outliers in column bathrooms: 0.55%\n",
      "Percentage of outliers in column sqft_living: 1.10%\n",
      "Percentage of outliers in column floors: 0.03%\n",
      "Percentage of outliers in column sqft_above: 1.24%\n",
      "Percentage of outliers in column sqft_basement: 1.04%\n"
     ]
    }
   ],
   "source": [
    "# Set the threshold for identifying outliers\n",
    "threshold = 3\n",
    "\n",
    "# Initialize a dictionary to store outlier percentages for each numerical column\n",
    "outlier_percentages = {}\n",
    "\n",
    "# Iterate through each column in X_train_num\n",
    "for col in X_train_num.columns:\n",
    "    data_skew = X_train_num[col]\n",
    "    mean = np.mean(data_skew)\n",
    "    std_dev = np.std(data_skew)\n",
    "\n",
    "    upper_bound = mean + threshold * std_dev\n",
    "    lower_bound = mean - threshold * std_dev\n",
    "\n",
    "    # Identify outliers based on the threshold\n",
    "    outliers = np.where((data_skew > upper_bound) | (data_skew < lower_bound))\n",
    "    \n",
    "    # Calculate the percentage of outliers\n",
    "    total_data_points = len(data_skew)\n",
    "    percentage = (len(outliers[0]) / total_data_points) * 100\n",
    "    \n",
    "    # Store the percentage of outliers in the dictionary\n",
    "    outlier_percentages[col] = percentage\n",
    "\n",
    "# Print the percentage of outliers for each column\n",
    "for col, percentage in outlier_percentages.items():\n",
    "    print(f\"Percentage of outliers in column {col}: {percentage:.2f}%\")"
   ]
  },
  {
   "cell_type": "markdown",
   "metadata": {},
   "source": [
    "Sebenarnya semua outlier persentasenya dibawah 5 % , namun karena jumlah data saya hanya sekitar 4000an data, saya takut melakukan trimming akan membuat model saya kekurangan data untuk belajar. Sebagai gantinya saya akan melakukan capping dengan metode Gaussian untuk kolom 'bedroom' dan 'floors' , dan menggunakan metode iqr untuk kolom 'bathrooms', 'sqft_living', 'sqft_above', dan 'sqft_basement'"
   ]
  },
  {
   "cell_type": "markdown",
   "metadata": {},
   "source": [
    "### 6. Check Missing Value"
   ]
  },
  {
   "cell_type": "code",
   "execution_count": 47,
   "metadata": {},
   "outputs": [
    {
     "data": {
      "text/plain": [
       "view             0\n",
       "bedrooms         0\n",
       "bathrooms        0\n",
       "sqft_living      0\n",
       "floors           0\n",
       "sqft_above       0\n",
       "sqft_basement    0\n",
       "condition        0\n",
       "area             0\n",
       "dtype: int64"
      ]
     },
     "execution_count": 47,
     "metadata": {},
     "output_type": "execute_result"
    }
   ],
   "source": [
    "#check apakah ada missing value di X_train\n",
    "X_train.isnull().sum()"
   ]
  },
  {
   "cell_type": "code",
   "execution_count": 48,
   "metadata": {},
   "outputs": [
    {
     "data": {
      "text/plain": [
       "view             0\n",
       "bedrooms         0\n",
       "bathrooms        0\n",
       "sqft_living      0\n",
       "floors           0\n",
       "sqft_above       0\n",
       "sqft_basement    0\n",
       "condition        0\n",
       "area             0\n",
       "dtype: int64"
      ]
     },
     "execution_count": 48,
     "metadata": {},
     "output_type": "execute_result"
    }
   ],
   "source": [
    "#check apakah ada missing value di X_test\n",
    "X_test.isnull().sum()\n"
   ]
  },
  {
   "cell_type": "markdown",
   "metadata": {},
   "source": [
    "Insight :\n",
    "Tidak terdapat missing value pada kolom X_test, jadi tidak perlu handle missing value"
   ]
  },
  {
   "cell_type": "markdown",
   "metadata": {},
   "source": [
    "### 7. Membuat Pipeline untuk Preprocessing"
   ]
  },
  {
   "cell_type": "markdown",
   "metadata": {},
   "source": [
    "> Pipeline preprocessing berguna untuk menyatukan semua proses pada preprocessing menjadi 1. Pipeline memastikan bahwa setiap langkah preprocessing hanya diterapkan pada data pelatihan dan validasi secara terpisah, mengurangi risiko kebocoran data (data leakage)."
   ]
  },
  {
   "cell_type": "markdown",
   "metadata": {},
   "source": [
    "#### A. Memasukan langkah-langkah yang akan digunakan pada preprocessing menggunakan `pipeline`."
   ]
  },
  {
   "cell_type": "code",
   "execution_count": 49,
   "metadata": {},
   "outputs": [],
   "source": [
    "# define kolom numerik yang akan di proses pada numerik features\n",
    "numeric_features = ['bedrooms','bathrooms','sqft_living','floors','sqft_above','sqft_basement']\n",
    "\n",
    "# membuat numeric transformer pipeline\n",
    "numeric_transformer = Pipeline(\n",
    "    steps=[\n",
    "        ('winsorizer Gaussian', Winsorizer(capping_method='gaussian', tail='both', fold=3, variables=['bedrooms', 'floors'])),\n",
    "        ('winsorizer iqr', Winsorizer(capping_method='iqr', tail='both', fold=3, variables=['sqft_living', 'sqft_above', 'sqft_basement'])), \n",
    "        ('scaler', StandardScaler())\n",
    "    ]\n",
    ")\n",
    "\n",
    "# Define categorical features\n",
    "categorical_features = ['view','condition','area']\n",
    "\n",
    "# ordinal transformer pipeline\n",
    "categorical_transformer = Pipeline([\n",
    "        ('passthrough', None)\n",
    "    ]\n",
    ")"
   ]
  },
  {
   "cell_type": "markdown",
   "metadata": {},
   "source": [
    "#### B. Menyatukan semua transformer menjadi column transformer dan dimasukan ke variabel bernama preprocessor"
   ]
  },
  {
   "cell_type": "code",
   "execution_count": 50,
   "metadata": {},
   "outputs": [
    {
     "data": {
      "text/html": [
       "<style>#sk-container-id-1 {color: black;}#sk-container-id-1 pre{padding: 0;}#sk-container-id-1 div.sk-toggleable {background-color: white;}#sk-container-id-1 label.sk-toggleable__label {cursor: pointer;display: block;width: 100%;margin-bottom: 0;padding: 0.3em;box-sizing: border-box;text-align: center;}#sk-container-id-1 label.sk-toggleable__label-arrow:before {content: \"▸\";float: left;margin-right: 0.25em;color: #696969;}#sk-container-id-1 label.sk-toggleable__label-arrow:hover:before {color: black;}#sk-container-id-1 div.sk-estimator:hover label.sk-toggleable__label-arrow:before {color: black;}#sk-container-id-1 div.sk-toggleable__content {max-height: 0;max-width: 0;overflow: hidden;text-align: left;background-color: #f0f8ff;}#sk-container-id-1 div.sk-toggleable__content pre {margin: 0.2em;color: black;border-radius: 0.25em;background-color: #f0f8ff;}#sk-container-id-1 input.sk-toggleable__control:checked~div.sk-toggleable__content {max-height: 200px;max-width: 100%;overflow: auto;}#sk-container-id-1 input.sk-toggleable__control:checked~label.sk-toggleable__label-arrow:before {content: \"▾\";}#sk-container-id-1 div.sk-estimator input.sk-toggleable__control:checked~label.sk-toggleable__label {background-color: #d4ebff;}#sk-container-id-1 div.sk-label input.sk-toggleable__control:checked~label.sk-toggleable__label {background-color: #d4ebff;}#sk-container-id-1 input.sk-hidden--visually {border: 0;clip: rect(1px 1px 1px 1px);clip: rect(1px, 1px, 1px, 1px);height: 1px;margin: -1px;overflow: hidden;padding: 0;position: absolute;width: 1px;}#sk-container-id-1 div.sk-estimator {font-family: monospace;background-color: #f0f8ff;border: 1px dotted black;border-radius: 0.25em;box-sizing: border-box;margin-bottom: 0.5em;}#sk-container-id-1 div.sk-estimator:hover {background-color: #d4ebff;}#sk-container-id-1 div.sk-parallel-item::after {content: \"\";width: 100%;border-bottom: 1px solid gray;flex-grow: 1;}#sk-container-id-1 div.sk-label:hover label.sk-toggleable__label {background-color: #d4ebff;}#sk-container-id-1 div.sk-serial::before {content: \"\";position: absolute;border-left: 1px solid gray;box-sizing: border-box;top: 0;bottom: 0;left: 50%;z-index: 0;}#sk-container-id-1 div.sk-serial {display: flex;flex-direction: column;align-items: center;background-color: white;padding-right: 0.2em;padding-left: 0.2em;position: relative;}#sk-container-id-1 div.sk-item {position: relative;z-index: 1;}#sk-container-id-1 div.sk-parallel {display: flex;align-items: stretch;justify-content: center;background-color: white;position: relative;}#sk-container-id-1 div.sk-item::before, #sk-container-id-1 div.sk-parallel-item::before {content: \"\";position: absolute;border-left: 1px solid gray;box-sizing: border-box;top: 0;bottom: 0;left: 50%;z-index: -1;}#sk-container-id-1 div.sk-parallel-item {display: flex;flex-direction: column;z-index: 1;position: relative;background-color: white;}#sk-container-id-1 div.sk-parallel-item:first-child::after {align-self: flex-end;width: 50%;}#sk-container-id-1 div.sk-parallel-item:last-child::after {align-self: flex-start;width: 50%;}#sk-container-id-1 div.sk-parallel-item:only-child::after {width: 0;}#sk-container-id-1 div.sk-dashed-wrapped {border: 1px dashed gray;margin: 0 0.4em 0.5em 0.4em;box-sizing: border-box;padding-bottom: 0.4em;background-color: white;}#sk-container-id-1 div.sk-label label {font-family: monospace;font-weight: bold;display: inline-block;line-height: 1.2em;}#sk-container-id-1 div.sk-label-container {text-align: center;}#sk-container-id-1 div.sk-container {/* jupyter's `normalize.less` sets `[hidden] { display: none; }` but bootstrap.min.css set `[hidden] { display: none !important; }` so we also need the `!important` here to be able to override the default hidden behavior on the sphinx rendered scikit-learn.org. See: https://github.com/scikit-learn/scikit-learn/issues/21755 */display: inline-block !important;position: relative;}#sk-container-id-1 div.sk-text-repr-fallback {display: none;}</style><div id=\"sk-container-id-1\" class=\"sk-top-container\"><div class=\"sk-text-repr-fallback\"><pre>ColumnTransformer(transformers=[(&#x27;Numerical&#x27;,\n",
       "                                 Pipeline(steps=[(&#x27;winsorizer Gaussian&#x27;,\n",
       "                                                  Winsorizer(tail=&#x27;both&#x27;,\n",
       "                                                             variables=[&#x27;bedrooms&#x27;,\n",
       "                                                                        &#x27;floors&#x27;])),\n",
       "                                                 (&#x27;winsorizer iqr&#x27;,\n",
       "                                                  Winsorizer(capping_method=&#x27;iqr&#x27;,\n",
       "                                                             tail=&#x27;both&#x27;,\n",
       "                                                             variables=[&#x27;sqft_living&#x27;,\n",
       "                                                                        &#x27;sqft_above&#x27;,\n",
       "                                                                        &#x27;sqft_basement&#x27;])),\n",
       "                                                 (&#x27;scaler&#x27;, StandardScaler())]),\n",
       "                                 [&#x27;bedrooms&#x27;, &#x27;bathrooms&#x27;, &#x27;sqft_living&#x27;,\n",
       "                                  &#x27;floors&#x27;, &#x27;sqft_above&#x27;, &#x27;sqft_basement&#x27;]),\n",
       "                                (&#x27;Categorical&#x27;, &#x27;passthrough&#x27;,\n",
       "                                 [&#x27;view&#x27;, &#x27;condition&#x27;, &#x27;area&#x27;])])</pre><b>In a Jupyter environment, please rerun this cell to show the HTML representation or trust the notebook. <br />On GitHub, the HTML representation is unable to render, please try loading this page with nbviewer.org.</b></div><div class=\"sk-container\" hidden><div class=\"sk-item sk-dashed-wrapped\"><div class=\"sk-label-container\"><div class=\"sk-label sk-toggleable\"><input class=\"sk-toggleable__control sk-hidden--visually\" id=\"sk-estimator-id-1\" type=\"checkbox\" ><label for=\"sk-estimator-id-1\" class=\"sk-toggleable__label sk-toggleable__label-arrow\">ColumnTransformer</label><div class=\"sk-toggleable__content\"><pre>ColumnTransformer(transformers=[(&#x27;Numerical&#x27;,\n",
       "                                 Pipeline(steps=[(&#x27;winsorizer Gaussian&#x27;,\n",
       "                                                  Winsorizer(tail=&#x27;both&#x27;,\n",
       "                                                             variables=[&#x27;bedrooms&#x27;,\n",
       "                                                                        &#x27;floors&#x27;])),\n",
       "                                                 (&#x27;winsorizer iqr&#x27;,\n",
       "                                                  Winsorizer(capping_method=&#x27;iqr&#x27;,\n",
       "                                                             tail=&#x27;both&#x27;,\n",
       "                                                             variables=[&#x27;sqft_living&#x27;,\n",
       "                                                                        &#x27;sqft_above&#x27;,\n",
       "                                                                        &#x27;sqft_basement&#x27;])),\n",
       "                                                 (&#x27;scaler&#x27;, StandardScaler())]),\n",
       "                                 [&#x27;bedrooms&#x27;, &#x27;bathrooms&#x27;, &#x27;sqft_living&#x27;,\n",
       "                                  &#x27;floors&#x27;, &#x27;sqft_above&#x27;, &#x27;sqft_basement&#x27;]),\n",
       "                                (&#x27;Categorical&#x27;, &#x27;passthrough&#x27;,\n",
       "                                 [&#x27;view&#x27;, &#x27;condition&#x27;, &#x27;area&#x27;])])</pre></div></div></div><div class=\"sk-parallel\"><div class=\"sk-parallel-item\"><div class=\"sk-item\"><div class=\"sk-label-container\"><div class=\"sk-label sk-toggleable\"><input class=\"sk-toggleable__control sk-hidden--visually\" id=\"sk-estimator-id-2\" type=\"checkbox\" ><label for=\"sk-estimator-id-2\" class=\"sk-toggleable__label sk-toggleable__label-arrow\">Numerical</label><div class=\"sk-toggleable__content\"><pre>[&#x27;bedrooms&#x27;, &#x27;bathrooms&#x27;, &#x27;sqft_living&#x27;, &#x27;floors&#x27;, &#x27;sqft_above&#x27;, &#x27;sqft_basement&#x27;]</pre></div></div></div><div class=\"sk-serial\"><div class=\"sk-item\"><div class=\"sk-serial\"><div class=\"sk-item\"><div class=\"sk-estimator sk-toggleable\"><input class=\"sk-toggleable__control sk-hidden--visually\" id=\"sk-estimator-id-3\" type=\"checkbox\" ><label for=\"sk-estimator-id-3\" class=\"sk-toggleable__label sk-toggleable__label-arrow\">Winsorizer</label><div class=\"sk-toggleable__content\"><pre>Winsorizer(tail=&#x27;both&#x27;, variables=[&#x27;bedrooms&#x27;, &#x27;floors&#x27;])</pre></div></div></div><div class=\"sk-item\"><div class=\"sk-estimator sk-toggleable\"><input class=\"sk-toggleable__control sk-hidden--visually\" id=\"sk-estimator-id-4\" type=\"checkbox\" ><label for=\"sk-estimator-id-4\" class=\"sk-toggleable__label sk-toggleable__label-arrow\">Winsorizer</label><div class=\"sk-toggleable__content\"><pre>Winsorizer(capping_method=&#x27;iqr&#x27;, tail=&#x27;both&#x27;,\n",
       "           variables=[&#x27;sqft_living&#x27;, &#x27;sqft_above&#x27;, &#x27;sqft_basement&#x27;])</pre></div></div></div><div class=\"sk-item\"><div class=\"sk-estimator sk-toggleable\"><input class=\"sk-toggleable__control sk-hidden--visually\" id=\"sk-estimator-id-5\" type=\"checkbox\" ><label for=\"sk-estimator-id-5\" class=\"sk-toggleable__label sk-toggleable__label-arrow\">StandardScaler</label><div class=\"sk-toggleable__content\"><pre>StandardScaler()</pre></div></div></div></div></div></div></div></div><div class=\"sk-parallel-item\"><div class=\"sk-item\"><div class=\"sk-label-container\"><div class=\"sk-label sk-toggleable\"><input class=\"sk-toggleable__control sk-hidden--visually\" id=\"sk-estimator-id-6\" type=\"checkbox\" ><label for=\"sk-estimator-id-6\" class=\"sk-toggleable__label sk-toggleable__label-arrow\">Categorical</label><div class=\"sk-toggleable__content\"><pre>[&#x27;view&#x27;, &#x27;condition&#x27;, &#x27;area&#x27;]</pre></div></div></div><div class=\"sk-serial\"><div class=\"sk-item\"><div class=\"sk-estimator sk-toggleable\"><input class=\"sk-toggleable__control sk-hidden--visually\" id=\"sk-estimator-id-7\" type=\"checkbox\" ><label for=\"sk-estimator-id-7\" class=\"sk-toggleable__label sk-toggleable__label-arrow\">passthrough</label><div class=\"sk-toggleable__content\"><pre>passthrough</pre></div></div></div></div></div></div></div></div></div></div>"
      ],
      "text/plain": [
       "ColumnTransformer(transformers=[('Numerical',\n",
       "                                 Pipeline(steps=[('winsorizer Gaussian',\n",
       "                                                  Winsorizer(tail='both',\n",
       "                                                             variables=['bedrooms',\n",
       "                                                                        'floors'])),\n",
       "                                                 ('winsorizer iqr',\n",
       "                                                  Winsorizer(capping_method='iqr',\n",
       "                                                             tail='both',\n",
       "                                                             variables=['sqft_living',\n",
       "                                                                        'sqft_above',\n",
       "                                                                        'sqft_basement'])),\n",
       "                                                 ('scaler', StandardScaler())]),\n",
       "                                 ['bedrooms', 'bathrooms', 'sqft_living',\n",
       "                                  'floors', 'sqft_above', 'sqft_basement']),\n",
       "                                ('Categorical', 'passthrough',\n",
       "                                 ['view', 'condition', 'area'])])"
      ]
     },
     "execution_count": 50,
     "metadata": {},
     "output_type": "execute_result"
    }
   ],
   "source": [
    "#ColumnTransformer for preprocessing\n",
    "preprocessor = ColumnTransformer([\n",
    "        ('Numerical', numeric_transformer, numeric_features),\n",
    "        ('Categorical', 'passthrough', categorical_features)\n",
    "    ])\n",
    "\n",
    "preprocessor"
   ]
  },
  {
   "cell_type": "markdown",
   "metadata": {},
   "source": [
    "Berhasil untuk membuat pipeline Column Transformer untuk preprocessing, Prosesnya adalah untuk data numerikal akan dilakukan capping gaussian dan iqr(sesuai dengan jenis distribusi datanya), setelah itu dilakukan scaling menggunakan Standar scaler. Untuk Kolom Kategorikal tidak ada proses encoding karena data nya sudah berbentuk angka."
   ]
  },
  {
   "cell_type": "markdown",
   "metadata": {},
   "source": [
    "# **vi. Model Definition**"
   ]
  },
  {
   "cell_type": "markdown",
   "metadata": {},
   "source": [
    "> Bagian ini berisi cell untuk mendefinisikan model."
   ]
  },
  {
   "cell_type": "markdown",
   "metadata": {},
   "source": [
    "Pada tahap kali ini saya akan menggunakan 6 model:\n",
    "- KNN Regressor\n",
    "- SVR (Support Vector Reggresor)\n",
    "- DecisionTree Regressor\n",
    "- RandomForest Regressor\n",
    "- AdaBoost Regressor\n",
    "- Linear Regression"
   ]
  },
  {
   "cell_type": "markdown",
   "metadata": {},
   "source": [
    "## A. Membuat pipeline untuk masing-masing model\n"
   ]
  },
  {
   "cell_type": "code",
   "execution_count": 51,
   "metadata": {},
   "outputs": [],
   "source": [
    "#pipeline untuk linear regression\n",
    "pipe_linreg = Pipeline([\n",
    "    ('transormer', preprocessor),\n",
    "    ('regressor', LinearRegression())\n",
    "])\n",
    "\n",
    "#pipeline untuk KNN\n",
    "pipe_knn = Pipeline([\n",
    "    ('transormer', preprocessor),\n",
    "    ('regressor', KNeighborsRegressor())\n",
    "])\n",
    "\n",
    "#pipeline untuk decision tree regressor\n",
    "pipe_dtr = Pipeline([\n",
    "    ('transormer', preprocessor),\n",
    "    ('regressor', DecisionTreeRegressor())\n",
    "])\n",
    "\n",
    "#pipeline untuk adaboost regressor\n",
    "pipe_abr = Pipeline([\n",
    "    ('transormer', preprocessor),\n",
    "    ('regressor', AdaBoostRegressor())\n",
    "])\n",
    "\n",
    "#pipeline untuk random forest regressor\n",
    "pipe_rfr = Pipeline([\n",
    "    ('transormer', preprocessor),\n",
    "    ('regressor', RandomForestRegressor())\n",
    "])\n",
    "\n",
    "#pipeline untuk support vectore regressor\n",
    "pipe_svr = Pipeline([\n",
    "    ('transormer', preprocessor),\n",
    "    ('regressor', SVR() )\n",
    "])\n",
    "\n",
    "#pipeline untuk SGD Regressor\n",
    "pipe_sgd = Pipeline([\n",
    "    ('transormer', preprocessor),\n",
    "    ('regressor', SGDRegressor() )\n",
    "])"
   ]
  },
  {
   "cell_type": "code",
   "execution_count": 52,
   "metadata": {},
   "outputs": [
    {
     "data": {
      "text/html": [
       "<style>#sk-container-id-2 {color: black;}#sk-container-id-2 pre{padding: 0;}#sk-container-id-2 div.sk-toggleable {background-color: white;}#sk-container-id-2 label.sk-toggleable__label {cursor: pointer;display: block;width: 100%;margin-bottom: 0;padding: 0.3em;box-sizing: border-box;text-align: center;}#sk-container-id-2 label.sk-toggleable__label-arrow:before {content: \"▸\";float: left;margin-right: 0.25em;color: #696969;}#sk-container-id-2 label.sk-toggleable__label-arrow:hover:before {color: black;}#sk-container-id-2 div.sk-estimator:hover label.sk-toggleable__label-arrow:before {color: black;}#sk-container-id-2 div.sk-toggleable__content {max-height: 0;max-width: 0;overflow: hidden;text-align: left;background-color: #f0f8ff;}#sk-container-id-2 div.sk-toggleable__content pre {margin: 0.2em;color: black;border-radius: 0.25em;background-color: #f0f8ff;}#sk-container-id-2 input.sk-toggleable__control:checked~div.sk-toggleable__content {max-height: 200px;max-width: 100%;overflow: auto;}#sk-container-id-2 input.sk-toggleable__control:checked~label.sk-toggleable__label-arrow:before {content: \"▾\";}#sk-container-id-2 div.sk-estimator input.sk-toggleable__control:checked~label.sk-toggleable__label {background-color: #d4ebff;}#sk-container-id-2 div.sk-label input.sk-toggleable__control:checked~label.sk-toggleable__label {background-color: #d4ebff;}#sk-container-id-2 input.sk-hidden--visually {border: 0;clip: rect(1px 1px 1px 1px);clip: rect(1px, 1px, 1px, 1px);height: 1px;margin: -1px;overflow: hidden;padding: 0;position: absolute;width: 1px;}#sk-container-id-2 div.sk-estimator {font-family: monospace;background-color: #f0f8ff;border: 1px dotted black;border-radius: 0.25em;box-sizing: border-box;margin-bottom: 0.5em;}#sk-container-id-2 div.sk-estimator:hover {background-color: #d4ebff;}#sk-container-id-2 div.sk-parallel-item::after {content: \"\";width: 100%;border-bottom: 1px solid gray;flex-grow: 1;}#sk-container-id-2 div.sk-label:hover label.sk-toggleable__label {background-color: #d4ebff;}#sk-container-id-2 div.sk-serial::before {content: \"\";position: absolute;border-left: 1px solid gray;box-sizing: border-box;top: 0;bottom: 0;left: 50%;z-index: 0;}#sk-container-id-2 div.sk-serial {display: flex;flex-direction: column;align-items: center;background-color: white;padding-right: 0.2em;padding-left: 0.2em;position: relative;}#sk-container-id-2 div.sk-item {position: relative;z-index: 1;}#sk-container-id-2 div.sk-parallel {display: flex;align-items: stretch;justify-content: center;background-color: white;position: relative;}#sk-container-id-2 div.sk-item::before, #sk-container-id-2 div.sk-parallel-item::before {content: \"\";position: absolute;border-left: 1px solid gray;box-sizing: border-box;top: 0;bottom: 0;left: 50%;z-index: -1;}#sk-container-id-2 div.sk-parallel-item {display: flex;flex-direction: column;z-index: 1;position: relative;background-color: white;}#sk-container-id-2 div.sk-parallel-item:first-child::after {align-self: flex-end;width: 50%;}#sk-container-id-2 div.sk-parallel-item:last-child::after {align-self: flex-start;width: 50%;}#sk-container-id-2 div.sk-parallel-item:only-child::after {width: 0;}#sk-container-id-2 div.sk-dashed-wrapped {border: 1px dashed gray;margin: 0 0.4em 0.5em 0.4em;box-sizing: border-box;padding-bottom: 0.4em;background-color: white;}#sk-container-id-2 div.sk-label label {font-family: monospace;font-weight: bold;display: inline-block;line-height: 1.2em;}#sk-container-id-2 div.sk-label-container {text-align: center;}#sk-container-id-2 div.sk-container {/* jupyter's `normalize.less` sets `[hidden] { display: none; }` but bootstrap.min.css set `[hidden] { display: none !important; }` so we also need the `!important` here to be able to override the default hidden behavior on the sphinx rendered scikit-learn.org. See: https://github.com/scikit-learn/scikit-learn/issues/21755 */display: inline-block !important;position: relative;}#sk-container-id-2 div.sk-text-repr-fallback {display: none;}</style><div id=\"sk-container-id-2\" class=\"sk-top-container\"><div class=\"sk-text-repr-fallback\"><pre>Pipeline(steps=[(&#x27;transormer&#x27;,\n",
       "                 ColumnTransformer(transformers=[(&#x27;Numerical&#x27;,\n",
       "                                                  Pipeline(steps=[(&#x27;winsorizer &#x27;\n",
       "                                                                   &#x27;Gaussian&#x27;,\n",
       "                                                                   Winsorizer(tail=&#x27;both&#x27;,\n",
       "                                                                              variables=[&#x27;bedrooms&#x27;,\n",
       "                                                                                         &#x27;floors&#x27;])),\n",
       "                                                                  (&#x27;winsorizer &#x27;\n",
       "                                                                   &#x27;iqr&#x27;,\n",
       "                                                                   Winsorizer(capping_method=&#x27;iqr&#x27;,\n",
       "                                                                              tail=&#x27;both&#x27;,\n",
       "                                                                              variables=[&#x27;sqft_living&#x27;,\n",
       "                                                                                         &#x27;sqft_above&#x27;,\n",
       "                                                                                         &#x27;sqft_basement&#x27;])),\n",
       "                                                                  (&#x27;scaler&#x27;,\n",
       "                                                                   StandardScaler())]),\n",
       "                                                  [&#x27;bedrooms&#x27;, &#x27;bathrooms&#x27;,\n",
       "                                                   &#x27;sqft_living&#x27;, &#x27;floors&#x27;,\n",
       "                                                   &#x27;sqft_above&#x27;,\n",
       "                                                   &#x27;sqft_basement&#x27;]),\n",
       "                                                 (&#x27;Categorical&#x27;, &#x27;passthrough&#x27;,\n",
       "                                                  [&#x27;view&#x27;, &#x27;condition&#x27;,\n",
       "                                                   &#x27;area&#x27;])])),\n",
       "                (&#x27;regressor&#x27;, LinearRegression())])</pre><b>In a Jupyter environment, please rerun this cell to show the HTML representation or trust the notebook. <br />On GitHub, the HTML representation is unable to render, please try loading this page with nbviewer.org.</b></div><div class=\"sk-container\" hidden><div class=\"sk-item sk-dashed-wrapped\"><div class=\"sk-label-container\"><div class=\"sk-label sk-toggleable\"><input class=\"sk-toggleable__control sk-hidden--visually\" id=\"sk-estimator-id-8\" type=\"checkbox\" ><label for=\"sk-estimator-id-8\" class=\"sk-toggleable__label sk-toggleable__label-arrow\">Pipeline</label><div class=\"sk-toggleable__content\"><pre>Pipeline(steps=[(&#x27;transormer&#x27;,\n",
       "                 ColumnTransformer(transformers=[(&#x27;Numerical&#x27;,\n",
       "                                                  Pipeline(steps=[(&#x27;winsorizer &#x27;\n",
       "                                                                   &#x27;Gaussian&#x27;,\n",
       "                                                                   Winsorizer(tail=&#x27;both&#x27;,\n",
       "                                                                              variables=[&#x27;bedrooms&#x27;,\n",
       "                                                                                         &#x27;floors&#x27;])),\n",
       "                                                                  (&#x27;winsorizer &#x27;\n",
       "                                                                   &#x27;iqr&#x27;,\n",
       "                                                                   Winsorizer(capping_method=&#x27;iqr&#x27;,\n",
       "                                                                              tail=&#x27;both&#x27;,\n",
       "                                                                              variables=[&#x27;sqft_living&#x27;,\n",
       "                                                                                         &#x27;sqft_above&#x27;,\n",
       "                                                                                         &#x27;sqft_basement&#x27;])),\n",
       "                                                                  (&#x27;scaler&#x27;,\n",
       "                                                                   StandardScaler())]),\n",
       "                                                  [&#x27;bedrooms&#x27;, &#x27;bathrooms&#x27;,\n",
       "                                                   &#x27;sqft_living&#x27;, &#x27;floors&#x27;,\n",
       "                                                   &#x27;sqft_above&#x27;,\n",
       "                                                   &#x27;sqft_basement&#x27;]),\n",
       "                                                 (&#x27;Categorical&#x27;, &#x27;passthrough&#x27;,\n",
       "                                                  [&#x27;view&#x27;, &#x27;condition&#x27;,\n",
       "                                                   &#x27;area&#x27;])])),\n",
       "                (&#x27;regressor&#x27;, LinearRegression())])</pre></div></div></div><div class=\"sk-serial\"><div class=\"sk-item sk-dashed-wrapped\"><div class=\"sk-label-container\"><div class=\"sk-label sk-toggleable\"><input class=\"sk-toggleable__control sk-hidden--visually\" id=\"sk-estimator-id-9\" type=\"checkbox\" ><label for=\"sk-estimator-id-9\" class=\"sk-toggleable__label sk-toggleable__label-arrow\">transormer: ColumnTransformer</label><div class=\"sk-toggleable__content\"><pre>ColumnTransformer(transformers=[(&#x27;Numerical&#x27;,\n",
       "                                 Pipeline(steps=[(&#x27;winsorizer Gaussian&#x27;,\n",
       "                                                  Winsorizer(tail=&#x27;both&#x27;,\n",
       "                                                             variables=[&#x27;bedrooms&#x27;,\n",
       "                                                                        &#x27;floors&#x27;])),\n",
       "                                                 (&#x27;winsorizer iqr&#x27;,\n",
       "                                                  Winsorizer(capping_method=&#x27;iqr&#x27;,\n",
       "                                                             tail=&#x27;both&#x27;,\n",
       "                                                             variables=[&#x27;sqft_living&#x27;,\n",
       "                                                                        &#x27;sqft_above&#x27;,\n",
       "                                                                        &#x27;sqft_basement&#x27;])),\n",
       "                                                 (&#x27;scaler&#x27;, StandardScaler())]),\n",
       "                                 [&#x27;bedrooms&#x27;, &#x27;bathrooms&#x27;, &#x27;sqft_living&#x27;,\n",
       "                                  &#x27;floors&#x27;, &#x27;sqft_above&#x27;, &#x27;sqft_basement&#x27;]),\n",
       "                                (&#x27;Categorical&#x27;, &#x27;passthrough&#x27;,\n",
       "                                 [&#x27;view&#x27;, &#x27;condition&#x27;, &#x27;area&#x27;])])</pre></div></div></div><div class=\"sk-parallel\"><div class=\"sk-parallel-item\"><div class=\"sk-item\"><div class=\"sk-label-container\"><div class=\"sk-label sk-toggleable\"><input class=\"sk-toggleable__control sk-hidden--visually\" id=\"sk-estimator-id-10\" type=\"checkbox\" ><label for=\"sk-estimator-id-10\" class=\"sk-toggleable__label sk-toggleable__label-arrow\">Numerical</label><div class=\"sk-toggleable__content\"><pre>[&#x27;bedrooms&#x27;, &#x27;bathrooms&#x27;, &#x27;sqft_living&#x27;, &#x27;floors&#x27;, &#x27;sqft_above&#x27;, &#x27;sqft_basement&#x27;]</pre></div></div></div><div class=\"sk-serial\"><div class=\"sk-item\"><div class=\"sk-serial\"><div class=\"sk-item\"><div class=\"sk-estimator sk-toggleable\"><input class=\"sk-toggleable__control sk-hidden--visually\" id=\"sk-estimator-id-11\" type=\"checkbox\" ><label for=\"sk-estimator-id-11\" class=\"sk-toggleable__label sk-toggleable__label-arrow\">Winsorizer</label><div class=\"sk-toggleable__content\"><pre>Winsorizer(tail=&#x27;both&#x27;, variables=[&#x27;bedrooms&#x27;, &#x27;floors&#x27;])</pre></div></div></div><div class=\"sk-item\"><div class=\"sk-estimator sk-toggleable\"><input class=\"sk-toggleable__control sk-hidden--visually\" id=\"sk-estimator-id-12\" type=\"checkbox\" ><label for=\"sk-estimator-id-12\" class=\"sk-toggleable__label sk-toggleable__label-arrow\">Winsorizer</label><div class=\"sk-toggleable__content\"><pre>Winsorizer(capping_method=&#x27;iqr&#x27;, tail=&#x27;both&#x27;,\n",
       "           variables=[&#x27;sqft_living&#x27;, &#x27;sqft_above&#x27;, &#x27;sqft_basement&#x27;])</pre></div></div></div><div class=\"sk-item\"><div class=\"sk-estimator sk-toggleable\"><input class=\"sk-toggleable__control sk-hidden--visually\" id=\"sk-estimator-id-13\" type=\"checkbox\" ><label for=\"sk-estimator-id-13\" class=\"sk-toggleable__label sk-toggleable__label-arrow\">StandardScaler</label><div class=\"sk-toggleable__content\"><pre>StandardScaler()</pre></div></div></div></div></div></div></div></div><div class=\"sk-parallel-item\"><div class=\"sk-item\"><div class=\"sk-label-container\"><div class=\"sk-label sk-toggleable\"><input class=\"sk-toggleable__control sk-hidden--visually\" id=\"sk-estimator-id-14\" type=\"checkbox\" ><label for=\"sk-estimator-id-14\" class=\"sk-toggleable__label sk-toggleable__label-arrow\">Categorical</label><div class=\"sk-toggleable__content\"><pre>[&#x27;view&#x27;, &#x27;condition&#x27;, &#x27;area&#x27;]</pre></div></div></div><div class=\"sk-serial\"><div class=\"sk-item\"><div class=\"sk-estimator sk-toggleable\"><input class=\"sk-toggleable__control sk-hidden--visually\" id=\"sk-estimator-id-15\" type=\"checkbox\" ><label for=\"sk-estimator-id-15\" class=\"sk-toggleable__label sk-toggleable__label-arrow\">passthrough</label><div class=\"sk-toggleable__content\"><pre>passthrough</pre></div></div></div></div></div></div></div></div><div class=\"sk-item\"><div class=\"sk-estimator sk-toggleable\"><input class=\"sk-toggleable__control sk-hidden--visually\" id=\"sk-estimator-id-16\" type=\"checkbox\" ><label for=\"sk-estimator-id-16\" class=\"sk-toggleable__label sk-toggleable__label-arrow\">LinearRegression</label><div class=\"sk-toggleable__content\"><pre>LinearRegression()</pre></div></div></div></div></div></div></div>"
      ],
      "text/plain": [
       "Pipeline(steps=[('transormer',\n",
       "                 ColumnTransformer(transformers=[('Numerical',\n",
       "                                                  Pipeline(steps=[('winsorizer '\n",
       "                                                                   'Gaussian',\n",
       "                                                                   Winsorizer(tail='both',\n",
       "                                                                              variables=['bedrooms',\n",
       "                                                                                         'floors'])),\n",
       "                                                                  ('winsorizer '\n",
       "                                                                   'iqr',\n",
       "                                                                   Winsorizer(capping_method='iqr',\n",
       "                                                                              tail='both',\n",
       "                                                                              variables=['sqft_living',\n",
       "                                                                                         'sqft_above',\n",
       "                                                                                         'sqft_basement'])),\n",
       "                                                                  ('scaler',\n",
       "                                                                   StandardScaler())]),\n",
       "                                                  ['bedrooms', 'bathrooms',\n",
       "                                                   'sqft_living', 'floors',\n",
       "                                                   'sqft_above',\n",
       "                                                   'sqft_basement']),\n",
       "                                                 ('Categorical', 'passthrough',\n",
       "                                                  ['view', 'condition',\n",
       "                                                   'area'])])),\n",
       "                ('regressor', LinearRegression())])"
      ]
     },
     "execution_count": 52,
     "metadata": {},
     "output_type": "execute_result"
    }
   ],
   "source": [
    "#melihat pipeline untuk linear regression\n",
    "pipe_linreg"
   ]
  },
  {
   "cell_type": "code",
   "execution_count": 53,
   "metadata": {},
   "outputs": [
    {
     "data": {
      "text/html": [
       "<style>#sk-container-id-3 {color: black;}#sk-container-id-3 pre{padding: 0;}#sk-container-id-3 div.sk-toggleable {background-color: white;}#sk-container-id-3 label.sk-toggleable__label {cursor: pointer;display: block;width: 100%;margin-bottom: 0;padding: 0.3em;box-sizing: border-box;text-align: center;}#sk-container-id-3 label.sk-toggleable__label-arrow:before {content: \"▸\";float: left;margin-right: 0.25em;color: #696969;}#sk-container-id-3 label.sk-toggleable__label-arrow:hover:before {color: black;}#sk-container-id-3 div.sk-estimator:hover label.sk-toggleable__label-arrow:before {color: black;}#sk-container-id-3 div.sk-toggleable__content {max-height: 0;max-width: 0;overflow: hidden;text-align: left;background-color: #f0f8ff;}#sk-container-id-3 div.sk-toggleable__content pre {margin: 0.2em;color: black;border-radius: 0.25em;background-color: #f0f8ff;}#sk-container-id-3 input.sk-toggleable__control:checked~div.sk-toggleable__content {max-height: 200px;max-width: 100%;overflow: auto;}#sk-container-id-3 input.sk-toggleable__control:checked~label.sk-toggleable__label-arrow:before {content: \"▾\";}#sk-container-id-3 div.sk-estimator input.sk-toggleable__control:checked~label.sk-toggleable__label {background-color: #d4ebff;}#sk-container-id-3 div.sk-label input.sk-toggleable__control:checked~label.sk-toggleable__label {background-color: #d4ebff;}#sk-container-id-3 input.sk-hidden--visually {border: 0;clip: rect(1px 1px 1px 1px);clip: rect(1px, 1px, 1px, 1px);height: 1px;margin: -1px;overflow: hidden;padding: 0;position: absolute;width: 1px;}#sk-container-id-3 div.sk-estimator {font-family: monospace;background-color: #f0f8ff;border: 1px dotted black;border-radius: 0.25em;box-sizing: border-box;margin-bottom: 0.5em;}#sk-container-id-3 div.sk-estimator:hover {background-color: #d4ebff;}#sk-container-id-3 div.sk-parallel-item::after {content: \"\";width: 100%;border-bottom: 1px solid gray;flex-grow: 1;}#sk-container-id-3 div.sk-label:hover label.sk-toggleable__label {background-color: #d4ebff;}#sk-container-id-3 div.sk-serial::before {content: \"\";position: absolute;border-left: 1px solid gray;box-sizing: border-box;top: 0;bottom: 0;left: 50%;z-index: 0;}#sk-container-id-3 div.sk-serial {display: flex;flex-direction: column;align-items: center;background-color: white;padding-right: 0.2em;padding-left: 0.2em;position: relative;}#sk-container-id-3 div.sk-item {position: relative;z-index: 1;}#sk-container-id-3 div.sk-parallel {display: flex;align-items: stretch;justify-content: center;background-color: white;position: relative;}#sk-container-id-3 div.sk-item::before, #sk-container-id-3 div.sk-parallel-item::before {content: \"\";position: absolute;border-left: 1px solid gray;box-sizing: border-box;top: 0;bottom: 0;left: 50%;z-index: -1;}#sk-container-id-3 div.sk-parallel-item {display: flex;flex-direction: column;z-index: 1;position: relative;background-color: white;}#sk-container-id-3 div.sk-parallel-item:first-child::after {align-self: flex-end;width: 50%;}#sk-container-id-3 div.sk-parallel-item:last-child::after {align-self: flex-start;width: 50%;}#sk-container-id-3 div.sk-parallel-item:only-child::after {width: 0;}#sk-container-id-3 div.sk-dashed-wrapped {border: 1px dashed gray;margin: 0 0.4em 0.5em 0.4em;box-sizing: border-box;padding-bottom: 0.4em;background-color: white;}#sk-container-id-3 div.sk-label label {font-family: monospace;font-weight: bold;display: inline-block;line-height: 1.2em;}#sk-container-id-3 div.sk-label-container {text-align: center;}#sk-container-id-3 div.sk-container {/* jupyter's `normalize.less` sets `[hidden] { display: none; }` but bootstrap.min.css set `[hidden] { display: none !important; }` so we also need the `!important` here to be able to override the default hidden behavior on the sphinx rendered scikit-learn.org. See: https://github.com/scikit-learn/scikit-learn/issues/21755 */display: inline-block !important;position: relative;}#sk-container-id-3 div.sk-text-repr-fallback {display: none;}</style><div id=\"sk-container-id-3\" class=\"sk-top-container\"><div class=\"sk-text-repr-fallback\"><pre>Pipeline(steps=[(&#x27;transormer&#x27;,\n",
       "                 ColumnTransformer(transformers=[(&#x27;Numerical&#x27;,\n",
       "                                                  Pipeline(steps=[(&#x27;winsorizer &#x27;\n",
       "                                                                   &#x27;Gaussian&#x27;,\n",
       "                                                                   Winsorizer(tail=&#x27;both&#x27;,\n",
       "                                                                              variables=[&#x27;bedrooms&#x27;,\n",
       "                                                                                         &#x27;floors&#x27;])),\n",
       "                                                                  (&#x27;winsorizer &#x27;\n",
       "                                                                   &#x27;iqr&#x27;,\n",
       "                                                                   Winsorizer(capping_method=&#x27;iqr&#x27;,\n",
       "                                                                              tail=&#x27;both&#x27;,\n",
       "                                                                              variables=[&#x27;sqft_living&#x27;,\n",
       "                                                                                         &#x27;sqft_above&#x27;,\n",
       "                                                                                         &#x27;sqft_basement&#x27;])),\n",
       "                                                                  (&#x27;scaler&#x27;,\n",
       "                                                                   StandardScaler())]),\n",
       "                                                  [&#x27;bedrooms&#x27;, &#x27;bathrooms&#x27;,\n",
       "                                                   &#x27;sqft_living&#x27;, &#x27;floors&#x27;,\n",
       "                                                   &#x27;sqft_above&#x27;,\n",
       "                                                   &#x27;sqft_basement&#x27;]),\n",
       "                                                 (&#x27;Categorical&#x27;, &#x27;passthrough&#x27;,\n",
       "                                                  [&#x27;view&#x27;, &#x27;condition&#x27;,\n",
       "                                                   &#x27;area&#x27;])])),\n",
       "                (&#x27;regressor&#x27;, SGDRegressor())])</pre><b>In a Jupyter environment, please rerun this cell to show the HTML representation or trust the notebook. <br />On GitHub, the HTML representation is unable to render, please try loading this page with nbviewer.org.</b></div><div class=\"sk-container\" hidden><div class=\"sk-item sk-dashed-wrapped\"><div class=\"sk-label-container\"><div class=\"sk-label sk-toggleable\"><input class=\"sk-toggleable__control sk-hidden--visually\" id=\"sk-estimator-id-17\" type=\"checkbox\" ><label for=\"sk-estimator-id-17\" class=\"sk-toggleable__label sk-toggleable__label-arrow\">Pipeline</label><div class=\"sk-toggleable__content\"><pre>Pipeline(steps=[(&#x27;transormer&#x27;,\n",
       "                 ColumnTransformer(transformers=[(&#x27;Numerical&#x27;,\n",
       "                                                  Pipeline(steps=[(&#x27;winsorizer &#x27;\n",
       "                                                                   &#x27;Gaussian&#x27;,\n",
       "                                                                   Winsorizer(tail=&#x27;both&#x27;,\n",
       "                                                                              variables=[&#x27;bedrooms&#x27;,\n",
       "                                                                                         &#x27;floors&#x27;])),\n",
       "                                                                  (&#x27;winsorizer &#x27;\n",
       "                                                                   &#x27;iqr&#x27;,\n",
       "                                                                   Winsorizer(capping_method=&#x27;iqr&#x27;,\n",
       "                                                                              tail=&#x27;both&#x27;,\n",
       "                                                                              variables=[&#x27;sqft_living&#x27;,\n",
       "                                                                                         &#x27;sqft_above&#x27;,\n",
       "                                                                                         &#x27;sqft_basement&#x27;])),\n",
       "                                                                  (&#x27;scaler&#x27;,\n",
       "                                                                   StandardScaler())]),\n",
       "                                                  [&#x27;bedrooms&#x27;, &#x27;bathrooms&#x27;,\n",
       "                                                   &#x27;sqft_living&#x27;, &#x27;floors&#x27;,\n",
       "                                                   &#x27;sqft_above&#x27;,\n",
       "                                                   &#x27;sqft_basement&#x27;]),\n",
       "                                                 (&#x27;Categorical&#x27;, &#x27;passthrough&#x27;,\n",
       "                                                  [&#x27;view&#x27;, &#x27;condition&#x27;,\n",
       "                                                   &#x27;area&#x27;])])),\n",
       "                (&#x27;regressor&#x27;, SGDRegressor())])</pre></div></div></div><div class=\"sk-serial\"><div class=\"sk-item sk-dashed-wrapped\"><div class=\"sk-label-container\"><div class=\"sk-label sk-toggleable\"><input class=\"sk-toggleable__control sk-hidden--visually\" id=\"sk-estimator-id-18\" type=\"checkbox\" ><label for=\"sk-estimator-id-18\" class=\"sk-toggleable__label sk-toggleable__label-arrow\">transormer: ColumnTransformer</label><div class=\"sk-toggleable__content\"><pre>ColumnTransformer(transformers=[(&#x27;Numerical&#x27;,\n",
       "                                 Pipeline(steps=[(&#x27;winsorizer Gaussian&#x27;,\n",
       "                                                  Winsorizer(tail=&#x27;both&#x27;,\n",
       "                                                             variables=[&#x27;bedrooms&#x27;,\n",
       "                                                                        &#x27;floors&#x27;])),\n",
       "                                                 (&#x27;winsorizer iqr&#x27;,\n",
       "                                                  Winsorizer(capping_method=&#x27;iqr&#x27;,\n",
       "                                                             tail=&#x27;both&#x27;,\n",
       "                                                             variables=[&#x27;sqft_living&#x27;,\n",
       "                                                                        &#x27;sqft_above&#x27;,\n",
       "                                                                        &#x27;sqft_basement&#x27;])),\n",
       "                                                 (&#x27;scaler&#x27;, StandardScaler())]),\n",
       "                                 [&#x27;bedrooms&#x27;, &#x27;bathrooms&#x27;, &#x27;sqft_living&#x27;,\n",
       "                                  &#x27;floors&#x27;, &#x27;sqft_above&#x27;, &#x27;sqft_basement&#x27;]),\n",
       "                                (&#x27;Categorical&#x27;, &#x27;passthrough&#x27;,\n",
       "                                 [&#x27;view&#x27;, &#x27;condition&#x27;, &#x27;area&#x27;])])</pre></div></div></div><div class=\"sk-parallel\"><div class=\"sk-parallel-item\"><div class=\"sk-item\"><div class=\"sk-label-container\"><div class=\"sk-label sk-toggleable\"><input class=\"sk-toggleable__control sk-hidden--visually\" id=\"sk-estimator-id-19\" type=\"checkbox\" ><label for=\"sk-estimator-id-19\" class=\"sk-toggleable__label sk-toggleable__label-arrow\">Numerical</label><div class=\"sk-toggleable__content\"><pre>[&#x27;bedrooms&#x27;, &#x27;bathrooms&#x27;, &#x27;sqft_living&#x27;, &#x27;floors&#x27;, &#x27;sqft_above&#x27;, &#x27;sqft_basement&#x27;]</pre></div></div></div><div class=\"sk-serial\"><div class=\"sk-item\"><div class=\"sk-serial\"><div class=\"sk-item\"><div class=\"sk-estimator sk-toggleable\"><input class=\"sk-toggleable__control sk-hidden--visually\" id=\"sk-estimator-id-20\" type=\"checkbox\" ><label for=\"sk-estimator-id-20\" class=\"sk-toggleable__label sk-toggleable__label-arrow\">Winsorizer</label><div class=\"sk-toggleable__content\"><pre>Winsorizer(tail=&#x27;both&#x27;, variables=[&#x27;bedrooms&#x27;, &#x27;floors&#x27;])</pre></div></div></div><div class=\"sk-item\"><div class=\"sk-estimator sk-toggleable\"><input class=\"sk-toggleable__control sk-hidden--visually\" id=\"sk-estimator-id-21\" type=\"checkbox\" ><label for=\"sk-estimator-id-21\" class=\"sk-toggleable__label sk-toggleable__label-arrow\">Winsorizer</label><div class=\"sk-toggleable__content\"><pre>Winsorizer(capping_method=&#x27;iqr&#x27;, tail=&#x27;both&#x27;,\n",
       "           variables=[&#x27;sqft_living&#x27;, &#x27;sqft_above&#x27;, &#x27;sqft_basement&#x27;])</pre></div></div></div><div class=\"sk-item\"><div class=\"sk-estimator sk-toggleable\"><input class=\"sk-toggleable__control sk-hidden--visually\" id=\"sk-estimator-id-22\" type=\"checkbox\" ><label for=\"sk-estimator-id-22\" class=\"sk-toggleable__label sk-toggleable__label-arrow\">StandardScaler</label><div class=\"sk-toggleable__content\"><pre>StandardScaler()</pre></div></div></div></div></div></div></div></div><div class=\"sk-parallel-item\"><div class=\"sk-item\"><div class=\"sk-label-container\"><div class=\"sk-label sk-toggleable\"><input class=\"sk-toggleable__control sk-hidden--visually\" id=\"sk-estimator-id-23\" type=\"checkbox\" ><label for=\"sk-estimator-id-23\" class=\"sk-toggleable__label sk-toggleable__label-arrow\">Categorical</label><div class=\"sk-toggleable__content\"><pre>[&#x27;view&#x27;, &#x27;condition&#x27;, &#x27;area&#x27;]</pre></div></div></div><div class=\"sk-serial\"><div class=\"sk-item\"><div class=\"sk-estimator sk-toggleable\"><input class=\"sk-toggleable__control sk-hidden--visually\" id=\"sk-estimator-id-24\" type=\"checkbox\" ><label for=\"sk-estimator-id-24\" class=\"sk-toggleable__label sk-toggleable__label-arrow\">passthrough</label><div class=\"sk-toggleable__content\"><pre>passthrough</pre></div></div></div></div></div></div></div></div><div class=\"sk-item\"><div class=\"sk-estimator sk-toggleable\"><input class=\"sk-toggleable__control sk-hidden--visually\" id=\"sk-estimator-id-25\" type=\"checkbox\" ><label for=\"sk-estimator-id-25\" class=\"sk-toggleable__label sk-toggleable__label-arrow\">SGDRegressor</label><div class=\"sk-toggleable__content\"><pre>SGDRegressor()</pre></div></div></div></div></div></div></div>"
      ],
      "text/plain": [
       "Pipeline(steps=[('transormer',\n",
       "                 ColumnTransformer(transformers=[('Numerical',\n",
       "                                                  Pipeline(steps=[('winsorizer '\n",
       "                                                                   'Gaussian',\n",
       "                                                                   Winsorizer(tail='both',\n",
       "                                                                              variables=['bedrooms',\n",
       "                                                                                         'floors'])),\n",
       "                                                                  ('winsorizer '\n",
       "                                                                   'iqr',\n",
       "                                                                   Winsorizer(capping_method='iqr',\n",
       "                                                                              tail='both',\n",
       "                                                                              variables=['sqft_living',\n",
       "                                                                                         'sqft_above',\n",
       "                                                                                         'sqft_basement'])),\n",
       "                                                                  ('scaler',\n",
       "                                                                   StandardScaler())]),\n",
       "                                                  ['bedrooms', 'bathrooms',\n",
       "                                                   'sqft_living', 'floors',\n",
       "                                                   'sqft_above',\n",
       "                                                   'sqft_basement']),\n",
       "                                                 ('Categorical', 'passthrough',\n",
       "                                                  ['view', 'condition',\n",
       "                                                   'area'])])),\n",
       "                ('regressor', SGDRegressor())])"
      ]
     },
     "execution_count": 53,
     "metadata": {},
     "output_type": "execute_result"
    }
   ],
   "source": [
    "#melihat pipline untuk SGD Regressor\n",
    "pipe_sgd"
   ]
  },
  {
   "cell_type": "markdown",
   "metadata": {},
   "source": [
    "## B. Base Model Evaluation\n"
   ]
  },
  {
   "cell_type": "markdown",
   "metadata": {},
   "source": [
    "#### 1. Linear Regression"
   ]
  },
  {
   "cell_type": "code",
   "execution_count": 54,
   "metadata": {},
   "outputs": [
    {
     "name": "stdout",
     "output_type": "stream",
     "text": [
      "0.21681588740644486\n",
      "0.4775084313233383\n"
     ]
    }
   ],
   "source": [
    "pipe_linreg.fit(X_train,y_train)\n",
    "\n",
    "print (pipe_linreg.score(X_train,y_train))\n",
    "print(pipe_linreg.score(X_test,y_test))"
   ]
  },
  {
   "cell_type": "markdown",
   "metadata": {},
   "source": [
    "#### 2. KNN "
   ]
  },
  {
   "cell_type": "code",
   "execution_count": 55,
   "metadata": {},
   "outputs": [
    {
     "name": "stdout",
     "output_type": "stream",
     "text": [
      "0.28551601535249627\n",
      "0.3884955966692657\n"
     ]
    }
   ],
   "source": [
    "pipe_knn.fit(X_train,y_train)\n",
    "\n",
    "print (pipe_knn.score(X_train,y_train))\n",
    "print(pipe_knn.score(X_test,y_test))"
   ]
  },
  {
   "cell_type": "markdown",
   "metadata": {},
   "source": [
    "#### 3. Decission Tree"
   ]
  },
  {
   "cell_type": "code",
   "execution_count": 56,
   "metadata": {},
   "outputs": [
    {
     "name": "stdout",
     "output_type": "stream",
     "text": [
      "0.6515254951629268\n",
      "0.29223969607496525\n"
     ]
    }
   ],
   "source": [
    "pipe_dtr.fit(X_train,y_train)\n",
    "\n",
    "print (pipe_dtr.score(X_train,y_train))\n",
    "print(pipe_dtr.score(X_test,y_test))"
   ]
  },
  {
   "cell_type": "markdown",
   "metadata": {},
   "source": [
    "#### 4. ADA Boost Regressor"
   ]
  },
  {
   "cell_type": "code",
   "execution_count": 57,
   "metadata": {},
   "outputs": [
    {
     "name": "stdout",
     "output_type": "stream",
     "text": [
      "0.11799991728456138\n",
      "-0.13106674145246444\n"
     ]
    }
   ],
   "source": [
    "pipe_abr.fit(X_train,y_train)\n",
    "\n",
    "print (pipe_abr.score(X_train,y_train))\n",
    "print(pipe_abr.score(X_test,y_test))"
   ]
  },
  {
   "cell_type": "markdown",
   "metadata": {},
   "source": [
    "#### 5. Random Forest Regressor"
   ]
  },
  {
   "cell_type": "code",
   "execution_count": 58,
   "metadata": {},
   "outputs": [
    {
     "name": "stdout",
     "output_type": "stream",
     "text": [
      "0.5947377231509956\n",
      "0.5297567690717078\n"
     ]
    }
   ],
   "source": [
    "pipe_rfr.fit(X_train,y_train)\n",
    "\n",
    "print (pipe_rfr.score(X_train,y_train))\n",
    "print(pipe_rfr.score(X_test,y_test))"
   ]
  },
  {
   "cell_type": "markdown",
   "metadata": {},
   "source": [
    "#### 6. SVR"
   ]
  },
  {
   "cell_type": "code",
   "execution_count": 59,
   "metadata": {},
   "outputs": [
    {
     "name": "stdout",
     "output_type": "stream",
     "text": [
      "-0.02589862271972798\n",
      "-0.08851814726045393\n"
     ]
    }
   ],
   "source": [
    "pipe_svr.fit(X_train,y_train)\n",
    "\n",
    "print (pipe_svr.score(X_train,y_train))\n",
    "print(pipe_svr.score(X_test,y_test))"
   ]
  },
  {
   "cell_type": "markdown",
   "metadata": {},
   "source": [
    "#### 7. SGD Regressor"
   ]
  },
  {
   "cell_type": "code",
   "execution_count": 60,
   "metadata": {},
   "outputs": [
    {
     "name": "stdout",
     "output_type": "stream",
     "text": [
      "0.20593684803263734\n",
      "0.4929153169063659\n"
     ]
    }
   ],
   "source": [
    "pipe_sgd.fit(X_train,y_train)\n",
    "\n",
    "y_train_sgd = pipe_sgd.predict(X_train)\n",
    "y_test_sgd = pipe_sgd.predict(X_test)\n",
    "\n",
    "print (pipe_sgd.score(X_train,y_train))\n",
    "print(pipe_sgd.score(X_test,y_test))\n"
   ]
  },
  {
   "cell_type": "markdown",
   "metadata": {},
   "source": [
    "## C. Menggunakan Cross Validation"
   ]
  },
  {
   "cell_type": "markdown",
   "metadata": {},
   "source": [
    "Fungsi Cross-Validation adalah metode evaluasi kinerja model yang digunakan untuk mengukur seberapa baik model tersebut akan berkinerja pada data yang belum pernah dilihat sebelumnya. Tujuan utamanya adalah untuk mendapatkan estimasi yang lebih stabil dan dapat diandalkan tentang seberapa baik model dapat digeneralisasi ke data baru."
   ]
  },
  {
   "cell_type": "markdown",
   "metadata": {},
   "source": [
    "#### 1. Cross Validation Linear Regression"
   ]
  },
  {
   "cell_type": "code",
   "execution_count": 61,
   "metadata": {},
   "outputs": [
    {
     "name": "stdout",
     "output_type": "stream",
     "text": [
      "----Cross Validation Linear Regression ---- \n",
      "r2 Score - All - Cross Validation  :  [0.60003973 0.06098728 0.58421499 0.20870677 0.53656879]\n",
      "r2 Score - Mean - Cross Validation :  0.3981035121427746\n",
      "r2 Score - Std - Cross Validation  :  0.22095557689779521\n",
      "r2 Score - Range of Test-Set       :  0.1771479352449794 - 0.6190590890405698\n"
     ]
    }
   ],
   "source": [
    "r2_train_cross_val_linreg = cross_val_score(pipe_linreg,\n",
    "                                        X_train,\n",
    "                                        y_train,\n",
    "                                        cv=5,\n",
    "                                        scoring=\"r2\")\n",
    "\n",
    "print('----Cross Validation Linear Regression ---- ')\n",
    "print('r2 Score - All - Cross Validation  : ', r2_train_cross_val_linreg)\n",
    "print('r2 Score - Mean - Cross Validation : ', r2_train_cross_val_linreg.mean())\n",
    "print('r2 Score - Std - Cross Validation  : ', r2_train_cross_val_linreg.std())\n",
    "print('r2 Score - Range of Test-Set       : ', (r2_train_cross_val_linreg.mean()-r2_train_cross_val_linreg.std()) , '-', (r2_train_cross_val_linreg.mean()+r2_train_cross_val_linreg.std()))"
   ]
  },
  {
   "cell_type": "markdown",
   "metadata": {},
   "source": [
    "#### 2. Cross Validation KNN"
   ]
  },
  {
   "cell_type": "code",
   "execution_count": 62,
   "metadata": {},
   "outputs": [
    {
     "name": "stdout",
     "output_type": "stream",
     "text": [
      "----Cross Validation KNN ---- \n",
      "r2 Score - All - Cross Validation  :  [ 0.29816298  0.04568595  0.60961041  0.09036718 -1.17636778]\n",
      "r2 Score - Mean - Cross Validation :  -0.02650825312093428\n",
      "r2 Score - Std - Cross Validation  :  0.6084582433363115\n",
      "r2 Score - Range of Test-Set       :  -0.6349664964572458 - 0.5819499902153772\n"
     ]
    }
   ],
   "source": [
    "r2_train_cross_val_knn = cross_val_score(pipe_knn,\n",
    "                                        X_train,\n",
    "                                        y_train,\n",
    "                                        cv=5,\n",
    "                                        scoring=\"r2\")\n",
    "\n",
    "print('----Cross Validation KNN ---- ')\n",
    "print('r2 Score - All - Cross Validation  : ', r2_train_cross_val_knn)\n",
    "print('r2 Score - Mean - Cross Validation : ', r2_train_cross_val_knn.mean())\n",
    "print('r2 Score - Std - Cross Validation  : ', r2_train_cross_val_knn.std())\n",
    "print('r2 Score - Range of Test-Set       : ', (r2_train_cross_val_knn.mean()-r2_train_cross_val_knn.std()) , '-', (r2_train_cross_val_knn.mean()+r2_train_cross_val_knn.std()))"
   ]
  },
  {
   "cell_type": "markdown",
   "metadata": {},
   "source": [
    "#### 3. Cross Validation Decission Tree"
   ]
  },
  {
   "cell_type": "code",
   "execution_count": 63,
   "metadata": {},
   "outputs": [
    {
     "name": "stdout",
     "output_type": "stream",
     "text": [
      "----Cross Validation Decission Tree ---- \n",
      "r2 Score - All - Cross Validation  :  [-0.7436948  -0.21900032  0.42315936 -1.28077335 -1.93083185]\n",
      "r2 Score - Mean - Cross Validation :  -0.7502281958842507\n",
      "r2 Score - Std - Cross Validation  :  0.8166256477368401\n",
      "r2 Score - Range of Test-Set       :  -1.5668538436210908 - 0.06639745185258938\n"
     ]
    }
   ],
   "source": [
    "r2_train_cross_val_dtr = cross_val_score(pipe_dtr,\n",
    "                                        X_train,\n",
    "                                        y_train,\n",
    "                                        cv=5,\n",
    "                                        scoring=\"r2\")\n",
    "\n",
    "print('----Cross Validation Decission Tree ---- ')\n",
    "print('r2 Score - All - Cross Validation  : ', r2_train_cross_val_dtr)\n",
    "print('r2 Score - Mean - Cross Validation : ', r2_train_cross_val_dtr.mean())\n",
    "print('r2 Score - Std - Cross Validation  : ', r2_train_cross_val_dtr.std())\n",
    "print('r2 Score - Range of Test-Set       : ', (r2_train_cross_val_dtr.mean()-r2_train_cross_val_dtr.std()) , '-', (r2_train_cross_val_dtr.mean()+r2_train_cross_val_dtr.std()))"
   ]
  },
  {
   "cell_type": "markdown",
   "metadata": {},
   "source": [
    "#### 4. Cross Validation Ada Boost Regressor"
   ]
  },
  {
   "cell_type": "code",
   "execution_count": 64,
   "metadata": {},
   "outputs": [
    {
     "name": "stdout",
     "output_type": "stream",
     "text": [
      "----Cross Validation Ada Boost Regressor ---- \n",
      "r2 Score - All - Cross Validation  :  [-0.02472458  0.03066703 -0.29076338 -1.17047093 -1.53342215]\n",
      "r2 Score - Mean - Cross Validation :  -0.5977428023424154\n",
      "r2 Score - Std - Cross Validation  :  0.6357670205397399\n",
      "r2 Score - Range of Test-Set       :  -1.2335098228821553 - 0.03802421819732449\n"
     ]
    }
   ],
   "source": [
    "r2_train_cross_val_abr = cross_val_score(pipe_abr,\n",
    "                                        X_train,\n",
    "                                        y_train,\n",
    "                                        cv=5,\n",
    "                                        scoring=\"r2\")\n",
    "\n",
    "print('----Cross Validation Ada Boost Regressor ---- ')\n",
    "print('r2 Score - All - Cross Validation  : ', r2_train_cross_val_abr)\n",
    "print('r2 Score - Mean - Cross Validation : ', r2_train_cross_val_abr.mean())\n",
    "print('r2 Score - Std - Cross Validation  : ', r2_train_cross_val_abr.std())\n",
    "print('r2 Score - Range of Test-Set       : ', (r2_train_cross_val_abr.mean()-r2_train_cross_val_abr.std()) , '-', (r2_train_cross_val_abr.mean()+r2_train_cross_val_abr.std()))"
   ]
  },
  {
   "cell_type": "markdown",
   "metadata": {},
   "source": [
    "#### 5. Cross Validation Random Forest Regressor"
   ]
  },
  {
   "cell_type": "code",
   "execution_count": 65,
   "metadata": {},
   "outputs": [
    {
     "name": "stdout",
     "output_type": "stream",
     "text": [
      "----Cross Validation Random Forest Regressor ---- \n",
      "r2 Score - All - Cross Validation  :  [ 0.54069964  0.03868661  0.33462424 -0.5818594  -1.20730995]\n",
      "r2 Score - Mean - Cross Validation :  -0.17503177439773315\n",
      "r2 Score - Std - Cross Validation  :  0.6401254877804915\n",
      "r2 Score - Range of Test-Set       :  -0.8151572621782246 - 0.46509371338275834\n"
     ]
    }
   ],
   "source": [
    "r2_train_cross_val_rfr = cross_val_score(pipe_rfr,\n",
    "                                        X_train,\n",
    "                                        y_train,\n",
    "                                        cv=5,\n",
    "                                        scoring=\"r2\")\n",
    "\n",
    "print('----Cross Validation Random Forest Regressor ---- ')\n",
    "print('r2 Score - All - Cross Validation  : ', r2_train_cross_val_rfr)\n",
    "print('r2 Score - Mean - Cross Validation : ', r2_train_cross_val_rfr.mean())\n",
    "print('r2 Score - Std - Cross Validation  : ', r2_train_cross_val_rfr.std())\n",
    "print('r2 Score - Range of Test-Set       : ', (r2_train_cross_val_rfr.mean()-r2_train_cross_val_rfr.std()) , '-', (r2_train_cross_val_rfr.mean()+r2_train_cross_val_rfr.std()))"
   ]
  },
  {
   "cell_type": "markdown",
   "metadata": {},
   "source": [
    "#### 6. Cross Validation SVR"
   ]
  },
  {
   "cell_type": "code",
   "execution_count": 66,
   "metadata": {},
   "outputs": [
    {
     "name": "stdout",
     "output_type": "stream",
     "text": [
      "----Cross Validation SVR ---- \n",
      "r2 Score - All - Cross Validation  :  [-0.07725362 -0.0103152  -0.06731918 -0.02491511 -0.05568261]\n",
      "r2 Score - Mean - Cross Validation :  -0.04709714190268275\n",
      "r2 Score - Std - Cross Validation  :  0.025444088713257967\n",
      "r2 Score - Range of Test-Set       :  -0.07254123061594071 - -0.021653053189424783\n"
     ]
    }
   ],
   "source": [
    "r2_train_cross_val_svr = cross_val_score(pipe_svr,\n",
    "                                        X_train,\n",
    "                                        y_train,\n",
    "                                        cv=5,\n",
    "                                        scoring=\"r2\")\n",
    "\n",
    "print('----Cross Validation SVR ---- ')\n",
    "print('r2 Score - All - Cross Validation  : ', r2_train_cross_val_svr)\n",
    "print('r2 Score - Mean - Cross Validation : ', r2_train_cross_val_svr.mean())\n",
    "print('r2 Score - Std - Cross Validation  : ', r2_train_cross_val_svr.std())\n",
    "print('r2 Score - Range of Test-Set       : ', (r2_train_cross_val_svr.mean()-r2_train_cross_val_svr.std()) , '-', (r2_train_cross_val_svr.mean()+r2_train_cross_val_svr.std()))"
   ]
  },
  {
   "cell_type": "markdown",
   "metadata": {},
   "source": [
    "#### 7. Cross Validation SGD Regressor"
   ]
  },
  {
   "cell_type": "code",
   "execution_count": 67,
   "metadata": {},
   "outputs": [
    {
     "name": "stdout",
     "output_type": "stream",
     "text": [
      "----Cross Validation SGD Regressor ---- \n",
      "r2 Score - All - Cross Validation  :  [0.4977323  0.0542289  0.63908822 0.19599817 0.56259808]\n",
      "r2 Score - Mean - Cross Validation :  0.38992913313856914\n",
      "r2 Score - Std - Cross Validation  :  0.22530876805287336\n",
      "r2 Score - Range of Test-Set       :  0.16462036508569577 - 0.6152379011914425\n"
     ]
    }
   ],
   "source": [
    "r2_train_cross_val_sgd = cross_val_score(pipe_sgd,\n",
    "                                        X_train,\n",
    "                                        y_train,\n",
    "                                        cv=5,\n",
    "                                        scoring=\"r2\")\n",
    "\n",
    "print('----Cross Validation SGD Regressor ---- ')\n",
    "print('r2 Score - All - Cross Validation  : ', r2_train_cross_val_sgd)\n",
    "print('r2 Score - Mean - Cross Validation : ', r2_train_cross_val_sgd.mean())\n",
    "print('r2 Score - Std - Cross Validation  : ', r2_train_cross_val_sgd.std())\n",
    "print('r2 Score - Range of Test-Set       : ', (r2_train_cross_val_sgd.mean()-r2_train_cross_val_sgd.std()) , '-', (r2_train_cross_val_sgd.mean()+r2_train_cross_val_sgd.std()))"
   ]
  },
  {
   "cell_type": "markdown",
   "metadata": {},
   "source": [
    "Setelah dilihat dari r2 Score dan standar deviasinya, saya memutuskan model paling baik yang tersedia untuk digunakan dalam model adalah Menggunakan SGD Regressor.\n",
    "SGD Regressor memiliki rata-rata r2 score sebesar 38% dari 5 jenis pembagian data. \n",
    "\n",
    "SGD Regressor merupakan salah satu algoritma dalam machine learning yang digunakan untuk melakukan regresi. Ini adalah varian dari algoritma Gradient Descent yang digunakan untuk meminimalkan fungsi biaya (cost function) dan menemukan parameter terbaik untuk model regresi."
   ]
  },
  {
   "cell_type": "markdown",
   "metadata": {},
   "source": [
    "# **vii. Model Training**"
   ]
  },
  {
   "cell_type": "markdown",
   "metadata": {},
   "source": [
    "> Cell pada bagian ini hanya berisi code untuk melatih model dan output yang dihasilkan. Lakukan beberapa kali proses training dengan hyperparameter yang berbeda untuk melihat hasil yang didapatkan. Analisis dan narasikan hasil ini pada bagian Model Evaluation."
   ]
  },
  {
   "cell_type": "markdown",
   "metadata": {},
   "source": [
    "### 1. Hyperparameter Tunning"
   ]
  },
  {
   "cell_type": "markdown",
   "metadata": {},
   "source": [
    "Hyperparameter tuning adalah proses mencari dan memilih kombinasi terbaik dari hyperparameter untuk model machine learning guna meningkatkan kinerja model pada data uji."
   ]
  },
  {
   "cell_type": "markdown",
   "metadata": {},
   "source": [
    "Menggunakan GridSearchCV untuk melakukan hyperparameter tuning, untuk parameter yang akan dilakukan tunning meliputi :\n",
    "- alpha (Parameter regularisasi)\n",
    "- Learning Rate / metode pembelajarannya\n",
    "- max_iter (Jumlah iterasi maximum)"
   ]
  },
  {
   "cell_type": "code",
   "execution_count": 68,
   "metadata": {},
   "outputs": [],
   "source": [
    "#memasukan parameter apa saja yang akan dilakukan tunning\n",
    "parameter_sgd = {\n",
    "    'regressor__alpha': [0.0001, 0.001, 0.01, 0.1],  # Parameter regularisasi\n",
    "    'regressor__learning_rate': ['constant', 'optimal', 'invscaling', 'adaptive'],  # Metode pembelajaran\n",
    "    'regressor__max_iter': [1000, 2000, 3000]  # Jumlah iterasi maksimum\n",
    "}\n",
    "\n",
    "#mencari parameter terbaik dari SGD regressor, dan memasukan parameter yang sudah dibuat sebelumnya\n",
    "model_sgd = GridSearchCV(pipe_sgd, parameter_sgd, cv=3, verbose=1)\n",
    "\n",
    "                     "
   ]
  },
  {
   "cell_type": "markdown",
   "metadata": {},
   "source": [
    "Melakukan Train pada Model SGD Regressor"
   ]
  },
  {
   "cell_type": "code",
   "execution_count": 69,
   "metadata": {},
   "outputs": [
    {
     "name": "stdout",
     "output_type": "stream",
     "text": [
      "Fitting 3 folds for each of 48 candidates, totalling 144 fits\n"
     ]
    },
    {
     "data": {
      "text/html": [
       "<style>#sk-container-id-4 {color: black;}#sk-container-id-4 pre{padding: 0;}#sk-container-id-4 div.sk-toggleable {background-color: white;}#sk-container-id-4 label.sk-toggleable__label {cursor: pointer;display: block;width: 100%;margin-bottom: 0;padding: 0.3em;box-sizing: border-box;text-align: center;}#sk-container-id-4 label.sk-toggleable__label-arrow:before {content: \"▸\";float: left;margin-right: 0.25em;color: #696969;}#sk-container-id-4 label.sk-toggleable__label-arrow:hover:before {color: black;}#sk-container-id-4 div.sk-estimator:hover label.sk-toggleable__label-arrow:before {color: black;}#sk-container-id-4 div.sk-toggleable__content {max-height: 0;max-width: 0;overflow: hidden;text-align: left;background-color: #f0f8ff;}#sk-container-id-4 div.sk-toggleable__content pre {margin: 0.2em;color: black;border-radius: 0.25em;background-color: #f0f8ff;}#sk-container-id-4 input.sk-toggleable__control:checked~div.sk-toggleable__content {max-height: 200px;max-width: 100%;overflow: auto;}#sk-container-id-4 input.sk-toggleable__control:checked~label.sk-toggleable__label-arrow:before {content: \"▾\";}#sk-container-id-4 div.sk-estimator input.sk-toggleable__control:checked~label.sk-toggleable__label {background-color: #d4ebff;}#sk-container-id-4 div.sk-label input.sk-toggleable__control:checked~label.sk-toggleable__label {background-color: #d4ebff;}#sk-container-id-4 input.sk-hidden--visually {border: 0;clip: rect(1px 1px 1px 1px);clip: rect(1px, 1px, 1px, 1px);height: 1px;margin: -1px;overflow: hidden;padding: 0;position: absolute;width: 1px;}#sk-container-id-4 div.sk-estimator {font-family: monospace;background-color: #f0f8ff;border: 1px dotted black;border-radius: 0.25em;box-sizing: border-box;margin-bottom: 0.5em;}#sk-container-id-4 div.sk-estimator:hover {background-color: #d4ebff;}#sk-container-id-4 div.sk-parallel-item::after {content: \"\";width: 100%;border-bottom: 1px solid gray;flex-grow: 1;}#sk-container-id-4 div.sk-label:hover label.sk-toggleable__label {background-color: #d4ebff;}#sk-container-id-4 div.sk-serial::before {content: \"\";position: absolute;border-left: 1px solid gray;box-sizing: border-box;top: 0;bottom: 0;left: 50%;z-index: 0;}#sk-container-id-4 div.sk-serial {display: flex;flex-direction: column;align-items: center;background-color: white;padding-right: 0.2em;padding-left: 0.2em;position: relative;}#sk-container-id-4 div.sk-item {position: relative;z-index: 1;}#sk-container-id-4 div.sk-parallel {display: flex;align-items: stretch;justify-content: center;background-color: white;position: relative;}#sk-container-id-4 div.sk-item::before, #sk-container-id-4 div.sk-parallel-item::before {content: \"\";position: absolute;border-left: 1px solid gray;box-sizing: border-box;top: 0;bottom: 0;left: 50%;z-index: -1;}#sk-container-id-4 div.sk-parallel-item {display: flex;flex-direction: column;z-index: 1;position: relative;background-color: white;}#sk-container-id-4 div.sk-parallel-item:first-child::after {align-self: flex-end;width: 50%;}#sk-container-id-4 div.sk-parallel-item:last-child::after {align-self: flex-start;width: 50%;}#sk-container-id-4 div.sk-parallel-item:only-child::after {width: 0;}#sk-container-id-4 div.sk-dashed-wrapped {border: 1px dashed gray;margin: 0 0.4em 0.5em 0.4em;box-sizing: border-box;padding-bottom: 0.4em;background-color: white;}#sk-container-id-4 div.sk-label label {font-family: monospace;font-weight: bold;display: inline-block;line-height: 1.2em;}#sk-container-id-4 div.sk-label-container {text-align: center;}#sk-container-id-4 div.sk-container {/* jupyter's `normalize.less` sets `[hidden] { display: none; }` but bootstrap.min.css set `[hidden] { display: none !important; }` so we also need the `!important` here to be able to override the default hidden behavior on the sphinx rendered scikit-learn.org. See: https://github.com/scikit-learn/scikit-learn/issues/21755 */display: inline-block !important;position: relative;}#sk-container-id-4 div.sk-text-repr-fallback {display: none;}</style><div id=\"sk-container-id-4\" class=\"sk-top-container\"><div class=\"sk-text-repr-fallback\"><pre>GridSearchCV(cv=3,\n",
       "             estimator=Pipeline(steps=[(&#x27;transormer&#x27;,\n",
       "                                        ColumnTransformer(transformers=[(&#x27;Numerical&#x27;,\n",
       "                                                                         Pipeline(steps=[(&#x27;winsorizer &#x27;\n",
       "                                                                                          &#x27;Gaussian&#x27;,\n",
       "                                                                                          Winsorizer(tail=&#x27;both&#x27;,\n",
       "                                                                                                     variables=[&#x27;bedrooms&#x27;,\n",
       "                                                                                                                &#x27;floors&#x27;])),\n",
       "                                                                                         (&#x27;winsorizer &#x27;\n",
       "                                                                                          &#x27;iqr&#x27;,\n",
       "                                                                                          Winsorizer(capping_method=&#x27;iqr&#x27;,\n",
       "                                                                                                     tail=&#x27;both&#x27;,\n",
       "                                                                                                     variables=[&#x27;sqft_living&#x27;,\n",
       "                                                                                                                &#x27;sqft_above&#x27;,\n",
       "                                                                                                                &#x27;sqft_basement&#x27;])),\n",
       "                                                                                         (&#x27;scaler&#x27;,\n",
       "                                                                                          StandardScaler())]),\n",
       "                                                                         [&#x27;bedrooms&#x27;,\n",
       "                                                                          &#x27;bathrooms&#x27;,\n",
       "                                                                          &#x27;sqft_living&#x27;,\n",
       "                                                                          &#x27;floors&#x27;,\n",
       "                                                                          &#x27;sqft_above&#x27;,\n",
       "                                                                          &#x27;sqft_basement&#x27;]),\n",
       "                                                                        (&#x27;Categorical&#x27;,\n",
       "                                                                         &#x27;passthrough&#x27;,\n",
       "                                                                         [&#x27;view&#x27;,\n",
       "                                                                          &#x27;condition&#x27;,\n",
       "                                                                          &#x27;area&#x27;])])),\n",
       "                                       (&#x27;regressor&#x27;, SGDRegressor())]),\n",
       "             param_grid={&#x27;regressor__alpha&#x27;: [0.0001, 0.001, 0.01, 0.1],\n",
       "                         &#x27;regressor__learning_rate&#x27;: [&#x27;constant&#x27;, &#x27;optimal&#x27;,\n",
       "                                                      &#x27;invscaling&#x27;,\n",
       "                                                      &#x27;adaptive&#x27;],\n",
       "                         &#x27;regressor__max_iter&#x27;: [1000, 2000, 3000]},\n",
       "             verbose=1)</pre><b>In a Jupyter environment, please rerun this cell to show the HTML representation or trust the notebook. <br />On GitHub, the HTML representation is unable to render, please try loading this page with nbviewer.org.</b></div><div class=\"sk-container\" hidden><div class=\"sk-item sk-dashed-wrapped\"><div class=\"sk-label-container\"><div class=\"sk-label sk-toggleable\"><input class=\"sk-toggleable__control sk-hidden--visually\" id=\"sk-estimator-id-26\" type=\"checkbox\" ><label for=\"sk-estimator-id-26\" class=\"sk-toggleable__label sk-toggleable__label-arrow\">GridSearchCV</label><div class=\"sk-toggleable__content\"><pre>GridSearchCV(cv=3,\n",
       "             estimator=Pipeline(steps=[(&#x27;transormer&#x27;,\n",
       "                                        ColumnTransformer(transformers=[(&#x27;Numerical&#x27;,\n",
       "                                                                         Pipeline(steps=[(&#x27;winsorizer &#x27;\n",
       "                                                                                          &#x27;Gaussian&#x27;,\n",
       "                                                                                          Winsorizer(tail=&#x27;both&#x27;,\n",
       "                                                                                                     variables=[&#x27;bedrooms&#x27;,\n",
       "                                                                                                                &#x27;floors&#x27;])),\n",
       "                                                                                         (&#x27;winsorizer &#x27;\n",
       "                                                                                          &#x27;iqr&#x27;,\n",
       "                                                                                          Winsorizer(capping_method=&#x27;iqr&#x27;,\n",
       "                                                                                                     tail=&#x27;both&#x27;,\n",
       "                                                                                                     variables=[&#x27;sqft_living&#x27;,\n",
       "                                                                                                                &#x27;sqft_above&#x27;,\n",
       "                                                                                                                &#x27;sqft_basement&#x27;])),\n",
       "                                                                                         (&#x27;scaler&#x27;,\n",
       "                                                                                          StandardScaler())]),\n",
       "                                                                         [&#x27;bedrooms&#x27;,\n",
       "                                                                          &#x27;bathrooms&#x27;,\n",
       "                                                                          &#x27;sqft_living&#x27;,\n",
       "                                                                          &#x27;floors&#x27;,\n",
       "                                                                          &#x27;sqft_above&#x27;,\n",
       "                                                                          &#x27;sqft_basement&#x27;]),\n",
       "                                                                        (&#x27;Categorical&#x27;,\n",
       "                                                                         &#x27;passthrough&#x27;,\n",
       "                                                                         [&#x27;view&#x27;,\n",
       "                                                                          &#x27;condition&#x27;,\n",
       "                                                                          &#x27;area&#x27;])])),\n",
       "                                       (&#x27;regressor&#x27;, SGDRegressor())]),\n",
       "             param_grid={&#x27;regressor__alpha&#x27;: [0.0001, 0.001, 0.01, 0.1],\n",
       "                         &#x27;regressor__learning_rate&#x27;: [&#x27;constant&#x27;, &#x27;optimal&#x27;,\n",
       "                                                      &#x27;invscaling&#x27;,\n",
       "                                                      &#x27;adaptive&#x27;],\n",
       "                         &#x27;regressor__max_iter&#x27;: [1000, 2000, 3000]},\n",
       "             verbose=1)</pre></div></div></div><div class=\"sk-parallel\"><div class=\"sk-parallel-item\"><div class=\"sk-item\"><div class=\"sk-label-container\"><div class=\"sk-label sk-toggleable\"><input class=\"sk-toggleable__control sk-hidden--visually\" id=\"sk-estimator-id-27\" type=\"checkbox\" ><label for=\"sk-estimator-id-27\" class=\"sk-toggleable__label sk-toggleable__label-arrow\">estimator: Pipeline</label><div class=\"sk-toggleable__content\"><pre>Pipeline(steps=[(&#x27;transormer&#x27;,\n",
       "                 ColumnTransformer(transformers=[(&#x27;Numerical&#x27;,\n",
       "                                                  Pipeline(steps=[(&#x27;winsorizer &#x27;\n",
       "                                                                   &#x27;Gaussian&#x27;,\n",
       "                                                                   Winsorizer(tail=&#x27;both&#x27;,\n",
       "                                                                              variables=[&#x27;bedrooms&#x27;,\n",
       "                                                                                         &#x27;floors&#x27;])),\n",
       "                                                                  (&#x27;winsorizer &#x27;\n",
       "                                                                   &#x27;iqr&#x27;,\n",
       "                                                                   Winsorizer(capping_method=&#x27;iqr&#x27;,\n",
       "                                                                              tail=&#x27;both&#x27;,\n",
       "                                                                              variables=[&#x27;sqft_living&#x27;,\n",
       "                                                                                         &#x27;sqft_above&#x27;,\n",
       "                                                                                         &#x27;sqft_basement&#x27;])),\n",
       "                                                                  (&#x27;scaler&#x27;,\n",
       "                                                                   StandardScaler())]),\n",
       "                                                  [&#x27;bedrooms&#x27;, &#x27;bathrooms&#x27;,\n",
       "                                                   &#x27;sqft_living&#x27;, &#x27;floors&#x27;,\n",
       "                                                   &#x27;sqft_above&#x27;,\n",
       "                                                   &#x27;sqft_basement&#x27;]),\n",
       "                                                 (&#x27;Categorical&#x27;, &#x27;passthrough&#x27;,\n",
       "                                                  [&#x27;view&#x27;, &#x27;condition&#x27;,\n",
       "                                                   &#x27;area&#x27;])])),\n",
       "                (&#x27;regressor&#x27;, SGDRegressor())])</pre></div></div></div><div class=\"sk-serial\"><div class=\"sk-item\"><div class=\"sk-serial\"><div class=\"sk-item sk-dashed-wrapped\"><div class=\"sk-label-container\"><div class=\"sk-label sk-toggleable\"><input class=\"sk-toggleable__control sk-hidden--visually\" id=\"sk-estimator-id-28\" type=\"checkbox\" ><label for=\"sk-estimator-id-28\" class=\"sk-toggleable__label sk-toggleable__label-arrow\">transormer: ColumnTransformer</label><div class=\"sk-toggleable__content\"><pre>ColumnTransformer(transformers=[(&#x27;Numerical&#x27;,\n",
       "                                 Pipeline(steps=[(&#x27;winsorizer Gaussian&#x27;,\n",
       "                                                  Winsorizer(tail=&#x27;both&#x27;,\n",
       "                                                             variables=[&#x27;bedrooms&#x27;,\n",
       "                                                                        &#x27;floors&#x27;])),\n",
       "                                                 (&#x27;winsorizer iqr&#x27;,\n",
       "                                                  Winsorizer(capping_method=&#x27;iqr&#x27;,\n",
       "                                                             tail=&#x27;both&#x27;,\n",
       "                                                             variables=[&#x27;sqft_living&#x27;,\n",
       "                                                                        &#x27;sqft_above&#x27;,\n",
       "                                                                        &#x27;sqft_basement&#x27;])),\n",
       "                                                 (&#x27;scaler&#x27;, StandardScaler())]),\n",
       "                                 [&#x27;bedrooms&#x27;, &#x27;bathrooms&#x27;, &#x27;sqft_living&#x27;,\n",
       "                                  &#x27;floors&#x27;, &#x27;sqft_above&#x27;, &#x27;sqft_basement&#x27;]),\n",
       "                                (&#x27;Categorical&#x27;, &#x27;passthrough&#x27;,\n",
       "                                 [&#x27;view&#x27;, &#x27;condition&#x27;, &#x27;area&#x27;])])</pre></div></div></div><div class=\"sk-parallel\"><div class=\"sk-parallel-item\"><div class=\"sk-item\"><div class=\"sk-label-container\"><div class=\"sk-label sk-toggleable\"><input class=\"sk-toggleable__control sk-hidden--visually\" id=\"sk-estimator-id-29\" type=\"checkbox\" ><label for=\"sk-estimator-id-29\" class=\"sk-toggleable__label sk-toggleable__label-arrow\">Numerical</label><div class=\"sk-toggleable__content\"><pre>[&#x27;bedrooms&#x27;, &#x27;bathrooms&#x27;, &#x27;sqft_living&#x27;, &#x27;floors&#x27;, &#x27;sqft_above&#x27;, &#x27;sqft_basement&#x27;]</pre></div></div></div><div class=\"sk-serial\"><div class=\"sk-item\"><div class=\"sk-serial\"><div class=\"sk-item\"><div class=\"sk-estimator sk-toggleable\"><input class=\"sk-toggleable__control sk-hidden--visually\" id=\"sk-estimator-id-30\" type=\"checkbox\" ><label for=\"sk-estimator-id-30\" class=\"sk-toggleable__label sk-toggleable__label-arrow\">Winsorizer</label><div class=\"sk-toggleable__content\"><pre>Winsorizer(tail=&#x27;both&#x27;, variables=[&#x27;bedrooms&#x27;, &#x27;floors&#x27;])</pre></div></div></div><div class=\"sk-item\"><div class=\"sk-estimator sk-toggleable\"><input class=\"sk-toggleable__control sk-hidden--visually\" id=\"sk-estimator-id-31\" type=\"checkbox\" ><label for=\"sk-estimator-id-31\" class=\"sk-toggleable__label sk-toggleable__label-arrow\">Winsorizer</label><div class=\"sk-toggleable__content\"><pre>Winsorizer(capping_method=&#x27;iqr&#x27;, tail=&#x27;both&#x27;,\n",
       "           variables=[&#x27;sqft_living&#x27;, &#x27;sqft_above&#x27;, &#x27;sqft_basement&#x27;])</pre></div></div></div><div class=\"sk-item\"><div class=\"sk-estimator sk-toggleable\"><input class=\"sk-toggleable__control sk-hidden--visually\" id=\"sk-estimator-id-32\" type=\"checkbox\" ><label for=\"sk-estimator-id-32\" class=\"sk-toggleable__label sk-toggleable__label-arrow\">StandardScaler</label><div class=\"sk-toggleable__content\"><pre>StandardScaler()</pre></div></div></div></div></div></div></div></div><div class=\"sk-parallel-item\"><div class=\"sk-item\"><div class=\"sk-label-container\"><div class=\"sk-label sk-toggleable\"><input class=\"sk-toggleable__control sk-hidden--visually\" id=\"sk-estimator-id-33\" type=\"checkbox\" ><label for=\"sk-estimator-id-33\" class=\"sk-toggleable__label sk-toggleable__label-arrow\">Categorical</label><div class=\"sk-toggleable__content\"><pre>[&#x27;view&#x27;, &#x27;condition&#x27;, &#x27;area&#x27;]</pre></div></div></div><div class=\"sk-serial\"><div class=\"sk-item\"><div class=\"sk-estimator sk-toggleable\"><input class=\"sk-toggleable__control sk-hidden--visually\" id=\"sk-estimator-id-34\" type=\"checkbox\" ><label for=\"sk-estimator-id-34\" class=\"sk-toggleable__label sk-toggleable__label-arrow\">passthrough</label><div class=\"sk-toggleable__content\"><pre>passthrough</pre></div></div></div></div></div></div></div></div><div class=\"sk-item\"><div class=\"sk-estimator sk-toggleable\"><input class=\"sk-toggleable__control sk-hidden--visually\" id=\"sk-estimator-id-35\" type=\"checkbox\" ><label for=\"sk-estimator-id-35\" class=\"sk-toggleable__label sk-toggleable__label-arrow\">SGDRegressor</label><div class=\"sk-toggleable__content\"><pre>SGDRegressor()</pre></div></div></div></div></div></div></div></div></div></div></div></div>"
      ],
      "text/plain": [
       "GridSearchCV(cv=3,\n",
       "             estimator=Pipeline(steps=[('transormer',\n",
       "                                        ColumnTransformer(transformers=[('Numerical',\n",
       "                                                                         Pipeline(steps=[('winsorizer '\n",
       "                                                                                          'Gaussian',\n",
       "                                                                                          Winsorizer(tail='both',\n",
       "                                                                                                     variables=['bedrooms',\n",
       "                                                                                                                'floors'])),\n",
       "                                                                                         ('winsorizer '\n",
       "                                                                                          'iqr',\n",
       "                                                                                          Winsorizer(capping_method='iqr',\n",
       "                                                                                                     tail='both',\n",
       "                                                                                                     variables=['sqft_living',\n",
       "                                                                                                                'sqft_above',\n",
       "                                                                                                                'sqft_basement'])),\n",
       "                                                                                         ('scaler',\n",
       "                                                                                          StandardScaler())]),\n",
       "                                                                         ['bedrooms',\n",
       "                                                                          'bathrooms',\n",
       "                                                                          'sqft_living',\n",
       "                                                                          'floors',\n",
       "                                                                          'sqft_above',\n",
       "                                                                          'sqft_basement']),\n",
       "                                                                        ('Categorical',\n",
       "                                                                         'passthrough',\n",
       "                                                                         ['view',\n",
       "                                                                          'condition',\n",
       "                                                                          'area'])])),\n",
       "                                       ('regressor', SGDRegressor())]),\n",
       "             param_grid={'regressor__alpha': [0.0001, 0.001, 0.01, 0.1],\n",
       "                         'regressor__learning_rate': ['constant', 'optimal',\n",
       "                                                      'invscaling',\n",
       "                                                      'adaptive'],\n",
       "                         'regressor__max_iter': [1000, 2000, 3000]},\n",
       "             verbose=1)"
      ]
     },
     "execution_count": 69,
     "metadata": {},
     "output_type": "execute_result"
    }
   ],
   "source": [
    "model_sgd.fit(X_train,y_train)"
   ]
  },
  {
   "cell_type": "markdown",
   "metadata": {},
   "source": [
    "Melihat nilai rata-rata dari hasil pencarian hyperparameter"
   ]
  },
  {
   "cell_type": "code",
   "execution_count": 70,
   "metadata": {},
   "outputs": [
    {
     "name": "stdout",
     "output_type": "stream",
     "text": [
      "Nilai mean dari hasil pencarian hyperparameter adalah: 0.3230\n"
     ]
    }
   ],
   "source": [
    "mean_score = model_sgd.best_score_\n",
    "print(f\"Nilai mean dari hasil pencarian hyperparameter adalah: {mean_score:.4f}\")"
   ]
  },
  {
   "cell_type": "markdown",
   "metadata": {},
   "source": [
    "Melihat standar deviasi dari pencarian hyperparameter"
   ]
  },
  {
   "cell_type": "code",
   "execution_count": 71,
   "metadata": {},
   "outputs": [
    {
     "name": "stdout",
     "output_type": "stream",
     "text": [
      "Nilai standar deviasi dari hasil pencarian hyperparameter adalah: 0.1778\n"
     ]
    }
   ],
   "source": [
    "\n",
    "# Mendapatkan nilai standar deviasi dari hasil pencarian hyperparameter\n",
    "std_score = model_sgd.cv_results_['std_test_score'][model_sgd.best_index_]\n",
    "\n",
    "print(f\"Nilai standar deviasi dari hasil pencarian hyperparameter adalah: {std_score:.4f}\")"
   ]
  },
  {
   "cell_type": "markdown",
   "metadata": {},
   "source": [
    "Melihat Parameter Terbaik yang didapatkan"
   ]
  },
  {
   "cell_type": "code",
   "execution_count": 72,
   "metadata": {},
   "outputs": [
    {
     "name": "stdout",
     "output_type": "stream",
     "text": [
      "Parameter Terbaik: {'regressor__alpha': 0.001, 'regressor__learning_rate': 'adaptive', 'regressor__max_iter': 1000}\n"
     ]
    }
   ],
   "source": [
    "print(\"Parameter Terbaik:\", model_sgd.best_params_)"
   ]
  },
  {
   "cell_type": "markdown",
   "metadata": {},
   "source": [
    "`INSIHGT:`\n",
    "- Nilai alpha / parameter regularisasi terbaik adalah 0.0001 \n",
    "- Learning rate / Metode pembelajaran terbaik adalah Adaptive\n",
    "- Nilai Max_iter terbaik adalah 3000"
   ]
  },
  {
   "cell_type": "markdown",
   "metadata": {},
   "source": [
    "Membuat variabel baru model_sgd_best untuk menyimpan hasil parameter terbaik"
   ]
  },
  {
   "cell_type": "code",
   "execution_count": 73,
   "metadata": {},
   "outputs": [],
   "source": [
    "model_sgd_best = model_sgd.best_estimator_"
   ]
  },
  {
   "cell_type": "markdown",
   "metadata": {},
   "source": [
    "### 2. Train dengan SGD Regression menggunakan parameter terbaik"
   ]
  },
  {
   "cell_type": "code",
   "execution_count": 74,
   "metadata": {},
   "outputs": [
    {
     "name": "stdout",
     "output_type": "stream",
     "text": [
      "R2 Score Pada data Train: 0.21523791544729987\n"
     ]
    }
   ],
   "source": [
    "# Menggunakan model SVM terbaik untuk membuat prediksi\n",
    "y_train_pred = model_sgd_best.predict(X_train)\n",
    "\n",
    "# Evaluasi model SVM terbaik\n",
    "r2_train_pred = r2_score(y_train, y_train_pred)\n",
    "\n",
    "# Cetak hasil evaluasi\n",
    "print(\"R2 Score Pada data Train:\", r2_train_pred)"
   ]
  },
  {
   "cell_type": "code",
   "execution_count": 75,
   "metadata": {},
   "outputs": [
    {
     "name": "stdout",
     "output_type": "stream",
     "text": [
      "R2 Score pada Test  :  0.4850779385533365 \n",
      "\n"
     ]
    }
   ],
   "source": [
    "#menampilkan hasil data test dengan metode random search\n",
    "y_test_pred = model_sgd.predict(X_test)\n",
    "\n",
    "print('R2 Score pada Test  : ', r2_score(y_test, y_test_pred), '\\n')\n"
   ]
  },
  {
   "cell_type": "markdown",
   "metadata": {},
   "source": [
    "# **viii. Model Evaluation**"
   ]
  },
  {
   "cell_type": "markdown",
   "metadata": {},
   "source": [
    "### 1. Report SGD Regressor sebelum Hyperparameter Tuning"
   ]
  },
  {
   "cell_type": "code",
   "execution_count": 76,
   "metadata": {},
   "outputs": [
    {
     "data": {
      "text/html": [
       "<div>\n",
       "<style scoped>\n",
       "    .dataframe tbody tr th:only-of-type {\n",
       "        vertical-align: middle;\n",
       "    }\n",
       "\n",
       "    .dataframe tbody tr th {\n",
       "        vertical-align: top;\n",
       "    }\n",
       "\n",
       "    .dataframe thead th {\n",
       "        text-align: right;\n",
       "    }\n",
       "</style>\n",
       "<table border=\"1\" class=\"dataframe\">\n",
       "  <thead>\n",
       "    <tr style=\"text-align: right;\">\n",
       "      <th></th>\n",
       "      <th>Model Default SGD Regressor</th>\n",
       "    </tr>\n",
       "  </thead>\n",
       "  <tbody>\n",
       "    <tr>\n",
       "      <th>test - MAE</th>\n",
       "      <td>1.571971e+05</td>\n",
       "    </tr>\n",
       "    <tr>\n",
       "      <th>test - MSE</th>\n",
       "      <td>6.114517e+10</td>\n",
       "    </tr>\n",
       "    <tr>\n",
       "      <th>test - RMSE</th>\n",
       "      <td>2.472755e+05</td>\n",
       "    </tr>\n",
       "    <tr>\n",
       "      <th>test - r2</th>\n",
       "      <td>4.929153e-01</td>\n",
       "    </tr>\n",
       "    <tr>\n",
       "      <th>train - MAE</th>\n",
       "      <td>1.616644e+05</td>\n",
       "    </tr>\n",
       "    <tr>\n",
       "      <th>train - MSE</th>\n",
       "      <td>2.916879e+11</td>\n",
       "    </tr>\n",
       "    <tr>\n",
       "      <th>train - RMSE</th>\n",
       "      <td>5.400814e+05</td>\n",
       "    </tr>\n",
       "    <tr>\n",
       "      <th>train - r2</th>\n",
       "      <td>2.059368e-01</td>\n",
       "    </tr>\n",
       "  </tbody>\n",
       "</table>\n",
       "</div>"
      ],
      "text/plain": [
       "              Model Default SGD Regressor\n",
       "test - MAE                   1.571971e+05\n",
       "test - MSE                   6.114517e+10\n",
       "test - RMSE                  2.472755e+05\n",
       "test - r2                    4.929153e-01\n",
       "train - MAE                  1.616644e+05\n",
       "train - MSE                  2.916879e+11\n",
       "train - RMSE                 5.400814e+05\n",
       "train - r2                   2.059368e-01"
      ]
     },
     "execution_count": 76,
     "metadata": {},
     "output_type": "execute_result"
    }
   ],
   "source": [
    "all_reports = {}  # Dictionary untuk menyimpan laporan kinerja\n",
    "\n",
    "# Fungsi untuk membuat laporan kinerja\n",
    "def performance_report(all_reports, y_test, y_test_sgd, y_train, y_train_sgd, name):\n",
    "    score_reports = {\n",
    "        'test - r2': r2_score(y_test, y_test_sgd),\n",
    "        'test - MAE': mean_absolute_error(y_test, y_test_sgd),\n",
    "        'test - MSE': mean_squared_error(y_test, y_test_sgd),\n",
    "        'test - RMSE': np.sqrt(mean_squared_error(y_test, y_test_sgd)),\n",
    "        'train - r2': r2_score(y_train,y_train_sgd),\n",
    "        'train - MAE': mean_absolute_error(y_train,y_train_sgd),\n",
    "        'train - MSE': mean_squared_error(y_train,y_train_sgd),\n",
    "        'train - RMSE': np.sqrt(mean_squared_error(y_train,y_train_sgd))\n",
    "        \n",
    "        \n",
    "\n",
    "        \n",
    "\n",
    "    }\n",
    "    all_reports[name] = score_reports\n",
    "    return all_reports\n",
    "\n",
    "# Memanggil fungsi \n",
    "reports_default = performance_report(all_reports,y_test, y_test_sgd,y_train,y_train_sgd, 'Model Default SGD Regressor')\n",
    "\n",
    "# Menampilkan laporan kinerja dalam bentuk DataFrame\n",
    "pd.DataFrame(reports_default)"
   ]
  },
  {
   "cell_type": "markdown",
   "metadata": {},
   "source": [
    "### 2. Report Setelah Hyperparameter Tuning"
   ]
  },
  {
   "cell_type": "code",
   "execution_count": 77,
   "metadata": {},
   "outputs": [
    {
     "data": {
      "text/html": [
       "<div>\n",
       "<style scoped>\n",
       "    .dataframe tbody tr th:only-of-type {\n",
       "        vertical-align: middle;\n",
       "    }\n",
       "\n",
       "    .dataframe tbody tr th {\n",
       "        vertical-align: top;\n",
       "    }\n",
       "\n",
       "    .dataframe thead th {\n",
       "        text-align: right;\n",
       "    }\n",
       "</style>\n",
       "<table border=\"1\" class=\"dataframe\">\n",
       "  <thead>\n",
       "    <tr style=\"text-align: right;\">\n",
       "      <th></th>\n",
       "      <th>Model Default SGD Regressor</th>\n",
       "      <th>Model SGD Regressor Hasil Hyper Parameter Tuning</th>\n",
       "    </tr>\n",
       "  </thead>\n",
       "  <tbody>\n",
       "    <tr>\n",
       "      <th>test - r2</th>\n",
       "      <td>4.929153e-01</td>\n",
       "      <td>4.850779e-01</td>\n",
       "    </tr>\n",
       "    <tr>\n",
       "      <th>test - MAE</th>\n",
       "      <td>1.571971e+05</td>\n",
       "      <td>1.578556e+05</td>\n",
       "    </tr>\n",
       "    <tr>\n",
       "      <th>test - MSE</th>\n",
       "      <td>6.114517e+10</td>\n",
       "      <td>6.209021e+10</td>\n",
       "    </tr>\n",
       "    <tr>\n",
       "      <th>test - RMSE</th>\n",
       "      <td>2.472755e+05</td>\n",
       "      <td>2.491791e+05</td>\n",
       "    </tr>\n",
       "    <tr>\n",
       "      <th>train - r2</th>\n",
       "      <td>2.059368e-01</td>\n",
       "      <td>2.152379e-01</td>\n",
       "    </tr>\n",
       "    <tr>\n",
       "      <th>train - MAE</th>\n",
       "      <td>1.616644e+05</td>\n",
       "      <td>1.626533e+05</td>\n",
       "    </tr>\n",
       "    <tr>\n",
       "      <th>train - MSE</th>\n",
       "      <td>2.916879e+11</td>\n",
       "      <td>2.882713e+11</td>\n",
       "    </tr>\n",
       "    <tr>\n",
       "      <th>train - RMSE</th>\n",
       "      <td>5.400814e+05</td>\n",
       "      <td>5.369090e+05</td>\n",
       "    </tr>\n",
       "  </tbody>\n",
       "</table>\n",
       "</div>"
      ],
      "text/plain": [
       "              Model Default SGD Regressor  \\\n",
       "test - r2                    4.929153e-01   \n",
       "test - MAE                   1.571971e+05   \n",
       "test - MSE                   6.114517e+10   \n",
       "test - RMSE                  2.472755e+05   \n",
       "train - r2                   2.059368e-01   \n",
       "train - MAE                  1.616644e+05   \n",
       "train - MSE                  2.916879e+11   \n",
       "train - RMSE                 5.400814e+05   \n",
       "\n",
       "              Model SGD Regressor Hasil Hyper Parameter Tuning  \n",
       "test - r2                                         4.850779e-01  \n",
       "test - MAE                                        1.578556e+05  \n",
       "test - MSE                                        6.209021e+10  \n",
       "test - RMSE                                       2.491791e+05  \n",
       "train - r2                                        2.152379e-01  \n",
       "train - MAE                                       1.626533e+05  \n",
       "train - MSE                                       2.882713e+11  \n",
       "train - RMSE                                      5.369090e+05  "
      ]
     },
     "execution_count": 77,
     "metadata": {},
     "output_type": "execute_result"
    }
   ],
   "source": [
    "# Memanggil fungsi \n",
    "reports_default = performance_report(all_reports,y_test, y_test_pred,y_train,y_train_pred, 'Model SGD Regressor Hasil Hyper Parameter Tuning')\n",
    "\n",
    "# Menampilkan laporan kinerja dalam bentuk DataFrame\n",
    "pd.DataFrame(reports_default)"
   ]
  },
  {
   "cell_type": "markdown",
   "metadata": {},
   "source": [
    "Berikut Grafik plot data asli dan hasil prediksi"
   ]
  },
  {
   "cell_type": "code",
   "execution_count": 78,
   "metadata": {},
   "outputs": [
    {
     "data": {
      "image/png": "[encoded data removed]",
      "text/plain": [
       "<Figure size 1000x500 with 1 Axes>"
      ]
     },
     "metadata": {},
     "output_type": "display_data"
    }
   ],
   "source": [
    "#plot data asli dan hasil prediksi\n",
    "x_ax = range(len(y_test))\n",
    "plt.plot(x_ax, y_test, linewidth=1, label=\"original\")\n",
    "plt.plot(x_ax, y_test_pred, linewidth=1.1, label=\"predicted\")\n",
    "plt.title(\"y-test and y-predicted data\")\n",
    "plt.xlabel('X-axis')\n",
    "plt.ylabel('Y-axis')\n",
    "plt.legend(loc='best',fancybox=True, shadow=True)\n",
    "plt.grid(True)\n",
    "plt.show() "
   ]
  },
  {
   "cell_type": "markdown",
   "metadata": {},
   "source": [
    "### 3. Kesimpulan Model Evaluation"
   ]
  },
  {
   "cell_type": "markdown",
   "metadata": {},
   "source": [
    "- R2 mengukur sejauh mana variasi dalam variabel dependen yang dapat dijelaskan oleh model regresi. Nilai R² berkisar antara 0 hingga 1, dan semakin tinggi nilainya, semakin baik modelnya.\n",
    "\n",
    "- Pada data train setelah hyperparameter tuning , model dapat memprediksi dengan tingkat keberhasilan 21% persen dimana belum akurat namun saat test sebesar 48%  persen.\n",
    "\n",
    "- MSE rata-rata dari kuadrat perbedaan antara prediksi model dengan nilai aktual pada test set adalah sekitar 246231.Artinya errornya masih sangat tinggi. Semakin rendah nilai MSE, semakin baik kinerja model Anda dalam memprediksi data pada test set. Dengan kata lain, model cenderung memberikan prediksi yang mendekati nilai aktual pada data test set jika nilai MSE rendah. Sebaliknya, jika nilai MSE tinggi, maka model Anda mungkin memiliki tingkat kesalahan yang besar dalam memprediksi data test set.\n",
    "\n",
    "- Nilai RMSE sebesar 5.410283e+05\tmenunjukkan bahwa, secara rata-rata, prediksi model memiliki kesalahan sekitar 541028.3\t unit (misalnya dalam konteks data 'price' adalah mata uang $) terhadap nilai aktual pada data test set.\n",
    "\n",
    "- Hasil MAE menunjukan angka 156201.2 yang termasuk besar untuk error , arti angka ini adalah Model dapat memprediksi 'Price' dengan range A sampai B, dimana A = 'price'prediction - 156201.2 dan B = 'price'prediction + 156201.2\n",
    "\n",
    "    Misal : Hasil prediksi harga rumah $800.000, maka range yang dihasilkan adalah $643799 - $956201\n",
    "\n",
    "- Nilai alpha / parameter regularisasi terbaik untuk SGD Regressor pada model ini adalah 0.0001\n",
    "\n",
    "- Learning rate / Metode pembelajaran terbaik pada kasus ini adalah Adaptive\n",
    "\n",
    "- Nilai Max_iter terbaik pada kasus ini adalah 3000\n",
    "\n",
    "- Model yang digunakan masih sangat under_fit . Namun tetap digunakan karena memiliki nilai yang lebih baik dibandingkan model lainnya."
   ]
  },
  {
   "cell_type": "markdown",
   "metadata": {},
   "source": [
    "# **ix. Model Saving**"
   ]
  },
  {
   "cell_type": "markdown",
   "metadata": {},
   "source": [
    "> Pada bagian ini, dilakukan proses penyimpanan model dan file-file lain yang terkait dengan hasil proses pembuatan model. Dengan melihat hasil Model Evaluation, pilihlah satu model terbaik untuk disimpan. Model terbaik ini akan digunakan kembali dalam melakukan Model Inference dan Model Deployment."
   ]
  },
  {
   "cell_type": "code",
   "execution_count": 79,
   "metadata": {},
   "outputs": [
    {
     "data": {
      "text/html": [
       "<style>#sk-container-id-5 {color: black;}#sk-container-id-5 pre{padding: 0;}#sk-container-id-5 div.sk-toggleable {background-color: white;}#sk-container-id-5 label.sk-toggleable__label {cursor: pointer;display: block;width: 100%;margin-bottom: 0;padding: 0.3em;box-sizing: border-box;text-align: center;}#sk-container-id-5 label.sk-toggleable__label-arrow:before {content: \"▸\";float: left;margin-right: 0.25em;color: #696969;}#sk-container-id-5 label.sk-toggleable__label-arrow:hover:before {color: black;}#sk-container-id-5 div.sk-estimator:hover label.sk-toggleable__label-arrow:before {color: black;}#sk-container-id-5 div.sk-toggleable__content {max-height: 0;max-width: 0;overflow: hidden;text-align: left;background-color: #f0f8ff;}#sk-container-id-5 div.sk-toggleable__content pre {margin: 0.2em;color: black;border-radius: 0.25em;background-color: #f0f8ff;}#sk-container-id-5 input.sk-toggleable__control:checked~div.sk-toggleable__content {max-height: 200px;max-width: 100%;overflow: auto;}#sk-container-id-5 input.sk-toggleable__control:checked~label.sk-toggleable__label-arrow:before {content: \"▾\";}#sk-container-id-5 div.sk-estimator input.sk-toggleable__control:checked~label.sk-toggleable__label {background-color: #d4ebff;}#sk-container-id-5 div.sk-label input.sk-toggleable__control:checked~label.sk-toggleable__label {background-color: #d4ebff;}#sk-container-id-5 input.sk-hidden--visually {border: 0;clip: rect(1px 1px 1px 1px);clip: rect(1px, 1px, 1px, 1px);height: 1px;margin: -1px;overflow: hidden;padding: 0;position: absolute;width: 1px;}#sk-container-id-5 div.sk-estimator {font-family: monospace;background-color: #f0f8ff;border: 1px dotted black;border-radius: 0.25em;box-sizing: border-box;margin-bottom: 0.5em;}#sk-container-id-5 div.sk-estimator:hover {background-color: #d4ebff;}#sk-container-id-5 div.sk-parallel-item::after {content: \"\";width: 100%;border-bottom: 1px solid gray;flex-grow: 1;}#sk-container-id-5 div.sk-label:hover label.sk-toggleable__label {background-color: #d4ebff;}#sk-container-id-5 div.sk-serial::before {content: \"\";position: absolute;border-left: 1px solid gray;box-sizing: border-box;top: 0;bottom: 0;left: 50%;z-index: 0;}#sk-container-id-5 div.sk-serial {display: flex;flex-direction: column;align-items: center;background-color: white;padding-right: 0.2em;padding-left: 0.2em;position: relative;}#sk-container-id-5 div.sk-item {position: relative;z-index: 1;}#sk-container-id-5 div.sk-parallel {display: flex;align-items: stretch;justify-content: center;background-color: white;position: relative;}#sk-container-id-5 div.sk-item::before, #sk-container-id-5 div.sk-parallel-item::before {content: \"\";position: absolute;border-left: 1px solid gray;box-sizing: border-box;top: 0;bottom: 0;left: 50%;z-index: -1;}#sk-container-id-5 div.sk-parallel-item {display: flex;flex-direction: column;z-index: 1;position: relative;background-color: white;}#sk-container-id-5 div.sk-parallel-item:first-child::after {align-self: flex-end;width: 50%;}#sk-container-id-5 div.sk-parallel-item:last-child::after {align-self: flex-start;width: 50%;}#sk-container-id-5 div.sk-parallel-item:only-child::after {width: 0;}#sk-container-id-5 div.sk-dashed-wrapped {border: 1px dashed gray;margin: 0 0.4em 0.5em 0.4em;box-sizing: border-box;padding-bottom: 0.4em;background-color: white;}#sk-container-id-5 div.sk-label label {font-family: monospace;font-weight: bold;display: inline-block;line-height: 1.2em;}#sk-container-id-5 div.sk-label-container {text-align: center;}#sk-container-id-5 div.sk-container {/* jupyter's `normalize.less` sets `[hidden] { display: none; }` but bootstrap.min.css set `[hidden] { display: none !important; }` so we also need the `!important` here to be able to override the default hidden behavior on the sphinx rendered scikit-learn.org. See: https://github.com/scikit-learn/scikit-learn/issues/21755 */display: inline-block !important;position: relative;}#sk-container-id-5 div.sk-text-repr-fallback {display: none;}</style><div id=\"sk-container-id-5\" class=\"sk-top-container\"><div class=\"sk-text-repr-fallback\"><pre>Pipeline(steps=[(&#x27;transormer&#x27;,\n",
       "                 ColumnTransformer(transformers=[(&#x27;Numerical&#x27;,\n",
       "                                                  Pipeline(steps=[(&#x27;winsorizer &#x27;\n",
       "                                                                   &#x27;Gaussian&#x27;,\n",
       "                                                                   Winsorizer(tail=&#x27;both&#x27;,\n",
       "                                                                              variables=[&#x27;bedrooms&#x27;,\n",
       "                                                                                         &#x27;floors&#x27;])),\n",
       "                                                                  (&#x27;winsorizer &#x27;\n",
       "                                                                   &#x27;iqr&#x27;,\n",
       "                                                                   Winsorizer(capping_method=&#x27;iqr&#x27;,\n",
       "                                                                              tail=&#x27;both&#x27;,\n",
       "                                                                              variables=[&#x27;sqft_living&#x27;,\n",
       "                                                                                         &#x27;sqft_above&#x27;,\n",
       "                                                                                         &#x27;sqft_basement&#x27;])),\n",
       "                                                                  (&#x27;scaler&#x27;,\n",
       "                                                                   StandardScaler())]),\n",
       "                                                  [&#x27;bedrooms&#x27;, &#x27;bathrooms&#x27;,\n",
       "                                                   &#x27;sqft_living&#x27;, &#x27;floors&#x27;,\n",
       "                                                   &#x27;sqft_above&#x27;,\n",
       "                                                   &#x27;sqft_basement&#x27;]),\n",
       "                                                 (&#x27;Categorical&#x27;, &#x27;passthrough&#x27;,\n",
       "                                                  [&#x27;view&#x27;, &#x27;condition&#x27;,\n",
       "                                                   &#x27;area&#x27;])])),\n",
       "                (&#x27;regressor&#x27;, SGDRegressor())])</pre><b>In a Jupyter environment, please rerun this cell to show the HTML representation or trust the notebook. <br />On GitHub, the HTML representation is unable to render, please try loading this page with nbviewer.org.</b></div><div class=\"sk-container\" hidden><div class=\"sk-item sk-dashed-wrapped\"><div class=\"sk-label-container\"><div class=\"sk-label sk-toggleable\"><input class=\"sk-toggleable__control sk-hidden--visually\" id=\"sk-estimator-id-36\" type=\"checkbox\" ><label for=\"sk-estimator-id-36\" class=\"sk-toggleable__label sk-toggleable__label-arrow\">Pipeline</label><div class=\"sk-toggleable__content\"><pre>Pipeline(steps=[(&#x27;transormer&#x27;,\n",
       "                 ColumnTransformer(transformers=[(&#x27;Numerical&#x27;,\n",
       "                                                  Pipeline(steps=[(&#x27;winsorizer &#x27;\n",
       "                                                                   &#x27;Gaussian&#x27;,\n",
       "                                                                   Winsorizer(tail=&#x27;both&#x27;,\n",
       "                                                                              variables=[&#x27;bedrooms&#x27;,\n",
       "                                                                                         &#x27;floors&#x27;])),\n",
       "                                                                  (&#x27;winsorizer &#x27;\n",
       "                                                                   &#x27;iqr&#x27;,\n",
       "                                                                   Winsorizer(capping_method=&#x27;iqr&#x27;,\n",
       "                                                                              tail=&#x27;both&#x27;,\n",
       "                                                                              variables=[&#x27;sqft_living&#x27;,\n",
       "                                                                                         &#x27;sqft_above&#x27;,\n",
       "                                                                                         &#x27;sqft_basement&#x27;])),\n",
       "                                                                  (&#x27;scaler&#x27;,\n",
       "                                                                   StandardScaler())]),\n",
       "                                                  [&#x27;bedrooms&#x27;, &#x27;bathrooms&#x27;,\n",
       "                                                   &#x27;sqft_living&#x27;, &#x27;floors&#x27;,\n",
       "                                                   &#x27;sqft_above&#x27;,\n",
       "                                                   &#x27;sqft_basement&#x27;]),\n",
       "                                                 (&#x27;Categorical&#x27;, &#x27;passthrough&#x27;,\n",
       "                                                  [&#x27;view&#x27;, &#x27;condition&#x27;,\n",
       "                                                   &#x27;area&#x27;])])),\n",
       "                (&#x27;regressor&#x27;, SGDRegressor())])</pre></div></div></div><div class=\"sk-serial\"><div class=\"sk-item sk-dashed-wrapped\"><div class=\"sk-label-container\"><div class=\"sk-label sk-toggleable\"><input class=\"sk-toggleable__control sk-hidden--visually\" id=\"sk-estimator-id-37\" type=\"checkbox\" ><label for=\"sk-estimator-id-37\" class=\"sk-toggleable__label sk-toggleable__label-arrow\">transormer: ColumnTransformer</label><div class=\"sk-toggleable__content\"><pre>ColumnTransformer(transformers=[(&#x27;Numerical&#x27;,\n",
       "                                 Pipeline(steps=[(&#x27;winsorizer Gaussian&#x27;,\n",
       "                                                  Winsorizer(tail=&#x27;both&#x27;,\n",
       "                                                             variables=[&#x27;bedrooms&#x27;,\n",
       "                                                                        &#x27;floors&#x27;])),\n",
       "                                                 (&#x27;winsorizer iqr&#x27;,\n",
       "                                                  Winsorizer(capping_method=&#x27;iqr&#x27;,\n",
       "                                                             tail=&#x27;both&#x27;,\n",
       "                                                             variables=[&#x27;sqft_living&#x27;,\n",
       "                                                                        &#x27;sqft_above&#x27;,\n",
       "                                                                        &#x27;sqft_basement&#x27;])),\n",
       "                                                 (&#x27;scaler&#x27;, StandardScaler())]),\n",
       "                                 [&#x27;bedrooms&#x27;, &#x27;bathrooms&#x27;, &#x27;sqft_living&#x27;,\n",
       "                                  &#x27;floors&#x27;, &#x27;sqft_above&#x27;, &#x27;sqft_basement&#x27;]),\n",
       "                                (&#x27;Categorical&#x27;, &#x27;passthrough&#x27;,\n",
       "                                 [&#x27;view&#x27;, &#x27;condition&#x27;, &#x27;area&#x27;])])</pre></div></div></div><div class=\"sk-parallel\"><div class=\"sk-parallel-item\"><div class=\"sk-item\"><div class=\"sk-label-container\"><div class=\"sk-label sk-toggleable\"><input class=\"sk-toggleable__control sk-hidden--visually\" id=\"sk-estimator-id-38\" type=\"checkbox\" ><label for=\"sk-estimator-id-38\" class=\"sk-toggleable__label sk-toggleable__label-arrow\">Numerical</label><div class=\"sk-toggleable__content\"><pre>[&#x27;bedrooms&#x27;, &#x27;bathrooms&#x27;, &#x27;sqft_living&#x27;, &#x27;floors&#x27;, &#x27;sqft_above&#x27;, &#x27;sqft_basement&#x27;]</pre></div></div></div><div class=\"sk-serial\"><div class=\"sk-item\"><div class=\"sk-serial\"><div class=\"sk-item\"><div class=\"sk-estimator sk-toggleable\"><input class=\"sk-toggleable__control sk-hidden--visually\" id=\"sk-estimator-id-39\" type=\"checkbox\" ><label for=\"sk-estimator-id-39\" class=\"sk-toggleable__label sk-toggleable__label-arrow\">Winsorizer</label><div class=\"sk-toggleable__content\"><pre>Winsorizer(tail=&#x27;both&#x27;, variables=[&#x27;bedrooms&#x27;, &#x27;floors&#x27;])</pre></div></div></div><div class=\"sk-item\"><div class=\"sk-estimator sk-toggleable\"><input class=\"sk-toggleable__control sk-hidden--visually\" id=\"sk-estimator-id-40\" type=\"checkbox\" ><label for=\"sk-estimator-id-40\" class=\"sk-toggleable__label sk-toggleable__label-arrow\">Winsorizer</label><div class=\"sk-toggleable__content\"><pre>Winsorizer(capping_method=&#x27;iqr&#x27;, tail=&#x27;both&#x27;,\n",
       "           variables=[&#x27;sqft_living&#x27;, &#x27;sqft_above&#x27;, &#x27;sqft_basement&#x27;])</pre></div></div></div><div class=\"sk-item\"><div class=\"sk-estimator sk-toggleable\"><input class=\"sk-toggleable__control sk-hidden--visually\" id=\"sk-estimator-id-41\" type=\"checkbox\" ><label for=\"sk-estimator-id-41\" class=\"sk-toggleable__label sk-toggleable__label-arrow\">StandardScaler</label><div class=\"sk-toggleable__content\"><pre>StandardScaler()</pre></div></div></div></div></div></div></div></div><div class=\"sk-parallel-item\"><div class=\"sk-item\"><div class=\"sk-label-container\"><div class=\"sk-label sk-toggleable\"><input class=\"sk-toggleable__control sk-hidden--visually\" id=\"sk-estimator-id-42\" type=\"checkbox\" ><label for=\"sk-estimator-id-42\" class=\"sk-toggleable__label sk-toggleable__label-arrow\">Categorical</label><div class=\"sk-toggleable__content\"><pre>[&#x27;view&#x27;, &#x27;condition&#x27;, &#x27;area&#x27;]</pre></div></div></div><div class=\"sk-serial\"><div class=\"sk-item\"><div class=\"sk-estimator sk-toggleable\"><input class=\"sk-toggleable__control sk-hidden--visually\" id=\"sk-estimator-id-43\" type=\"checkbox\" ><label for=\"sk-estimator-id-43\" class=\"sk-toggleable__label sk-toggleable__label-arrow\">passthrough</label><div class=\"sk-toggleable__content\"><pre>passthrough</pre></div></div></div></div></div></div></div></div><div class=\"sk-item\"><div class=\"sk-estimator sk-toggleable\"><input class=\"sk-toggleable__control sk-hidden--visually\" id=\"sk-estimator-id-44\" type=\"checkbox\" ><label for=\"sk-estimator-id-44\" class=\"sk-toggleable__label sk-toggleable__label-arrow\">SGDRegressor</label><div class=\"sk-toggleable__content\"><pre>SGDRegressor()</pre></div></div></div></div></div></div></div>"
      ],
      "text/plain": [
       "Pipeline(steps=[('transormer',\n",
       "                 ColumnTransformer(transformers=[('Numerical',\n",
       "                                                  Pipeline(steps=[('winsorizer '\n",
       "                                                                   'Gaussian',\n",
       "                                                                   Winsorizer(tail='both',\n",
       "                                                                              variables=['bedrooms',\n",
       "                                                                                         'floors'])),\n",
       "                                                                  ('winsorizer '\n",
       "                                                                   'iqr',\n",
       "                                                                   Winsorizer(capping_method='iqr',\n",
       "                                                                              tail='both',\n",
       "                                                                              variables=['sqft_living',\n",
       "                                                                                         'sqft_above',\n",
       "                                                                                         'sqft_basement'])),\n",
       "                                                                  ('scaler',\n",
       "                                                                   StandardScaler())]),\n",
       "                                                  ['bedrooms', 'bathrooms',\n",
       "                                                   'sqft_living', 'floors',\n",
       "                                                   'sqft_above',\n",
       "                                                   'sqft_basement']),\n",
       "                                                 ('Categorical', 'passthrough',\n",
       "                                                  ['view', 'condition',\n",
       "                                                   'area'])])),\n",
       "                ('regressor', SGDRegressor())])"
      ]
     },
     "execution_count": 79,
     "metadata": {},
     "output_type": "execute_result"
    }
   ],
   "source": [
    "pipe_sgd"
   ]
  },
  {
   "cell_type": "code",
   "execution_count": 80,
   "metadata": {},
   "outputs": [],
   "source": [
    "# Menyimpan model menggunakan pickle\n",
    "with open('final_pipeline1.pkl', 'wb') as file:\n",
    "    pickle.dump((pipe_sgd), file)"
   ]
  },
  {
   "cell_type": "markdown",
   "metadata": {},
   "source": [
    "# **x. Model Inference**"
   ]
  },
  {
   "cell_type": "markdown",
   "metadata": {},
   "source": [
    "Pada notebook `P1M2_nicholas_halasan_inference`"
   ]
  },
  {
   "cell_type": "markdown",
   "metadata": {},
   "source": [
    "# **xi. Conclusion**"
   ]
  },
  {
   "cell_type": "markdown",
   "metadata": {},
   "source": [
    "> Pada bagian terakhir ini, harus berisi kesimpulan yang mencerminkan hasil yang didapat dengan objective yang sudah ditulis di bagian pengenalan."
   ]
  },
  {
   "cell_type": "markdown",
   "metadata": {},
   "source": [
    "`BUSSINES:`\n",
    "\n",
    "- Setelah dicek keterhubungannya dengan Harga rumah di Washington,Amerika Serikat, ternyata ada beberapa faktor yang secara signifikan berpengaruh untuk terhadap harga rumah tersebut. Diantara lain Jumlah kamar tidur, Jumlah Kamar mandi , Luas ruang tamu, Luas bangunan diatas, Luas Basement, Letak geografis kota dengan Kota pusat Seattle, View / pemandangan dari rumah tersebut, Jumlah tingkat rumah , dan Kondisi dari rumah tersebut.\n",
    "\n",
    "- Tampaknya harus ditambahkan lagi untuk faktor-faktor apa saja yang dapat digunakan, sebagai contoh jarak rumah dengan pusat perbelanjaan , sekolah, rumah sakit dan lain-lain . \n",
    "\n",
    "- Rumah Yang menghadap pantai memiliki harga yang lebih tinggi\n",
    "\n",
    "- Konsumen tidak mementingkan apakah rumah pernah direnovasi atau tidak , yang terpenting kondisi rumah baik.\n",
    "\n",
    "- Usia rumah yang sudah tua bisa saja memiliki harga lebih tinggi dari rumah baru bila keaslian rumah nya tetap terjaga, biasanya target konsumen nya adalah orang-orang yang menyukai hal hal yang sudah berumur.\n",
    "\n",
    "`ABOUT MODEL` :\n",
    "\n",
    "- Dari semua model, digunakan model SGD Regressor yang memiliki r2 score tertinggi dari model lainnya.\n",
    "\n",
    "- Model rainforest, KNN, SVM, ADAboost regressor, memiliki nilai r2 yang negatif. Menunjukan tidak cocok untuk melakukan regressi terutama pada data ini.\n",
    "\n",
    "- Permodelan yang dibuat disini belum dapat memprediksi dengan akurat harga dengan berdasarkan faktor - faktor yang sudah disebutkan diatas. Dapat dikatakan akurat nilai r2 nya hanya 0.48\n",
    "\n",
    "- Hasil permodelan juga dapat dikatakan underfit , belum bisa digunakan untuk keperluan bussiness apalagi berskala besar.\n",
    "\n",
    "`KESIMPULAN` :\n",
    "\n",
    "**Kinerja Buruk**: Model memiliki kinerja yang kurang memuaskan dalam menjelaskan variabilitas harga properti.\n",
    "\n",
    "**Harus Diperbaiki**: Perlu dilakukan evaluasi lebih lanjut terhadap model untuk mengidentifikasi faktor-faktor yang memengaruhi performa buruknya.\n",
    "\n",
    "**Penyesuaian Model**: Diperlukan penyesuaian pada model, seperti penambahan fitur yang relevan, tuning parameter, atau penggunaan model yang lebih kompleks.\n",
    "\n",
    "\n",
    "`Langkah-langkah yang Dapat Diambil`:\n",
    "\n",
    "- Analisis Faktor-Faktor: Identifikasi faktor-faktor yang memiliki dampak signifikan terhadap prediksi harga dan pastikan model memperhitungkannya dengan benar.\n",
    "\n",
    "- Pengembangan Fitur: Pertimbangkan untuk menambahkan fitur tambahan yang mungkin memberikan informasi lebih lanjut terkait harga properti.\n",
    "\n",
    "- Tuning Hyperparameter: Lakukan tuning pada hyperparameter model untuk meningkatkan akurasi prediksi.\n",
    "\n",
    "- Penggunaan Model Lain: Pertimbangkan untuk menggunakan model regresi yang lebih kompleks atau menggabungkan beberapa model (ensemble) untuk meningkatkan kinerja"
   ]
  },
  {
   "cell_type": "markdown",
   "metadata": {},
   "source": [
    "# **CONCEPTUAL PROBLEM**"
   ]
  },
  {
   "cell_type": "markdown",
   "metadata": {},
   "source": [
    "## 1. Jelaskan latar belakang adanya bagging dan cara kerja bagging !"
   ]
  },
  {
   "cell_type": "markdown",
   "metadata": {},
   "source": [
    "- Latar belakang : merupakan teknik ensemble learning untuk meningkatkan kinerja model dengan menggabungkan prediksi dari beberapa model yang dibangun secara independen. Pendekatan ini digunakan untuk mengatasi overfitting, meningkatkan stabilitas model, dan mengurangi varians kesalahan prediksi.\n",
    "\n",
    "- Cara kerja : \n",
    "\n",
    "**Bootstrap Sampling**:\n",
    "\n",
    "Membangun beberapa set data pelatihan baru dengan melakukan bootstrap sampling. Bootstrap sampling melibatkan pengambilan sampel dengan penggantian dari data pelatihan asli. Sehingga setiap set data pelatihan baru dapat memiliki beberapa data yang sama dan beberapa data yang tidak termasuk.\n",
    "\n",
    "**Model Independen**:\n",
    "\n",
    "Untuk setiap set data pelatihan yang baru, model dibangun secara independen. Dalam konteks ini, model dapat berupa model yang sama (misalnya, pohon keputusan) atau jenis model yang berbeda.\n",
    "\n",
    "**Prediksi Individual**:\n",
    "\n",
    "Setiap model memberikan prediksi pada data pengujian yang belum pernah dilihat sebelumnya.\n",
    "\n",
    "**Aggregasi Prediksi**:\n",
    "\n",
    "Prediksi dari semua model diagregasi untuk menghasilkan prediksi akhir. Agregasi dapat dilakukan dengan cara seperti mengambil rata-rata (untuk regresi) atau melakukan voting (untuk klasifikasi)."
   ]
  },
  {
   "cell_type": "markdown",
   "metadata": {},
   "source": [
    "## 2. Jelaskan perbedaan cara kerja algoritma Random Forest dengan algoritma boosting yang Anda pilih !"
   ]
  },
  {
   "cell_type": "markdown",
   "metadata": {},
   "source": [
    "A. Random forest :\n",
    "Random Forest menggunakan teknik bagging dengan bootstrap sampling. Setiap pohon (model) dibangun pada subset acak dari data pelatihan dengan penggantian.\n",
    "Keuntungannya adalah  membantu mengurangi overfitting dan variabilitas model dengan memastikan bahwa setiap pohon melihat variasi yang berbeda dari data.\n",
    "\n",
    "B. AdaBoost Regression :\n",
    "Pada setiap iterasi, bobot diberikan pada data yang salah klasifikasi oleh model sebelumnya. Oleh karena itu, model berikutnya lebih fokus pada data yang sulit diklasifikasikan. Keuntungannya dapat memberikan perhatian lebih kepada data yang sulit, meningkatkan kinerja model pada kasus yang sulit.\n",
    "\n",
    "- Perbedaan Utama:\n",
    "\n",
    "**Cara Membangun Model**:\n",
    "\n",
    "Random Forest: Membangun model secara paralel dan independen pada subset data.\n",
    "\n",
    "AdaBoost: Membangun model secara berurutan, dengan memberikan lebih banyak perhatian pada data yang salah klasifikasi.\n",
    "\n",
    "**Bobot Data**:\n",
    "\n",
    "Random Forest: Tidak menggunakan bobot pada data, setiap pohon memiliki kontribusi yang sama.\n",
    "\n",
    "AdaBoost: Memberikan bobot pada data yang salah klasifikasi untuk memfokuskan perhatian model pada kasus sulit.\n",
    "\n"
   ]
  },
  {
   "cell_type": "markdown",
   "metadata": {},
   "source": [
    "## 3. Jelaskan apa yang dimaksud dengan Cross Validation !"
   ]
  },
  {
   "cell_type": "markdown",
   "metadata": {},
   "source": [
    "Cross-validation adalah sebuah teknik yang digunakan dalam machine learning untuk mengevaluasi kinerja model secara objektif. Tujuannya adalah untuk memahami seberapa baik model akan berperforma pada data yang belum pernah dilihat sebelumnya. Dalam cross-validation, data dibagi menjadi beberapa subset (fold) dan model dilatih serta diuji beberapa kali menggunakan kombinasi berbeda dari subset tersebut.\n",
    "\n",
    "Keuntungan : Menghindari Overfitting, Evaluasi yang Stabil, Pemilihan Model yang Optimal."
   ]
  }
 ],
 "metadata": {
  "kernelspec": {
   "display_name": "base",
   "language": "python",
   "name": "python3"
  },
  "language_info": {
   "codemirror_mode": {
    "name": "ipython",
    "version": 3
   },
   "file_extension": ".py",
   "mimetype": "text/x-python",
   "name": "python",
   "nbconvert_exporter": "python",
   "pygments_lexer": "ipython3",
   "version": "3.11.4"
  }
 },
 "nbformat": 4,
 "nbformat_minor": 2
}
